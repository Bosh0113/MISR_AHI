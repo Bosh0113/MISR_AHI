{
 "cells": [
  {
   "cell_type": "code",
   "execution_count": 1,
   "id": "5a592f7e",
   "metadata": {},
   "outputs": [],
   "source": [
    "import os\n",
    "import numpy\n",
    "from datetime import datetime, timedelta\n",
    "import xarray\n",
    "import random\n",
    "from scipy.stats import gaussian_kde, pearsonr\n",
    "from sklearn.linear_model import LinearRegression\n",
    "from sklearn.metrics import mean_squared_error, r2_score\n",
    "import matplotlib.transforms as mtransforms\n",
    "import math\n",
    "import matplotlib.pyplot as plt"
   ]
  },
  {
   "cell_type": "code",
   "execution_count": 2,
   "id": "556339a0",
   "metadata": {},
   "outputs": [],
   "source": [
    "WORK_SPACE = '/disk1/workspace/20240116'\n",
    "MOD_LSR_MA_FOLDER = '/disk1/workspace/20240116/data/MOD_Malay_45_2018_LSR'\n",
    "AHI_LSR_MA_FOLDER = '/disk1/workspace/20240116/data/AHI_Malay_45_2018_LSR'\n",
    "ahi_ac_timelist_npy = os.path.join('/disk1/workspace/20240116/process', 'MOD_RAY_Malay_45_clear_ahi_time.npy')\n",
    "# https://www-pm.larc.nasa.gov/cgi-bin/site/showdoc?mnemonic=SBAF\n",
    "# LandCover=* ReferenceSRF=AHI TargetSRF=MISR Units=PseudoScaledRadiance Regression=Linear\n",
    "# SR(AHI2MODIS) = SR(AHI)*Slope+Offset\n",
    "AHI2MODIS_SBAF = {   # slope, offset\n",
    "    '2_band3': [0.991, -0.0009574],      # Evergreen Broadleaf Forest\n",
    "    '2_band4': [0.986, 0.0003388],\n",
    "    '4_band3': [1.020, -0.001501],   # Deciduous Broadleaf Forest\n",
    "    '4_band4': [0.990, 0.000488],\n",
    "    '10_band3': [1.021, -0.000606],     # Grasslands\n",
    "    '10_band4': [0.993, 0.0001707],\n",
    "    '12_band3': [1.019, -0.001296],     # Croplands\n",
    "    '12_band4': [0.989, 0.0005334],\n",
    "}\n",
    "year_first_day_date = datetime.strptime('2018-01-01T00:00:00Z', \"%Y-%m-%dT%H:%M:%SZ\")\n",
    "# landcover Croplands 12\n",
    "# landcover DBF 4\n",
    "# landcover EBF 2\n",
    "# lc_idx = 12\n",
    "lc_idx = 4"
   ]
  },
  {
   "cell_type": "code",
   "execution_count": 3,
   "id": "17c68aa0",
   "metadata": {},
   "outputs": [],
   "source": [
    "cloudmask_folder = '/disk4/AHI_CloudMask'\n",
    "\n",
    "def is_clearsky_record_ex(matched_info_item):    \n",
    "    lon = float(matched_info_item[0])\n",
    "    lat = float(matched_info_item[1])\n",
    "    ahi_time_str = matched_info_item[2]\n",
    "\n",
    "    ahi_cm_dat = os.path.join(cloudmask_folder, ahi_time_str[:6], 'AHIcm.v0.'+ahi_time_str+'.dat')\n",
    "    cloudmask = None\n",
    "    cloudmask_res = 0.02\n",
    "    if not os.path.exists(ahi_cm_dat):\n",
    "        print('no file:', ahi_cm_dat)\n",
    "        cloudmask = numpy.zeros((6000, 6000))\n",
    "    else:\n",
    "        try:\n",
    "            cloudmask = numpy.fromfile(ahi_cm_dat, dtype=numpy.float32)\n",
    "            cloudmask[cloudmask < 0.95] = 0.   # cloud\n",
    "            cloudmask[cloudmask >= 0.95] = 1.\n",
    "            cloudmask = cloudmask.reshape(6000, 6000)   # 0.02°\n",
    "        except Exception as e:\n",
    "            print(e)\n",
    "            cloudmask = numpy.zeros((6000, 6000))\n",
    "\n",
    "    cm_lon_idx = int((lon-85.)/cloudmask_res)\n",
    "    cm_lat_idx = int((60.-lat)/cloudmask_res)\n",
    "    cm_roi_ex = cloudmask[cm_lat_idx-2:cm_lat_idx+2,cm_lon_idx-2:cm_lon_idx+2]\n",
    "    is_clearsky = cm_roi_ex.min()\n",
    "    \n",
    "    return is_clearsky"
   ]
  },
  {
   "cell_type": "code",
   "execution_count": 4,
   "id": "be4cfa12",
   "metadata": {},
   "outputs": [],
   "source": [
    "def read_modis_roi(lon_ex, lat_ex, modis_tif_file):\n",
    "    modis_ds = xarray.open_rasterio(modis_tif_file)[0]\n",
    "    roi_ds = modis_ds.interp(x=lon_ex, y=lat_ex, method=\"nearest\", kwargs={\"fill_value\": \"extrapolate\"}) # linear\n",
    "    ref_dn = numpy.array(roi_ds.values)*1.\n",
    "    ref_dn[ref_dn==-28672]=numpy.NaN\n",
    "    ref_v = ref_dn*0.0001\n",
    "    return ref_v\n",
    "\n",
    "\n",
    "def ahi_sr2modis_sr(ahi_sr_array, AHI2MODIS_para):\n",
    "    slope = AHI2MODIS_para[0]\n",
    "    offset = AHI2MODIS_para[1]\n",
    "    offset_array = numpy.ones_like(ahi_sr_array)\n",
    "    offset_array = offset_array * offset\n",
    "    return ahi_sr_array * slope + offset_array"
   ]
  },
  {
   "cell_type": "code",
   "execution_count": 5,
   "id": "78b1547b",
   "metadata": {},
   "outputs": [],
   "source": [
    "PIXEL_PAIRS_MAX = 1000\n",
    "\n",
    "\n",
    "def identifer(data):\n",
    "    down,up = numpy.nanpercentile(data,[0,75])\n",
    "    IQR = up-down\n",
    "    lower_limit = down - 1.5*IQR\n",
    "    upper_limit = up + 1.5*IQR\n",
    "    result = numpy.where(data > upper_limit,numpy.nan, data)\n",
    "    result = numpy.where(result < lower_limit,numpy.nan, result)\n",
    "    return result\n",
    "\n",
    "\n",
    "def add_right_cax(ax, pad, width):\n",
    "\n",
    "    axpos = ax.get_position()\n",
    "    caxpos = mtransforms.Bbox.from_extents(axpos.x1 + pad, axpos.y0, axpos.x1 + pad + width, axpos.y1)\n",
    "    cax = ax.figure.add_axes(caxpos)\n",
    "\n",
    "    return cax\n",
    "\n",
    "\n",
    "def mapping_scatter(Y, X, figure_title='demo', band_name='band3', axis_min=0.0, axis_max=0.5, save_flag=0):\n",
    "    # filter    \n",
    "#     if band_name == 'band3':\n",
    "#         axis_max = 0.3\n",
    "    \n",
    "    lim_x = numpy.copy(X)\n",
    "    lim_y = numpy.copy(Y)\n",
    "\n",
    "    up4_x = numpy.quantile(lim_x, 0.98, interpolation='higher')\n",
    "    up4_y = numpy.quantile(lim_y, 0.98, interpolation='higher')\n",
    "    lim_x[lim_x > up4_x] = numpy.nan\n",
    "    lim_y[lim_y > up4_y] = numpy.nan\n",
    "\n",
    "    lim_mask = (lim_x*lim_y)*0+1\n",
    "    temp_x = lim_x*lim_mask\n",
    "    temp_y = lim_y*lim_mask\n",
    "    temp_x = temp_x[~numpy.isnan(temp_x)]\n",
    "    temp_y = temp_y[~numpy.isnan(temp_y)]\n",
    "    \n",
    "    diff_array = abs(numpy.array(temp_y)-numpy.array(temp_x))/abs(numpy.minimum(numpy.array(temp_x), numpy.array(temp_y)))\n",
    "    diff_array_filtered = numpy.array(identifer(diff_array))\n",
    "    show_x = (diff_array_filtered*0+1)*temp_x\n",
    "    show_y = (diff_array_filtered*0+1)*temp_y\n",
    "    \n",
    "    X = show_x[~numpy.isnan(show_x)]\n",
    "    Y = show_y[~numpy.isnan(show_y)]\n",
    "\n",
    "    fig = plt.figure(figsize=(4, 4))\n",
    "    ax1 = fig.add_subplot(111, aspect='equal',facecolor='whitesmoke', alpha=0.1)\n",
    "    ax1.grid(linestyle='--', linewidth=0.3)\n",
    "\n",
    "    model = LinearRegression()\n",
    "    x = X.reshape(-1, 1)\n",
    "    model.fit(x, Y)\n",
    "    y_pred = model.predict(x)\n",
    "    xx = numpy.arange(axis_min, axis_max + 0.1, 0.05)\n",
    "    k = model.coef_[0]\n",
    "    b = model.intercept_\n",
    "    yy = k * xx + b\n",
    "\n",
    "    # rmse = math.sqrt(mean_squared_error(X, Y))\n",
    "    rmse = math.sqrt(mean_squared_error(Y, y_pred))\n",
    "    bias = numpy.mean(y_pred - Y)\n",
    "    print('bias:', bias)\n",
    "\n",
    "    N = len(X)\n",
    "    x = numpy.arange(axis_min, axis_max + 1)\n",
    "    y = 1 * x\n",
    "\n",
    "#     g_x, g_y = numpy.mgrid[axis_min:axis_max:500j, axis_min:axis_max:500j]\n",
    "#     positions = numpy.vstack([g_x.ravel(), g_y.ravel()])\n",
    "#     values = numpy.vstack([X, Y])\n",
    "#     kernel = gaussian_kde(values)\n",
    "#     Z = numpy.reshape(kernel(positions).T, g_x.shape)\n",
    "    \n",
    "    # Calculate the point density\n",
    "    xy = numpy.vstack([X, Y])\n",
    "    z = gaussian_kde(xy)(xy)\n",
    "    idx = z.argsort()\n",
    "    X, Y, z = X[idx], Y[idx], z[idx]\n",
    "    z = (z-numpy.min(z))/(numpy.max(z)-numpy.min(z))*100\n",
    "    im = ax1.scatter(X, Y, marker='o', c=z, s=8, cmap='turbo')\n",
    "\n",
    "    ax1.minorticks_on()\n",
    "    # x_major_locator = plt.MultipleLocator(5)\n",
    "    x_minor_locator = plt.MultipleLocator(0.05)\n",
    "    ax1.xaxis.set_minor_locator(x_minor_locator)\n",
    "    # ax.xaxis.set_major_locator(x_major_locator)\n",
    "    ax1.yaxis.set_minor_locator(x_minor_locator)\n",
    "    # ax.yaxis.set_major_locator(x_major_locator)\n",
    "\n",
    "    ax1.tick_params(axis=\"y\", which='minor', length=3, direction='in', labelsize=15)\n",
    "    ax1.tick_params(axis=\"y\", which='major', length=5, direction='in', labelsize=15)\n",
    "\n",
    "    ax1.tick_params(axis=\"x\", which='minor', length=3, direction='in', labelsize=15)\n",
    "    ax1.tick_params(axis=\"x\", which='major', length=5, direction='in', labelsize=15)\n",
    "\n",
    "    # ax1.spines['right'].set_color('none')\n",
    "    # ax1.spines['top'].set_color('none')\n",
    "    ax1.spines['left'].set_linewidth(1)\n",
    "    ax1.spines['bottom'].set_linewidth(1)\n",
    "\n",
    "    ax1.set_xticks(numpy.arange(axis_min, axis_max + 0.1, 0.1))\n",
    "    ax1.set_yticks(numpy.arange(axis_min + 0.1, axis_max + 0.1, 0.1))\n",
    "\n",
    "    band_label = {\n",
    "        'band3': 'Band3',\n",
    "        'band4': 'Band4',\n",
    "    }\n",
    "\n",
    "    ax1.set_ylabel(\"AHI LSR\", fontsize=15)\n",
    "    ax1.set_xlabel(\"MODIS LSR\", fontsize=15)\n",
    "\n",
    "#     ax1.imshow(numpy.rot90(Z), cmap=plt.cm.gist_earth_r, extent=[axis_min, axis_max, axis_min, axis_max], alpha=0.8, zorder=0)\n",
    "#     ax1.plot(X, Y, 'k.', markersize=0.5, alpha=0.8, zorder=4)\n",
    "    ax1.plot(x, y, color='k', linewidth=1, linestyle='-', zorder=1)\n",
    "    ax1.plot(xx, yy, color='r', linewidth=1, linestyle='-.', zorder=2)\n",
    "\n",
    "    r_, p = pearsonr(X, Y)\n",
    "    p_str = '%.3e' % p\n",
    "    \n",
    "    label_str = label_str = 'y = {}x + {}\\nRMSE = {}\\nr = {}\\n'.format(round(k, 2), round(b, 2), round(rmse, 3), round(r_, 2))\n",
    "    if b < 0:\n",
    "        label_str = label_str = 'y = {}x - {}\\nRMSE = {}\\nr = {}\\n'.format(round(k, 2), abs(round(b, 2)), round(rmse, 3), round(r_, 2))\n",
    "\n",
    "    text_x = axis_min + (axis_max - axis_min) * 0.07\n",
    "    text_y = axis_max - (axis_max - axis_min) * 0.35\n",
    "    ax1.text(text_x, text_y, s=label_str, fontsize=18)\n",
    "    \n",
    "    band_label = band_label[band_name]\n",
    "    text_x2 = axis_min + (axis_max - axis_min) * 0.7\n",
    "    text_y2 = axis_min + (axis_max - axis_min) * 0.1\n",
    "    if band_name == 'band3':\n",
    "        ax1.text(text_x2, text_y2, color='red', s=band_label, fontsize=18)\n",
    "    else:\n",
    "        ax1.text(text_x2, text_y2, color='firebrick', s=band_label, fontsize=18)\n",
    "\n",
    "    cax = add_right_cax(ax1, pad=0.01, width=0.03)\n",
    "    cb = fig.colorbar(im, cax=cax)\n",
    "    \n",
    "    ax1.set_xlim(axis_min, axis_max)\n",
    "    ax1.set_ylim(axis_min, axis_max)\n",
    "    \n",
    "    if save_flag:\n",
    "        mapping_folder = os.path.join(WORK_SPACE, 'display')\n",
    "        figure_folder = os.path.join(mapping_folder, str(PIXEL_PAIRS_MAX))\n",
    "        if not os.path.exists(figure_folder):\n",
    "            os.makedirs(figure_folder)\n",
    "        fig_filename = os.path.join(figure_folder, figure_title + '.png')\n",
    "        fig.savefig(fig_filename, dpi=1000, bbox_inches='tight')\n",
    "        print(fig_filename)\n",
    "        plt.close(fig)\n",
    "        plt.clf()\n",
    "    # plt.show()\n",
    "    \n",
    "    # slope r RMSE\n",
    "    return k, r_, rmse"
   ]
  },
  {
   "cell_type": "code",
   "execution_count": 6,
   "id": "485d7087",
   "metadata": {},
   "outputs": [],
   "source": [
    "ahi_ac_timelist = numpy.load(ahi_ac_timelist_npy)"
   ]
  },
  {
   "cell_type": "code",
   "execution_count": 7,
   "id": "65291fdc",
   "metadata": {},
   "outputs": [
    {
     "data": {
      "text/plain": [
       "array(['98.15', '14.05', '201810300340', '12'], dtype='<U12')"
      ]
     },
     "execution_count": 7,
     "metadata": {},
     "output_type": "execute_result"
    }
   ],
   "source": [
    "ahi_ac_timelist[0]"
   ]
  },
  {
   "cell_type": "code",
   "execution_count": 17,
   "id": "56512ed0",
   "metadata": {},
   "outputs": [],
   "source": [
    "modis_lsr_list_b3 = []\n",
    "ahi_lsr_list_b3 = []\n",
    "modis_lsr_list_b4 = []\n",
    "ahi_lsr_list_b4 = []\n",
    "for ahi_info_item in ahi_ac_timelist:\n",
    "    roi_lon = float(ahi_info_item[0])\n",
    "    roi_lat = float(ahi_info_item[1])\n",
    "    ahi_time = ahi_info_item[2]\n",
    "    roi_lc_idx = ahi_info_item[3]\n",
    "    if roi_lc_idx == str(lc_idx):\n",
    "        modis_day = ahi_time[:8]\n",
    "        current_time = datetime.strptime(modis_day + 'T23:59:59Z', \"%Y%m%dT%H:%M:%SZ\")\n",
    "        modis_doy = (current_time-year_first_day_date).days + 1\n",
    "        modis_doy_str = (3-len(str(modis_doy)))*'0'+str(modis_doy)\n",
    "\n",
    "        modis_geotiff_b3 = os.path.join(MOD_LSR_MA_FOLDER, 'MOD09GA.061_sur_refl_b01_1_doy2018'+modis_doy_str+'_aid0001.tif')\n",
    "        modis_geotiff_b4 = os.path.join(MOD_LSR_MA_FOLDER, 'MOD09GA.061_sur_refl_b02_1_doy2018'+modis_doy_str+'_aid0001.tif')\n",
    "\n",
    "        ahi_npy_b3 = os.path.join(AHI_LSR_MA_FOLDER, ahi_info_item[0]+'_'+ahi_info_item[1]+'_'+ahi_time+'_ac_band3.npy')\n",
    "        ahi_npy_b4 = os.path.join(AHI_LSR_MA_FOLDER, ahi_info_item[0]+'_'+ahi_info_item[1]+'_'+ahi_time+'_ac_band4.npy')\n",
    "\n",
    "        if os.path.exists(ahi_npy_b3):\n",
    "            if is_clearsky_record_ex(ahi_info_item):\n",
    "                # band3\n",
    "                roi_ahi_info_b3 = numpy.load(ahi_npy_b3, allow_pickle=True)[0]\n",
    "                roi_ahi_lsr_b3 = roi_ahi_info_b3['roi_ahi_sr']\n",
    "                roi_ahi_lons_b3 = roi_ahi_info_b3['roi_lons']\n",
    "                roi_ahi_lats_b3 = roi_ahi_info_b3['roi_lats']\n",
    "\n",
    "                roi_modis_lsr_b3 = read_modis_roi(roi_ahi_lons_b3, roi_ahi_lats_b3, modis_geotiff_b3)\n",
    "                roi_ahi2modis_lsr_b3=ahi_sr2modis_sr(roi_ahi_lsr_b3, AHI2MODIS_SBAF[str(lc_idx)+'_band3'])\n",
    "\n",
    "                modis_sr_1d_b3 = roi_modis_lsr_b3.flatten()\n",
    "                ahi_sr_1d_b3 = roi_ahi2modis_lsr_b3.flatten()\n",
    "\n",
    "                nan_indices_b3 = numpy.isnan(modis_sr_1d_b3) | numpy.isnan(ahi_sr_1d_b3)\n",
    "                modis_sr_1d_b3 = modis_sr_1d_b3[~nan_indices_b3]\n",
    "                ahi_sr_1d_b3 = ahi_sr_1d_b3[~nan_indices_b3]\n",
    "\n",
    "                modis_lsr_list_b3.extend(modis_sr_1d_b3)\n",
    "                ahi_lsr_list_b3.extend(ahi_sr_1d_b3)\n",
    "                # band4\n",
    "                roi_ahi_info_b4 = numpy.load(ahi_npy_b4, allow_pickle=True)[0]\n",
    "                roi_ahi_lsr_b4 = roi_ahi_info_b4['roi_ahi_sr']\n",
    "                roi_ahi_lons_b4 = roi_ahi_info_b4['roi_lons']\n",
    "                roi_ahi_lats_b4 = roi_ahi_info_b4['roi_lats']\n",
    "\n",
    "                roi_modis_lsr_b4 = read_modis_roi(roi_ahi_lons_b4, roi_ahi_lats_b4, modis_geotiff_b4)\n",
    "                roi_ahi2modis_lsr_b4=ahi_sr2modis_sr(roi_ahi_lsr_b4, AHI2MODIS_SBAF[str(lc_idx)+'_band4'])\n",
    "\n",
    "                modis_sr_1d_b4 = roi_modis_lsr_b4.flatten()\n",
    "                ahi_sr_1d_b4 = roi_ahi2modis_lsr_b4.flatten()\n",
    "\n",
    "                nan_indices_b4 = numpy.isnan(modis_sr_1d_b4) | numpy.isnan(ahi_sr_1d_b4)\n",
    "                modis_sr_1d_b4 = modis_sr_1d_b4[~nan_indices_b4]\n",
    "                ahi_sr_1d_b4 = ahi_sr_1d_b4[~nan_indices_b4]\n",
    "\n",
    "                modis_lsr_list_b4.extend(modis_sr_1d_b4)\n",
    "                ahi_lsr_list_b4.extend(ahi_sr_1d_b4)"
   ]
  },
  {
   "cell_type": "code",
   "execution_count": 18,
   "id": "a214e5c0",
   "metadata": {},
   "outputs": [],
   "source": [
    "if len(ahi_lsr_list_b3) > PIXEL_PAIRS_MAX:\n",
    "    # random pairs mapping\n",
    "    index_array = random.sample([idx for idx in range(len(ahi_lsr_list_b3))], PIXEL_PAIRS_MAX)\n",
    "    index_array = numpy.sort(index_array).tolist()\n",
    "\n",
    "    modis_lsr_pts_b3 = numpy.array(modis_lsr_list_b3)\n",
    "    show_modis_sr_b3 = modis_lsr_pts_b3[index_array]\n",
    "    ahi_lsr_pts_b3 = numpy.array(ahi_lsr_list_b3)\n",
    "    show_ahi_sr_b3 = ahi_lsr_pts_b3[index_array]\n",
    "    \n",
    "    modis_lsr_pts_b4 = numpy.array(modis_lsr_list_b4)\n",
    "    show_modis_sr_b4 = modis_lsr_pts_b4[index_array]\n",
    "    ahi_lsr_pts_b4 = numpy.array(ahi_lsr_list_b4)\n",
    "    show_ahi_sr_b4 = ahi_lsr_pts_b4[index_array]\n",
    "else:\n",
    "    show_modis_sr_b3 = numpy.array(modis_lsr_list_b3)\n",
    "    show_ahi_sr_b3 = numpy.array(ahi_lsr_list_b3)\n",
    "    show_modis_sr_b4 = numpy.array(modis_lsr_list_b4)\n",
    "    show_ahi_sr_b4 = numpy.array(ahi_lsr_list_b4)"
   ]
  },
  {
   "cell_type": "code",
   "execution_count": 19,
   "id": "b7062250",
   "metadata": {},
   "outputs": [
    {
     "name": "stdout",
     "output_type": "stream",
     "text": [
      "bias: 8.0953762212251e-18\n"
     ]
    },
    {
     "data": {
      "text/plain": [
       "(0.9633442887724156, 0.7348619537451223, 0.007091479793191128)"
      ]
     },
     "execution_count": 19,
     "metadata": {},
     "output_type": "execute_result"
    },
    {
     "data": {
      "image/png": "[encoded data removed]",
      "text/plain": [
       "<Figure size 288x288 with 2 Axes>"
      ]
     },
     "metadata": {
      "needs_background": "light"
     },
     "output_type": "display_data"
    }
   ],
   "source": [
    "figure_title = 'MOD_Malay_b3_'+str(lc_idx)\n",
    "mapping_scatter(show_ahi_sr_b3, show_modis_sr_b3, figure_title, 'band3', axis_min=0.0, axis_max=0.5,save_flag=0)"
   ]
  },
  {
   "cell_type": "code",
   "execution_count": 20,
   "id": "6d80ef38",
   "metadata": {},
   "outputs": [
    {
     "name": "stdout",
     "output_type": "stream",
     "text": [
      "bias: -2.4671622769447922e-17\n"
     ]
    },
    {
     "data": {
      "text/plain": [
       "(0.6615520556975831, 0.846598869014316, 0.01378073783215536)"
      ]
     },
     "execution_count": 20,
     "metadata": {},
     "output_type": "execute_result"
    },
    {
     "data": {
      "image/png": "[encoded data removed]",
      "text/plain": [
       "<Figure size 288x288 with 2 Axes>"
      ]
     },
     "metadata": {
      "needs_background": "light"
     },
     "output_type": "display_data"
    }
   ],
   "source": [
    "figure_title = 'MOD_Malay_b4_'+str(lc_idx)\n",
    "mapping_scatter(show_ahi_sr_b4, show_modis_sr_b4, figure_title, 'band4', axis_min=0.0, axis_max=0.8,save_flag=0)"
   ]
  }
 ],
 "metadata": {
  "kernelspec": {
   "display_name": "Python 3",
   "language": "python",
   "name": "python3"
  },
  "language_info": {
   "codemirror_mode": {
    "name": "ipython",
    "version": 3
   },
   "file_extension": ".py",
   "mimetype": "text/x-python",
   "name": "python",
   "nbconvert_exporter": "python",
   "pygments_lexer": "ipython3",
   "version": "3.6.8"
  }
 },
 "nbformat": 4,
 "nbformat_minor": 5
}
