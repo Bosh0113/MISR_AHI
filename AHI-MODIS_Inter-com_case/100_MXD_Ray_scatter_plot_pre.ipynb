{
 "cells": [
  {
   "cell_type": "code",
   "execution_count": 1,
   "id": "b45045c5",
   "metadata": {},
   "outputs": [],
   "source": [
    "import os\n",
    "import numpy\n",
    "from datetime import datetime, timedelta"
   ]
  },
  {
   "cell_type": "code",
   "execution_count": 2,
   "id": "fb8ff54f",
   "metadata": {},
   "outputs": [],
   "source": [
    "MXD = 'MOD'\n",
    "ws_folder = '/disk1/workspace/20240116'\n",
    "RAY_infos_npy = os.path.join(ws_folder, 'analysis', MXD+'03_RAY-matched_infos_10km_land.npy')"
   ]
  },
  {
   "cell_type": "code",
   "execution_count": 3,
   "id": "8796c653",
   "metadata": {},
   "outputs": [],
   "source": [
    "ray_matched_infos = numpy.load(RAY_infos_npy)"
   ]
  },
  {
   "cell_type": "code",
   "execution_count": 4,
   "id": "6f6f36cd",
   "metadata": {},
   "outputs": [],
   "source": [
    "pixel_res = 0.01\n",
    "ahi_llon = 85.0\n",
    "ahi_llat = 60.0\n",
    "\n",
    "MCD_landcover_npy = os.path.join(ws_folder, 'reference', 'MCD12Q1.006.LC.AHI01km.npy')\n",
    "mcd_landcover = numpy.load(MCD_landcover_npy)"
   ]
  },
  {
   "cell_type": "code",
   "execution_count": 5,
   "id": "30ed152d",
   "metadata": {},
   "outputs": [],
   "source": [
    "cloudmask_folder = '/disk4/AHI_CloudMask'\n",
    "\n",
    "def is_clearsky_record(matched_info_item):    \n",
    "    lon = float(matched_info_item[0][:-1])\n",
    "    lat = float(matched_info_item[1][:-1])\n",
    "    mxd_date = datetime.strptime(matched_info_item[2], \"%Y%m%d%H%M\")\n",
    "    ahi_date = mxd_date\n",
    "    if matched_info_item[2][-1:] =='5':\n",
    "        ahi_date = mxd_date + timedelta(minutes=5)\n",
    "    ahi_time_str = ahi_date.strftime(\"%Y%m%d%H%M\")\n",
    "    if ahi_time_str[-4:] == '0240':\n",
    "        ahi_date_temp = ahi_date - timedelta(minutes=10)\n",
    "        ahi_time_str = ahi_date_temp.strftime(\"%Y%m%d%H%M\")\n",
    "\n",
    "    ahi_cm_dat = os.path.join(cloudmask_folder, ahi_time_str[:6], 'AHIcm.v0.'+ahi_time_str+'.dat')\n",
    "    cloudmask = None\n",
    "    cloudmask_res = 0.02\n",
    "    if not os.path.exists(ahi_cm_dat):\n",
    "        print('no file:', ahi_cm_dat)\n",
    "        cloudmask = numpy.zeros((6000, 6000))\n",
    "    else:\n",
    "        try:\n",
    "            cloudmask = numpy.fromfile(ahi_cm_dat, dtype=numpy.float32)\n",
    "            cloudmask[cloudmask < 0.95] = 0.   # cloud\n",
    "            cloudmask[cloudmask >= 0.95] = 1.\n",
    "            cloudmask = cloudmask.reshape(6000, 6000)   # 0.02°\n",
    "        except Exception as e:\n",
    "            print(e)\n",
    "            cloudmask = numpy.zeros((6000, 6000))\n",
    "\n",
    "    cm_lon_idx = int((lon-85.)/cloudmask_res)\n",
    "    cm_lat_idx = int((60.-lat)/cloudmask_res)\n",
    "    is_clearsky = int(cloudmask[cm_lat_idx][cm_lon_idx])\n",
    "    \n",
    "    return is_clearsky, ahi_time_str"
   ]
  },
  {
   "cell_type": "code",
   "execution_count": 6,
   "id": "9134cc31",
   "metadata": {},
   "outputs": [
    {
     "name": "stdout",
     "output_type": "stream",
     "text": [
      "no file: /disk4/AHI_CloudMask/201810/AHIcm.v0.201810270310.dat\n",
      "no file: /disk4/AHI_CloudMask/201810/AHIcm.v0.201810270310.dat\n",
      "no file: /disk4/AHI_CloudMask/201810/AHIcm.v0.201810270310.dat\n",
      "no file: /disk4/AHI_CloudMask/201810/AHIcm.v0.201810270310.dat\n",
      "no file: /disk4/AHI_CloudMask/201810/AHIcm.v0.201810270310.dat\n",
      "no file: /disk4/AHI_CloudMask/201810/AHIcm.v0.201810270310.dat\n",
      "no file: /disk4/AHI_CloudMask/201810/AHIcm.v0.201810270310.dat\n",
      "no file: /disk4/AHI_CloudMask/201810/AHIcm.v0.201810270310.dat\n"
     ]
    }
   ],
   "source": [
    "filter_infos = []\n",
    "ahi_time_list = []\n",
    "for ray_matched_info in ray_matched_infos:\n",
    "    # within Malay 45°VZA region\n",
    "    lon = round(int(float(ray_matched_info[0])*100)/100,2)\n",
    "    lat = round(int(float(ray_matched_info[1])*100)/100,2)\n",
    "    if lon > 90 and lon < 110 and lat > -10 and lat < 15:\n",
    "        # landcover\n",
    "        lon_idx = int((lon - ahi_llon)/pixel_res)\n",
    "        lat_idx = int((ahi_llat - lat)/pixel_res)\n",
    "        landcover_idx = int(mcd_landcover[lat_idx][lon_idx])\n",
    "        if landcover_idx in [12, 4]:\n",
    "#             # between May to August\n",
    "#             month_str = ray_matched_info[2][4:6]\n",
    "#             if float(month_str) >= 5 and float(month_str) <= 8:\n",
    "            # is clear-sky\n",
    "            is_clearsky, ahi_time_str = is_clearsky_record(ray_matched_info)\n",
    "            if is_clearsky:\n",
    "                matched_info = ray_matched_info[:]\n",
    "                matched_info[0] = str(lon)\n",
    "                matched_info[1] = str(lat)\n",
    "                filter_infos.append(matched_info)\n",
    "                ahi_time_list.append(ahi_time_str)"
   ]
  },
  {
   "cell_type": "code",
   "execution_count": 7,
   "id": "0c23a986",
   "metadata": {},
   "outputs": [
    {
     "data": {
      "text/plain": [
       "47220"
      ]
     },
     "execution_count": 7,
     "metadata": {},
     "output_type": "execute_result"
    }
   ],
   "source": [
    "len(ray_matched_infos)"
   ]
  },
  {
   "cell_type": "code",
   "execution_count": 8,
   "id": "468f2691",
   "metadata": {},
   "outputs": [
    {
     "data": {
      "text/plain": [
       "1322"
      ]
     },
     "execution_count": 8,
     "metadata": {},
     "output_type": "execute_result"
    }
   ],
   "source": [
    "len(filter_infos)"
   ]
  },
  {
   "cell_type": "code",
   "execution_count": 9,
   "id": "91f6e20f",
   "metadata": {},
   "outputs": [],
   "source": [
    "numpy.save(os.path.join(ws_folder, 'process', 'MOD_RAY_Malay_45_clear.npy'), numpy.array(filter_infos))"
   ]
  },
  {
   "cell_type": "code",
   "execution_count": 10,
   "id": "47968914",
   "metadata": {},
   "outputs": [],
   "source": [
    "ahi_ac_list = []\n",
    "for filtered_item_idx in range(len(filter_infos)):\n",
    "    filtered_item = filter_infos[filtered_item_idx]\n",
    "    lon = float(filtered_item[0])\n",
    "    lat = float(filtered_item[1])\n",
    "    ahi_time = ahi_time_list[filtered_item_idx]\n",
    "    # landcover\n",
    "    lon_idx = int((lon - ahi_llon)/pixel_res)\n",
    "    lat_idx = int((ahi_llat - lat)/pixel_res)\n",
    "    landcover_idx = int(mcd_landcover[lat_idx][lon_idx])\n",
    "    ahi_ac_info = [str(lon), str(lat), ahi_time, str(landcover_idx)]\n",
    "    ahi_ac_list.append(ahi_ac_info)"
   ]
  },
  {
   "cell_type": "code",
   "execution_count": 11,
   "id": "06d68946",
   "metadata": {},
   "outputs": [],
   "source": [
    "numpy.save(os.path.join(ws_folder, 'process', 'MOD_RAY_Malay_45_clear_ahi_time.npy'), numpy.array(ahi_ac_list))"
   ]
  }
 ],
 "metadata": {
  "kernelspec": {
   "display_name": "Python 3",
   "language": "python",
   "name": "python3"
  },
  "language_info": {
   "codemirror_mode": {
    "name": "ipython",
    "version": 3
   },
   "file_extension": ".py",
   "mimetype": "text/x-python",
   "name": "python",
   "nbconvert_exporter": "python",
   "pygments_lexer": "ipython3",
   "version": "3.6.8"
  }
 },
 "nbformat": 4,
 "nbformat_minor": 5
}
