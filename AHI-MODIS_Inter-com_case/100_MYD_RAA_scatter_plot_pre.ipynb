{
 "cells": [
  {
   "cell_type": "code",
   "execution_count": 19,
   "id": "b45045c5",
   "metadata": {},
   "outputs": [],
   "source": [
    "import os\n",
    "import numpy\n",
    "from datetime import datetime, timedelta"
   ]
  },
  {
   "cell_type": "code",
   "execution_count": 2,
   "id": "fb8ff54f",
   "metadata": {},
   "outputs": [],
   "source": [
    "ws_folder = '/disk1/workspace/20240116'\n",
    "MYD_RAA_infos_npy = os.path.join(ws_folder, 'analysis', 'MYD03_RAA-matched_infos_10km_land.npy')"
   ]
  },
  {
   "cell_type": "code",
   "execution_count": 4,
   "id": "8796c653",
   "metadata": {},
   "outputs": [],
   "source": [
    "MYD_matched_infos = numpy.load(MYD_RAA_infos_npy)"
   ]
  },
  {
   "cell_type": "code",
   "execution_count": 8,
   "id": "314b7593",
   "metadata": {},
   "outputs": [
    {
     "data": {
      "text/plain": [
       "array(['173.855', '-40.855', '201811220310', '57.54', '58.115', '251.73',\n",
       "       '314.961', '43.9', '284.11'], dtype='<U12')"
      ]
     },
     "execution_count": 8,
     "metadata": {},
     "output_type": "execute_result"
    }
   ],
   "source": [
    "MYD_matched_infos[0]"
   ]
  },
  {
   "cell_type": "code",
   "execution_count": 15,
   "id": "5e8c5fdd",
   "metadata": {},
   "outputs": [],
   "source": [
    "pixel_res = 0.01\n",
    "ahi_llon = 85.0\n",
    "ahi_llat = 60.0\n",
    "\n",
    "MCD_landcover_npy = os.path.join(ws_folder, 'reference', 'MCD12Q1.006.LC.AHI01km.npy')\n",
    "mcd_landcover = numpy.load(MCD_landcover_npy)"
   ]
  },
  {
   "cell_type": "code",
   "execution_count": 22,
   "id": "395e77f5",
   "metadata": {},
   "outputs": [],
   "source": [
    "cloudmask_folder = '/disk4/AHI_CloudMask'\n",
    "\n",
    "def is_clearsky_record(matched_info_item):    \n",
    "    lon = float(matched_info_item[0][:-1])\n",
    "    lat = float(matched_info_item[1][:-1])\n",
    "    mxd_date = datetime.strptime(matched_info_item[2], \"%Y%m%d%H%M\")\n",
    "    ahi_date = mxd_date\n",
    "    if matched_info_item[2][-1:] =='5':\n",
    "        ahi_date = mxd_date + timedelta(minutes=5)\n",
    "    ahi_time_str = ahi_date.strftime(\"%Y%m%d%H%M\")\n",
    "    if ahi_time_str[-4:] == '0240':\n",
    "        ahi_date_temp = ahi_date - timedelta(minutes=10)\n",
    "        ahi_time_str = ahi_date_temp.strftime(\"%Y%m%d%H%M\")\n",
    "\n",
    "    ahi_cm_dat = os.path.join(cloudmask_folder, ahi_time_str[:6], 'AHIcm.v0.'+ahi_time_str+'.dat')\n",
    "    cloudmask = None\n",
    "    cloudmask_res = 0.02\n",
    "    if not os.path.exists(ahi_cm_dat):\n",
    "        print('no file:', ahi_cm_dat)\n",
    "        cloudmask = numpy.zeros((6000, 6000))\n",
    "    else:\n",
    "        try:\n",
    "            cloudmask = numpy.fromfile(ahi_cm_dat, dtype=numpy.float32)\n",
    "            cloudmask[cloudmask < 0.95] = 0.   # cloud\n",
    "            cloudmask[cloudmask >= 0.95] = 1.\n",
    "            cloudmask = cloudmask.reshape(6000, 6000)   # 0.02°\n",
    "        except Exception as e:\n",
    "            print(e)\n",
    "            cloudmask = numpy.zeros((6000, 6000))\n",
    "\n",
    "    cm_lon_idx = int((lon-85.)/cloudmask_res)\n",
    "    cm_lat_idx = int((60.-lat)/cloudmask_res)\n",
    "    is_clearsky = int(cloudmask[cm_lat_idx][cm_lon_idx])\n",
    "    \n",
    "    return is_clearsky, ahi_time_str"
   ]
  },
  {
   "cell_type": "code",
   "execution_count": 44,
   "id": "b2b84875",
   "metadata": {},
   "outputs": [],
   "source": [
    "filter_infos = []\n",
    "ahi_time_list = []\n",
    "for raa_matched_info in MYD_matched_infos:\n",
    "    # within AU 30S region\n",
    "    lon = round(int(float(raa_matched_info[0])*100)/100,2)\n",
    "    lat = round(int(float(raa_matched_info[1])*100)/100,2)\n",
    "    if lon > 110 and lon < 125 and lat > -38 and lat < -28:\n",
    "        # landcover\n",
    "        lon_idx = int((lon - ahi_llon)/pixel_res)\n",
    "        lat_idx = int((ahi_llat - lat)/pixel_res)\n",
    "        landcover_idx = int(mcd_landcover[lat_idx][lon_idx])\n",
    "        if landcover_idx in [10, 2]:\n",
    "            # between May to August\n",
    "            month_str = raa_matched_info[2][4:6]\n",
    "            if float(month_str) >= 5 and float(month_str) <= 8:\n",
    "                # is clear-sky\n",
    "                is_clearsky, ahi_time_str = is_clearsky_record(raa_matched_info)\n",
    "                if is_clearsky:\n",
    "                    matched_info = raa_matched_info[:]\n",
    "                    matched_info[0] = str(lon)\n",
    "                    matched_info[1] = str(lat)\n",
    "                    filter_infos.append(matched_info)\n",
    "                    ahi_time_list.append(ahi_time_str)"
   ]
  },
  {
   "cell_type": "code",
   "execution_count": 26,
   "id": "081b6278",
   "metadata": {},
   "outputs": [
    {
     "data": {
      "text/plain": [
       "247859"
      ]
     },
     "execution_count": 26,
     "metadata": {},
     "output_type": "execute_result"
    }
   ],
   "source": [
    "len(MYD_matched_infos)"
   ]
  },
  {
   "cell_type": "code",
   "execution_count": 45,
   "id": "dfb73c19",
   "metadata": {},
   "outputs": [
    {
     "data": {
      "text/plain": [
       "256"
      ]
     },
     "execution_count": 45,
     "metadata": {},
     "output_type": "execute_result"
    }
   ],
   "source": [
    "len(filter_infos)"
   ]
  },
  {
   "cell_type": "code",
   "execution_count": 46,
   "id": "e39bd889",
   "metadata": {},
   "outputs": [],
   "source": [
    "numpy.save(os.path.join(ws_folder, 'process', 'MYD_RAA_AU_30S_5-8_clear.npy'), numpy.array(filter_infos))"
   ]
  },
  {
   "cell_type": "code",
   "execution_count": 47,
   "id": "e82955bf",
   "metadata": {},
   "outputs": [],
   "source": [
    "ahi_ac_list = []\n",
    "for filtered_item_idx in range(len(filter_infos)):\n",
    "    filtered_item = filter_infos[filtered_item_idx]\n",
    "    lon = float(filtered_item[0])\n",
    "    lat = float(filtered_item[1])\n",
    "    ahi_time = ahi_time_list[filtered_item_idx]\n",
    "    # landcover\n",
    "    lon_idx = int((lon - ahi_llon)/pixel_res)\n",
    "    lat_idx = int((ahi_llat - lat)/pixel_res)\n",
    "    landcover_idx = int(mcd_landcover[lat_idx][lon_idx])\n",
    "    ahi_ac_info = [str(lon), str(lat), ahi_time, str(landcover_idx)]\n",
    "    ahi_ac_list.append(ahi_ac_info)"
   ]
  },
  {
   "cell_type": "code",
   "execution_count": 48,
   "id": "11ee1b3b",
   "metadata": {
    "scrolled": true
   },
   "outputs": [],
   "source": [
    "numpy.save(os.path.join(ws_folder, 'process', 'MYD_RAA_AU_30S_5-8_clear_ahi_time.npy'), numpy.array(ahi_ac_list))"
   ]
  }
 ],
 "metadata": {
  "kernelspec": {
   "display_name": "Python 3",
   "language": "python",
   "name": "python3"
  },
  "language_info": {
   "codemirror_mode": {
    "name": "ipython",
    "version": 3
   },
   "file_extension": ".py",
   "mimetype": "text/x-python",
   "name": "python",
   "nbconvert_exporter": "python",
   "pygments_lexer": "ipython3",
   "version": "3.6.8"
  }
 },
 "nbformat": 4,
 "nbformat_minor": 5
}
