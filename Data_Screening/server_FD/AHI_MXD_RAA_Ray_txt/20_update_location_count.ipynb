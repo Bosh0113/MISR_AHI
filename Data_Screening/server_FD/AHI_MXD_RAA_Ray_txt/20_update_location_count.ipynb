{
 "cells": [
  {
   "cell_type": "code",
   "execution_count": 56,
   "id": "e75fac92",
   "metadata": {},
   "outputs": [],
   "source": [
    "import os\n",
    "import numpy\n",
    "import math"
   ]
  },
  {
   "cell_type": "code",
   "execution_count": 100,
   "id": "d4584e55",
   "metadata": {},
   "outputs": [],
   "source": [
    "npy_folder = r'/data01/people/beichen/workspace/20240105/AHI_MXD_RAA_Ray_txt'\n",
    "# npy_file = 'MOD03_RAY-matched_infos_10km.npy'\n",
    "# npy_file = 'MOD03_RAA-matched_infos_10km.npy'\n",
    "npy_file = 'MYD03_RAY-matched_infos_10km.npy'\n",
    "# npy_file = 'MYD03_RAA-matched_infos_10km.npy'\n",
    "npy_filename = os.path.join(npy_folder, npy_file)"
   ]
  },
  {
   "cell_type": "code",
   "execution_count": 101,
   "id": "4bdcc76a",
   "metadata": {},
   "outputs": [],
   "source": [
    "matched_record = numpy.load(npy_filename)"
   ]
  },
  {
   "cell_type": "code",
   "execution_count": 102,
   "id": "ba0e6750",
   "metadata": {},
   "outputs": [],
   "source": [
    "filtered_array = matched_record[~numpy.any(matched_record == 'nan', axis=1)]"
   ]
  },
  {
   "cell_type": "code",
   "execution_count": 86,
   "id": "cf6406af",
   "metadata": {},
   "outputs": [
    {
     "data": {
      "text/plain": [
       "array([['123.355', '20.755', '201801170450', '31.36', '31.28', '262.21',\n",
       "        '138.687', '43.66', '198.92']], dtype='<U12')"
      ]
     },
     "execution_count": 86,
     "metadata": {},
     "output_type": "execute_result"
    }
   ],
   "source": [
    "# filtered_array[(filtered_array[:, 0] == '123.355') & (filtered_array[:, 1] == '20.755')]"
   ]
  },
  {
   "cell_type": "code",
   "execution_count": 103,
   "id": "145c0ef1",
   "metadata": {},
   "outputs": [],
   "source": [
    "# MOD03\n",
    "error_time = ['201810240250', '201809231830', '201811050310','201809080405','201802110005', '201808160350','201809192035', '201812222330', '201811050245', '201801132340', '201808222310','201812210445','201811190310','201802220255','201812082330','201803132320','201812120000','201811270045','201811060205','201801090250','201811050310','201801070425', '201802132305', '201806042210', '201807292220', '201804032205', '201803022200','201805192215', '201807072130', '201801242320', '201810050510', '201807030345','201807072125', '201809100040', '201804030040', '201804030040', '201812190145', '201810220240', '201811060335', '201805290305', '201802200450','201812180115','201804242215', '201811090425','201802192340','201802060445','201802250340','201804090450','201804140155','201811220205','201810012355']\n",
    "# # MYD03\n",
    "# error_time = ['201805010050', '201811010255','201807180215', '201808020700','201809250600', '201810300455', '201810180750', '201806060650', '201809120635', '201809250600', '201807290525', '201810300455', '201803022330', '201803290445', '201805010040', '201810140620', '201809280450','201810190210', '201801180710', '201802180755', '201812300545', '201807190135', '201808160345','201809290710','201807160425', '201804100530', '201807160425', '201809080710', '201810070800', '201803040640','201801280425','201812100435', '201807300440', '201811100600','201801170450']"
   ]
  },
  {
   "cell_type": "code",
   "execution_count": 88,
   "id": "d6040827",
   "metadata": {},
   "outputs": [],
   "source": [
    "count_dict = {}\n",
    "for record_item in filtered_array:\n",
    "    loc_lon = record_item[0]\n",
    "    loc_lat = record_item[1]\n",
    "    if loc_lon[-2:] == '55' and loc_lat[-2:] == '55':\n",
    "        if record_item[2] not in error_time:\n",
    "            loc_lon_lat = loc_lon[:-1] + ',' + loc_lat[:-1]\n",
    "            if loc_lon_lat in count_dict:\n",
    "                count_dict[loc_lon_lat] = count_dict[loc_lon_lat] + 1\n",
    "            else:\n",
    "                count_dict[loc_lon_lat] = 1"
   ]
  },
  {
   "cell_type": "code",
   "execution_count": 89,
   "id": "a7124cfa",
   "metadata": {},
   "outputs": [],
   "source": [
    "count_txt_str = ''\n",
    "for lon_lat, loc_count in count_dict.items():\n",
    "    count_item = lon_lat + ',' + str(loc_count) + '\\n'\n",
    "    count_txt_str = count_txt_str + count_item"
   ]
  },
  {
   "cell_type": "code",
   "execution_count": 90,
   "id": "a8c412db",
   "metadata": {},
   "outputs": [],
   "source": [
    "with open(os.path.join(npy_folder, npy_file[:-14]+'loc_count_10km.txt'), 'w') as f:\n",
    "    f.write(count_txt_str)"
   ]
  },
  {
   "cell_type": "markdown",
   "id": "f21f438b",
   "metadata": {},
   "source": [
    "## save filtered"
   ]
  },
  {
   "cell_type": "code",
   "execution_count": 104,
   "id": "392cf501",
   "metadata": {},
   "outputs": [],
   "source": [
    "filtred_list = []\n",
    "for record_item in filtered_array:\n",
    "    loc_lon = record_item[0]\n",
    "    loc_lat = record_item[1]\n",
    "    if loc_lon[-2:] == '55' and loc_lat[-2:] == '55':\n",
    "        if record_item[2] not in error_time:\n",
    "            filtred_list.append(record_item)\n",
    "numpy.save(os.path.join(npy_folder, npy_file[:-4]+'4analysis.npy'),numpy.array(filtred_list))"
   ]
  }
 ],
 "metadata": {
  "kernelspec": {
   "display_name": "Python 3 (ipykernel)",
   "language": "python",
   "name": "python3"
  },
  "language_info": {
   "codemirror_mode": {
    "name": "ipython",
    "version": 3
   },
   "file_extension": ".py",
   "mimetype": "text/x-python",
   "name": "python",
   "nbconvert_exporter": "python",
   "pygments_lexer": "ipython3",
   "version": "3.9.12"
  }
 },
 "nbformat": 4,
 "nbformat_minor": 5
}
