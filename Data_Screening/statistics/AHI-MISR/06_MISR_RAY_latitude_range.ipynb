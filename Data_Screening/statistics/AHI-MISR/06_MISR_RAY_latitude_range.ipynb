{
 "cells": [
  {
   "cell_type": "code",
   "execution_count": 1,
   "id": "379a002b",
   "metadata": {},
   "outputs": [],
   "source": [
    "import os\n",
    "import numpy"
   ]
  },
  {
   "cell_type": "code",
   "execution_count": 2,
   "id": "2db002d5",
   "metadata": {},
   "outputs": [],
   "source": [
    "ws = r'D:\\PhD_Workspace\\MISR_AHI_WS\\240113'\n",
    "s_folder = os.path.join(ws, 'analysis')"
   ]
  },
  {
   "cell_type": "code",
   "execution_count": 3,
   "id": "eb824945",
   "metadata": {},
   "outputs": [],
   "source": [
    "def pixel_count(matched_info):\n",
    "    angle_record = numpy.zeros((12,))\n",
    "    for pt_item in matched_info:\n",
    "        pt_lat = float(pt_item[1])\n",
    "        if pt_lat <= 60 and pt_lat > 50:    # 60N-50N\n",
    "            angle_record[0] = angle_record[0] + 1\n",
    "        elif pt_lat <= 50 and pt_lat > 40:  # 50N-40N\n",
    "            angle_record[1] = angle_record[1] + 1\n",
    "        elif pt_lat <= 40 and pt_lat > 30:  # 40N-30N\n",
    "            angle_record[2] = angle_record[2] + 1\n",
    "        elif pt_lat <= 30 and pt_lat > 20:  # 30N-20N\n",
    "            angle_record[3] = angle_record[3] + 1\n",
    "        elif pt_lat <= 20 and pt_lat > 10:  # 20N-10N\n",
    "            angle_record[4] = angle_record[4] + 1\n",
    "        elif pt_lat <= 10 and pt_lat > 0:  # 10N-0\n",
    "            angle_record[5] = angle_record[5] + 1\n",
    "        elif pt_lat <= 0 and pt_lat > -10:    # 0-10S\n",
    "            angle_record[6] = angle_record[6] + 1\n",
    "        elif pt_lat <= -10 and pt_lat > -20:    # 10S-20S\n",
    "            angle_record[7] = angle_record[7] + 1\n",
    "        elif pt_lat <= -20 and pt_lat > -30:  # 20S-30S\n",
    "            angle_record[8] = angle_record[8] + 1\n",
    "        elif pt_lat <= -30 and pt_lat > -40:  # 30S-40S\n",
    "            angle_record[9] = angle_record[9] + 1\n",
    "        elif pt_lat <= -40 and pt_lat > -50:  # 40S-50S\n",
    "            angle_record[10] = angle_record[10] + 1\n",
    "        elif pt_lat <= -50 and pt_lat > -60:  # 50S-60S\n",
    "            angle_record[11] = angle_record[11] + 1\n",
    "    return angle_record"
   ]
  },
  {
   "cell_type": "code",
   "execution_count": 4,
   "id": "910af131",
   "metadata": {},
   "outputs": [
    {
     "name": "stdout",
     "output_type": "stream",
     "text": [
      "FD\n",
      "latitudes | count\n",
      "60N-50N 9845.0\n",
      "50N-40N 4901.0\n",
      "40N-30N 7457.0\n",
      "30N-20N 5566.0\n",
      "20N-10N 2028.0\n",
      "10N-0 1584.0\n",
      "0-10S 1677.0\n",
      "10S-20S 1963.0\n",
      "20S-30S 5687.0\n",
      "30S-40S 7015.0\n",
      "40S-50S 5062.0\n",
      "50S-60S 9758.0\n",
      "\n",
      "land\n",
      "latitudes | count | % of land to FD\n",
      "60N-50N 1407.0 (14.29%)\n",
      "50N-40N 181.0 (3.69%)\n",
      "40N-30N 228.0 (3.06%)\n",
      "30N-20N 0.0 (0.0%)\n",
      "20N-10N 0.0 (0.0%)\n",
      "10N-0 20.0 (1.26%)\n",
      "0-10S 47.0 (2.8%)\n",
      "10S-20S 981.0 (49.97%)\n",
      "20S-30S 5327.0 (93.67%)\n",
      "30S-40S 451.0 (6.43%)\n",
      "40S-50S 169.0 (3.34%)\n",
      "50S-60S 0.0 (0.0%)\n",
      "\n"
     ]
    }
   ],
   "source": [
    "latitude_ranges = ['60N-50N', '50N-40N', '40N-30N', '30N-20N', '20N-10N', '10N-0', '0-10S', '10S-20S', '20S-30S', '30S-40S', '40S-50S', '50S-60S']\n",
    "location_type_list = ['FD', 'land']\n",
    "\n",
    "loc_count_2type = []\n",
    "for location_type in location_type_list:\n",
    "    loc_npy = os.path.join(s_folder, 'MISR_Ray-matched_loc_count_10km_'+location_type+'.npy')\n",
    "    matched_info = numpy.load(loc_npy, allow_pickle=True)\n",
    "    loc_counts = pixel_count(matched_info)\n",
    "    loc_count_2type.append(loc_counts)\n",
    "\n",
    "t_idx = 0\n",
    "print(location_type_list[t_idx])\n",
    "print('latitudes | count')\n",
    "for latitude_range_idx in range(len(latitude_ranges)):\n",
    "    print(latitude_ranges[latitude_range_idx], loc_count_2type[0][latitude_range_idx])\n",
    "print('')\n",
    "\n",
    "t_idx = 1\n",
    "print(location_type_list[t_idx])\n",
    "print('latitudes | count | % of land to FD')\n",
    "for latitude_range_idx in range(len(latitude_ranges)):\n",
    "    if loc_count_2type[0][latitude_range_idx] > 0:\n",
    "        print(latitude_ranges[latitude_range_idx], loc_count_2type[1][latitude_range_idx], '('+str(round(100*loc_count_2type[1][latitude_range_idx]/loc_count_2type[0][latitude_range_idx],2))+'%)')\n",
    "    else:\n",
    "        print(latitude_ranges[latitude_range_idx], loc_count_2type[1][latitude_range_idx], '--')\n",
    "print('')"
   ]
  }
 ],
 "metadata": {
  "kernelspec": {
   "display_name": "Python 3 (ipykernel)",
   "language": "python",
   "name": "python3"
  },
  "language_info": {
   "codemirror_mode": {
    "name": "ipython",
    "version": 3
   },
   "file_extension": ".py",
   "mimetype": "text/x-python",
   "name": "python",
   "nbconvert_exporter": "python",
   "pygments_lexer": "ipython3",
   "version": "3.9.12"
  }
 },
 "nbformat": 4,
 "nbformat_minor": 5
}
