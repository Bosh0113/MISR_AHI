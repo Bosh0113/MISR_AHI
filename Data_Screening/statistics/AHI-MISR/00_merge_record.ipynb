{
 "cells": [
  {
   "cell_type": "code",
   "execution_count": 1,
   "id": "e11f65bb",
   "metadata": {},
   "outputs": [],
   "source": [
    "import os\n",
    "import numpy"
   ]
  },
  {
   "cell_type": "code",
   "execution_count": 2,
   "id": "92a13937",
   "metadata": {},
   "outputs": [],
   "source": [
    "ws = r'D:\\PhD_Workspace\\MISR_AHI_WS\\240113'\n",
    "save_folder = os.path.join(ws, 'original')\n",
    "o_files_folder = os.path.join(save_folder, 'parts')\n",
    "\n",
    "merge_npy_filename = os.path.join(save_folder, 'MISR_RAA-matched_infos_10km.npy')"
   ]
  },
  {
   "cell_type": "code",
   "execution_count": 6,
   "id": "5a5edcd4",
   "metadata": {},
   "outputs": [],
   "source": [
    "merge_array = []\n",
    "npy_list = os.listdir(o_files_folder)\n",
    "for npy_file in npy_list:\n",
    "    npy_filename = os.path.join(o_files_folder, npy_file)\n",
    "    record_list = numpy.load(npy_filename, allow_pickle=True)\n",
    "    for record_item in record_list:\n",
    "        location = record_item['location']\n",
    "        matched_infos = record_item['matched_infos']\n",
    "        lon_f = round(location[0],3)\n",
    "        if lon_f < 0:\n",
    "            lon_f = lon_f + 360\n",
    "        lat_f = round(location[1],3)\n",
    "        for matched_info in matched_infos:\n",
    "            matched_info.insert(0, str(lat_f))\n",
    "            matched_info.insert(0, str(lon_f))\n",
    "            merge_array.append(matched_info)"
   ]
  },
  {
   "cell_type": "code",
   "execution_count": 7,
   "id": "f6c4e2d0",
   "metadata": {},
   "outputs": [
    {
     "data": {
      "text/plain": [
       "['184.65',\n",
       " '-30.05',\n",
       " '68',\n",
       " '96528',\n",
       " '7',\n",
       " '201802092155',\n",
       " '201802092200',\n",
       " '59.919',\n",
       " '58.970',\n",
       " '192.406',\n",
       " '297.383',\n",
       " '32.676',\n",
       " '32.676',\n",
       " '68.434',\n",
       " '68.434']"
      ]
     },
     "execution_count": 7,
     "metadata": {},
     "output_type": "execute_result"
    }
   ],
   "source": [
    "# matched info: Lon Lat MISR_path MISR_orbit camera_idx MISR_roi_time AHI_roi_time MISR_VZA AHI_VZA MISR_VAA AHI_VAA MISR_SZA AHI_SZA MISR_SAA AHI_SAA\n",
    "merge_array[0]"
   ]
  },
  {
   "cell_type": "code",
   "execution_count": 8,
   "id": "e26fc220",
   "metadata": {},
   "outputs": [],
   "source": [
    "numpy.save(merge_npy_filename, numpy.array(merge_array))"
   ]
  }
 ],
 "metadata": {
  "kernelspec": {
   "display_name": "Python 3 (ipykernel)",
   "language": "python",
   "name": "python3"
  },
  "language_info": {
   "codemirror_mode": {
    "name": "ipython",
    "version": 3
   },
   "file_extension": ".py",
   "mimetype": "text/x-python",
   "name": "python",
   "nbconvert_exporter": "python",
   "pygments_lexer": "ipython3",
   "version": "3.9.12"
  }
 },
 "nbformat": 4,
 "nbformat_minor": 5
}
