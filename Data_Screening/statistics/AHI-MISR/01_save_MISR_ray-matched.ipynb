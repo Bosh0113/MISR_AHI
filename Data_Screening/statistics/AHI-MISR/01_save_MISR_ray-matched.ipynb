{
 "cells": [
  {
   "cell_type": "code",
   "execution_count": 1,
   "id": "3c0fb0fa",
   "metadata": {},
   "outputs": [],
   "source": [
    "import os\n",
    "import numpy"
   ]
  },
  {
   "cell_type": "code",
   "execution_count": 2,
   "id": "4519af25",
   "metadata": {},
   "outputs": [],
   "source": [
    "ws = r'D:\\PhD_Workspace\\MISR_AHI_WS\\240113\\original'\n",
    "misr_raa_npy = os.path.join(ws, 'MISR_RAA-matched_infos_10km.npy')\n",
    "misr_ray_npy = os.path.join(ws, 'MISR_RAY-matched_infos_10km.npy')"
   ]
  },
  {
   "cell_type": "code",
   "execution_count": 3,
   "id": "9faeb975",
   "metadata": {},
   "outputs": [],
   "source": [
    "raa_record_list = numpy.load(misr_raa_npy, allow_pickle=True)"
   ]
  },
  {
   "cell_type": "code",
   "execution_count": 4,
   "id": "32e8786d",
   "metadata": {},
   "outputs": [],
   "source": [
    "DIFF_VZA_THRESHOLD = 1\n",
    "DIFF_VAA_THRESHOLD = 10\n",
    "def get_raa(aa1, aa2):\n",
    "    raa = 0\n",
    "    diff = abs(aa1 - aa2)\n",
    "    if diff < 180:\n",
    "        raa = diff\n",
    "    else:\n",
    "        raa = 360 - diff\n",
    "    return raa\n",
    "\n",
    "\n",
    "def is_vza_vaa_matched(misr_vza, misr_vaa, ahi_vza, ahi_vaa):\n",
    "    if abs(misr_vza - ahi_vza) <= DIFF_VZA_THRESHOLD:\n",
    "        diff_vaa = get_raa(misr_vaa, ahi_vaa)\n",
    "        if diff_vaa <= DIFF_VAA_THRESHOLD:\n",
    "            return True\n",
    "        else:\n",
    "            return False\n",
    "    else:\n",
    "        return False"
   ]
  },
  {
   "cell_type": "code",
   "execution_count": 5,
   "id": "3149af9d",
   "metadata": {},
   "outputs": [],
   "source": [
    "ray_record_list = []\n",
    "for raa_record_item in raa_record_list:\n",
    "    misr_vza = float(raa_record_item[7])\n",
    "    misr_vaa = float(raa_record_item[9])\n",
    "    ahi_vza = float(raa_record_item[8])\n",
    "    ahi_vaa = float(raa_record_item[10])\n",
    "    if is_vza_vaa_matched(misr_vza, misr_vaa, ahi_vza, ahi_vaa):\n",
    "        ray_record_list.append(raa_record_item)"
   ]
  },
  {
   "cell_type": "code",
   "execution_count": 6,
   "id": "73589c91",
   "metadata": {},
   "outputs": [
    {
     "data": {
      "text/plain": [
       "array(['117.05', '-13.95', '113', '100419', '3', '201811040222',\n",
       "       '201811040220', '32.643', '31.738', '51.146', '61.079', '21.405',\n",
       "       '21.405', '96.424', '96.424'], dtype='<U12')"
      ]
     },
     "execution_count": 6,
     "metadata": {},
     "output_type": "execute_result"
    }
   ],
   "source": [
    "ray_record_list[0]"
   ]
  },
  {
   "cell_type": "code",
   "execution_count": 7,
   "id": "e647ccc8",
   "metadata": {},
   "outputs": [],
   "source": [
    "numpy.save(misr_ray_npy, ray_record_list)"
   ]
  }
 ],
 "metadata": {
  "kernelspec": {
   "display_name": "Python 3 (ipykernel)",
   "language": "python",
   "name": "python3"
  },
  "language_info": {
   "codemirror_mode": {
    "name": "ipython",
    "version": 3
   },
   "file_extension": ".py",
   "mimetype": "text/x-python",
   "name": "python",
   "nbconvert_exporter": "python",
   "pygments_lexer": "ipython3",
   "version": "3.10.9"
  }
 },
 "nbformat": 4,
 "nbformat_minor": 5
}
