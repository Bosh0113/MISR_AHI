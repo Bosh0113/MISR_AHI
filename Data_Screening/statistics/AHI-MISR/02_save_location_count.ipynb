{
 "cells": [
  {
   "cell_type": "code",
   "execution_count": 1,
   "id": "e75fac92",
   "metadata": {},
   "outputs": [],
   "source": [
    "import os\n",
    "import numpy\n",
    "import math"
   ]
  },
  {
   "cell_type": "code",
   "execution_count": 2,
   "id": "d4584e55",
   "metadata": {},
   "outputs": [],
   "source": [
    "npy_folder = os.path.join(r'D:\\PhD_Workspace\\MISR_AHI_WS\\240113', 'original')\n",
    "# npy_file = 'MISR_RAY-matched_infos_10km.npy'\n",
    "npy_file = 'MISR_RAA-matched_infos_10km.npy'\n",
    "npy_filename = os.path.join(npy_folder, npy_file)"
   ]
  },
  {
   "cell_type": "code",
   "execution_count": 3,
   "id": "4bdcc76a",
   "metadata": {},
   "outputs": [],
   "source": [
    "matched_record = numpy.load(npy_filename)"
   ]
  },
  {
   "cell_type": "code",
   "execution_count": 4,
   "id": "d6040827",
   "metadata": {},
   "outputs": [],
   "source": [
    "count_dict = {}\n",
    "for record_item in matched_record:\n",
    "    loc_lon = record_item[0]\n",
    "    loc_lat = record_item[1]\n",
    "    loc_lon_lat = loc_lon + ',' + loc_lat\n",
    "    if loc_lon_lat in count_dict:\n",
    "        count_dict[loc_lon_lat] = count_dict[loc_lon_lat] + 1\n",
    "    else:\n",
    "        count_dict[loc_lon_lat] = 1"
   ]
  },
  {
   "cell_type": "code",
   "execution_count": 5,
   "id": "a7124cfa",
   "metadata": {},
   "outputs": [],
   "source": [
    "count_txt_str = ''\n",
    "for lon_lat, loc_count in count_dict.items():\n",
    "    count_item = lon_lat + ',' + str(loc_count) + '\\n'\n",
    "    count_txt_str = count_txt_str + count_item"
   ]
  },
  {
   "cell_type": "code",
   "execution_count": 6,
   "id": "a8c412db",
   "metadata": {},
   "outputs": [],
   "source": [
    "with open(os.path.join(r'D:\\PhD_Workspace\\MISR_AHI_WS\\240113', 'count', npy_file[:-14]+'loc_count_10km.txt'), 'w') as f:\n",
    "    f.write(count_txt_str)"
   ]
  }
 ],
 "metadata": {
  "kernelspec": {
   "display_name": "Python 3 (ipykernel)",
   "language": "python",
   "name": "python3"
  },
  "language_info": {
   "codemirror_mode": {
    "name": "ipython",
    "version": 3
   },
   "file_extension": ".py",
   "mimetype": "text/x-python",
   "name": "python",
   "nbconvert_exporter": "python",
   "pygments_lexer": "ipython3",
   "version": "3.9.12"
  }
 },
 "nbformat": 4,
 "nbformat_minor": 5
}
