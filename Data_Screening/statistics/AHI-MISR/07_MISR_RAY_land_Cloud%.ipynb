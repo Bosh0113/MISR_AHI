{
 "cells": [
  {
   "cell_type": "code",
   "execution_count": 1,
   "id": "6fd56d54",
   "metadata": {},
   "outputs": [],
   "source": [
    "import os\n",
    "import numpy\n",
    "from datetime import datetime, timedelta"
   ]
  },
  {
   "cell_type": "code",
   "execution_count": 4,
   "id": "c4bddbf3",
   "metadata": {},
   "outputs": [],
   "source": [
    "matched_record_npy = '/disk1/workspace/20240115/MISR/MISR_RAY-matched_infos_10km_land.npy'\n",
    "cloudmask_folder = '/disk4/AHI_CloudMask'"
   ]
  },
  {
   "cell_type": "code",
   "execution_count": 5,
   "id": "5689f176",
   "metadata": {},
   "outputs": [],
   "source": [
    "matched_infos = numpy.load(matched_record_npy)"
   ]
  },
  {
   "cell_type": "code",
   "execution_count": 6,
   "id": "48af43f1",
   "metadata": {},
   "outputs": [
    {
     "data": {
      "text/plain": [
       "array(['123.65', '-16.65', '109', '97681', '3', '201804300159',\n",
       "       '201804300200', '28.611', '27.626', '37.160', '46.768', '40.060',\n",
       "       '40.060', '39.923', '39.923'], dtype='<U12')"
      ]
     },
     "execution_count": 6,
     "metadata": {},
     "output_type": "execute_result"
    }
   ],
   "source": [
    "matched_infos[0]"
   ]
  },
  {
   "cell_type": "code",
   "execution_count": 7,
   "id": "ebcafceb",
   "metadata": {},
   "outputs": [
    {
     "data": {
      "text/plain": [
       "array([], shape=(0, 15), dtype='<U12')"
      ]
     },
     "execution_count": 7,
     "metadata": {},
     "output_type": "execute_result"
    }
   ],
   "source": [
    "matched_infos[matched_infos[:, 0].astype(float) < 0]"
   ]
  },
  {
   "cell_type": "code",
   "execution_count": 8,
   "id": "6eb9685b",
   "metadata": {},
   "outputs": [],
   "source": [
    "def is_clearsky_record(matched_info_item):\n",
    "    lon = float(matched_info_item[0])\n",
    "    lat = float(matched_info_item[1])\n",
    "    ahi_time_str = matched_info_item[6]\n",
    "\n",
    "    ahi_cm_dat = os.path.join(cloudmask_folder, ahi_time_str[:6], 'AHIcm.v0.'+ahi_time_str+'.dat')\n",
    "    cloudmask = None\n",
    "    cloudmask_res = 0.02\n",
    "    if not os.path.exists(ahi_cm_dat):\n",
    "        print('no file:', ahi_cm_dat)\n",
    "        cloudmask = numpy.zeros((6000, 6000))\n",
    "    else:\n",
    "        try:\n",
    "            cloudmask = numpy.fromfile(ahi_cm_dat, dtype=numpy.float32)\n",
    "            cloudmask[cloudmask < 0.95] = 0.   # cloud\n",
    "            cloudmask[cloudmask >= 0.95] = 1.\n",
    "            cloudmask = cloudmask.reshape(6000, 6000)   # 0.02°\n",
    "        except Exception as e:\n",
    "            print(e)\n",
    "            cloudmask = numpy.zeros((6000, 6000))\n",
    "\n",
    "    cm_lon_idx = int((lon-85.)/cloudmask_res)\n",
    "    cm_lat_idx = int((60.-lat)/cloudmask_res)\n",
    "    is_clearsky = int(cloudmask[cm_lat_idx][cm_lon_idx])\n",
    "    \n",
    "    return is_clearsky\n",
    "\n",
    "\n",
    "def clear_sky_count(matched_info):\n",
    "    all_record = numpy.zeros((12,))\n",
    "    clear_record = numpy.zeros((12,))\n",
    "    for pt_item in matched_info:\n",
    "        pt_lat = float(pt_item[1])\n",
    "        if pt_lat <= 60 and pt_lat > 50:    # 60N-50N\n",
    "            all_record[0] = all_record[0] + 1\n",
    "            clear_record[0] = clear_record[0] + is_clearsky_record(pt_item)\n",
    "        elif pt_lat <= 50 and pt_lat > 40:  # 50N-40N\n",
    "            all_record[1] = all_record[1] + 1\n",
    "            clear_record[1] = clear_record[1] + is_clearsky_record(pt_item)\n",
    "        elif pt_lat <= 40 and pt_lat > 30:  # 40N-30N\n",
    "            all_record[2] = all_record[2] + 1\n",
    "            clear_record[2] = clear_record[2] + is_clearsky_record(pt_item)\n",
    "        elif pt_lat <= 30 and pt_lat > 20:  # 30N-20N\n",
    "            all_record[3] = all_record[3] + 1\n",
    "            clear_record[3] = clear_record[3] + is_clearsky_record(pt_item)\n",
    "        elif pt_lat <= 20 and pt_lat > 10:  # 20N-10N\n",
    "            all_record[4] = all_record[4] + 1\n",
    "            clear_record[4] = clear_record[4] + is_clearsky_record(pt_item)\n",
    "        elif pt_lat <= 10 and pt_lat > 0:  # 10N-0\n",
    "            all_record[5] = all_record[5] + 1\n",
    "            clear_record[5] = clear_record[5] + is_clearsky_record(pt_item)\n",
    "        elif pt_lat <= 0 and pt_lat > -10:    # 0-10S\n",
    "            all_record[6] = all_record[6] + 1\n",
    "            clear_record[6] = clear_record[6] + is_clearsky_record(pt_item)\n",
    "        elif pt_lat <= -10 and pt_lat > -20:    # 10S-20S\n",
    "            all_record[7] = all_record[7] + 1\n",
    "            clear_record[7] = clear_record[7] + is_clearsky_record(pt_item)\n",
    "        elif pt_lat <= -20 and pt_lat > -30:  # 20S-30S\n",
    "            all_record[8] = all_record[8] + 1\n",
    "            clear_record[8] = clear_record[8] + is_clearsky_record(pt_item)\n",
    "        elif pt_lat <= -30 and pt_lat > -40:  # 30S-40S\n",
    "            all_record[9] = all_record[9] + 1\n",
    "            clear_record[9] = clear_record[9] + is_clearsky_record(pt_item)\n",
    "        elif pt_lat <= -40 and pt_lat > -50:  # 40S-50S\n",
    "            all_record[10] = all_record[10] + 1\n",
    "            clear_record[10] = clear_record[10] + is_clearsky_record(pt_item)\n",
    "        elif pt_lat <= -50 and pt_lat > -60:  # 50S-60S\n",
    "            all_record[11] = all_record[11] + 1\n",
    "            clear_record[11] = clear_record[11] + is_clearsky_record(pt_item)\n",
    "    return all_record, clear_record"
   ]
  },
  {
   "cell_type": "code",
   "execution_count": 9,
   "id": "1968da1e",
   "metadata": {},
   "outputs": [
    {
     "ename": "KeyboardInterrupt",
     "evalue": "",
     "output_type": "error",
     "traceback": [
      "\u001b[0;31m---------------------------------------------------------------------------\u001b[0m",
      "\u001b[0;31mKeyboardInterrupt\u001b[0m                         Traceback (most recent call last)",
      "\u001b[0;32m<ipython-input-9-9f8654977d16>\u001b[0m in \u001b[0;36m<module>\u001b[0;34m\u001b[0m\n\u001b[0;32m----> 1\u001b[0;31m \u001b[0mall_item_count\u001b[0m\u001b[0;34m,\u001b[0m \u001b[0mclear_sky_item_count\u001b[0m \u001b[0;34m=\u001b[0m \u001b[0mclear_sky_count\u001b[0m\u001b[0;34m(\u001b[0m\u001b[0mmatched_infos\u001b[0m\u001b[0;34m)\u001b[0m\u001b[0;34m\u001b[0m\u001b[0;34m\u001b[0m\u001b[0m\n\u001b[0m",
      "\u001b[0;32m<ipython-input-8-e52b3c2b31cf>\u001b[0m in \u001b[0;36mclear_sky_count\u001b[0;34m(matched_info)\u001b[0m\n\u001b[1;32m     55\u001b[0m         \u001b[0;32melif\u001b[0m \u001b[0mpt_lat\u001b[0m \u001b[0;34m<=\u001b[0m \u001b[0;34m-\u001b[0m\u001b[0;36m10\u001b[0m \u001b[0;32mand\u001b[0m \u001b[0mpt_lat\u001b[0m \u001b[0;34m>\u001b[0m \u001b[0;34m-\u001b[0m\u001b[0;36m20\u001b[0m\u001b[0;34m:\u001b[0m    \u001b[0;31m# 10S-20S\u001b[0m\u001b[0;34m\u001b[0m\u001b[0;34m\u001b[0m\u001b[0m\n\u001b[1;32m     56\u001b[0m             \u001b[0mall_record\u001b[0m\u001b[0;34m[\u001b[0m\u001b[0;36m7\u001b[0m\u001b[0;34m]\u001b[0m \u001b[0;34m=\u001b[0m \u001b[0mall_record\u001b[0m\u001b[0;34m[\u001b[0m\u001b[0;36m7\u001b[0m\u001b[0;34m]\u001b[0m \u001b[0;34m+\u001b[0m \u001b[0;36m1\u001b[0m\u001b[0;34m\u001b[0m\u001b[0;34m\u001b[0m\u001b[0m\n\u001b[0;32m---> 57\u001b[0;31m             \u001b[0mclear_record\u001b[0m\u001b[0;34m[\u001b[0m\u001b[0;36m7\u001b[0m\u001b[0;34m]\u001b[0m \u001b[0;34m=\u001b[0m \u001b[0mclear_record\u001b[0m\u001b[0;34m[\u001b[0m\u001b[0;36m7\u001b[0m\u001b[0;34m]\u001b[0m \u001b[0;34m+\u001b[0m \u001b[0mis_clearsky_record\u001b[0m\u001b[0;34m(\u001b[0m\u001b[0mpt_item\u001b[0m\u001b[0;34m)\u001b[0m\u001b[0;34m\u001b[0m\u001b[0;34m\u001b[0m\u001b[0m\n\u001b[0m\u001b[1;32m     58\u001b[0m         \u001b[0;32melif\u001b[0m \u001b[0mpt_lat\u001b[0m \u001b[0;34m<=\u001b[0m \u001b[0;34m-\u001b[0m\u001b[0;36m20\u001b[0m \u001b[0;32mand\u001b[0m \u001b[0mpt_lat\u001b[0m \u001b[0;34m>\u001b[0m \u001b[0;34m-\u001b[0m\u001b[0;36m30\u001b[0m\u001b[0;34m:\u001b[0m  \u001b[0;31m# 20S-30S\u001b[0m\u001b[0;34m\u001b[0m\u001b[0;34m\u001b[0m\u001b[0m\n\u001b[1;32m     59\u001b[0m             \u001b[0mall_record\u001b[0m\u001b[0;34m[\u001b[0m\u001b[0;36m8\u001b[0m\u001b[0;34m]\u001b[0m \u001b[0;34m=\u001b[0m \u001b[0mall_record\u001b[0m\u001b[0;34m[\u001b[0m\u001b[0;36m8\u001b[0m\u001b[0;34m]\u001b[0m \u001b[0;34m+\u001b[0m \u001b[0;36m1\u001b[0m\u001b[0;34m\u001b[0m\u001b[0;34m\u001b[0m\u001b[0m\n",
      "\u001b[0;32m<ipython-input-8-e52b3c2b31cf>\u001b[0m in \u001b[0;36mis_clearsky_record\u001b[0;34m(matched_info_item)\u001b[0m\n\u001b[1;32m     13\u001b[0m         \u001b[0;32mtry\u001b[0m\u001b[0;34m:\u001b[0m\u001b[0;34m\u001b[0m\u001b[0;34m\u001b[0m\u001b[0m\n\u001b[1;32m     14\u001b[0m             \u001b[0mcloudmask\u001b[0m \u001b[0;34m=\u001b[0m \u001b[0mnumpy\u001b[0m\u001b[0;34m.\u001b[0m\u001b[0mfromfile\u001b[0m\u001b[0;34m(\u001b[0m\u001b[0mahi_cm_dat\u001b[0m\u001b[0;34m,\u001b[0m \u001b[0mdtype\u001b[0m\u001b[0;34m=\u001b[0m\u001b[0mnumpy\u001b[0m\u001b[0;34m.\u001b[0m\u001b[0mfloat32\u001b[0m\u001b[0;34m)\u001b[0m\u001b[0;34m\u001b[0m\u001b[0;34m\u001b[0m\u001b[0m\n\u001b[0;32m---> 15\u001b[0;31m             \u001b[0mcloudmask\u001b[0m\u001b[0;34m[\u001b[0m\u001b[0mcloudmask\u001b[0m \u001b[0;34m<\u001b[0m \u001b[0;36m0.95\u001b[0m\u001b[0;34m]\u001b[0m \u001b[0;34m=\u001b[0m \u001b[0;36m0.\u001b[0m   \u001b[0;31m# cloud\u001b[0m\u001b[0;34m\u001b[0m\u001b[0;34m\u001b[0m\u001b[0m\n\u001b[0m\u001b[1;32m     16\u001b[0m             \u001b[0mcloudmask\u001b[0m\u001b[0;34m[\u001b[0m\u001b[0mcloudmask\u001b[0m \u001b[0;34m>=\u001b[0m \u001b[0;36m0.95\u001b[0m\u001b[0;34m]\u001b[0m \u001b[0;34m=\u001b[0m \u001b[0;36m1.\u001b[0m\u001b[0;34m\u001b[0m\u001b[0;34m\u001b[0m\u001b[0m\n\u001b[1;32m     17\u001b[0m             \u001b[0mcloudmask\u001b[0m \u001b[0;34m=\u001b[0m \u001b[0mcloudmask\u001b[0m\u001b[0;34m.\u001b[0m\u001b[0mreshape\u001b[0m\u001b[0;34m(\u001b[0m\u001b[0;36m6000\u001b[0m\u001b[0;34m,\u001b[0m \u001b[0;36m6000\u001b[0m\u001b[0;34m)\u001b[0m   \u001b[0;31m# 0.02°\u001b[0m\u001b[0;34m\u001b[0m\u001b[0;34m\u001b[0m\u001b[0m\n",
      "\u001b[0;31mKeyboardInterrupt\u001b[0m: "
     ]
    }
   ],
   "source": [
    "all_item_count, clear_sky_item_count = clear_sky_count(matched_infos)"
   ]
  },
  {
   "cell_type": "code",
   "execution_count": null,
   "id": "be7d2f5e",
   "metadata": {},
   "outputs": [],
   "source": [
    "latitude_ranges = ['60N-50N', '50N-40N', '40N-30N', '30N-20N', '20N-10N', '10N-0', '0-10S', '10S-20S', '20S-30S', '30S-40S', '40S-50S', '50S-60S']\n",
    "\n",
    "print('latitudes | all count | clear-sky count | % of clear-sky')\n",
    "for latitude_range_idx in range(len(latitude_ranges)):\n",
    "    if all_item_count[latitude_range_idx] > 0:\n",
    "        print(latitude_ranges[latitude_range_idx], all_item_count[latitude_range_idx], clear_sky_item_count[latitude_range_idx], '('+str(round(100*(clear_sky_item_count[latitude_range_idx]/all_item_count[latitude_range_idx]), 2))+'%)')\n",
    "    else:\n",
    "        print(latitude_ranges[latitude_range_idx], all_item_count[latitude_range_idx], clear_sky_item_count[latitude_range_idx], '--')\n",
    "print('')"
   ]
  }
 ],
 "metadata": {
  "kernelspec": {
   "display_name": "Python 3",
   "language": "python",
   "name": "python3"
  },
  "language_info": {
   "codemirror_mode": {
    "name": "ipython",
    "version": 3
   },
   "file_extension": ".py",
   "mimetype": "text/x-python",
   "name": "python",
   "nbconvert_exporter": "python",
   "pygments_lexer": "ipython3",
   "version": "3.6.8"
  }
 },
 "nbformat": 4,
 "nbformat_minor": 5
}
