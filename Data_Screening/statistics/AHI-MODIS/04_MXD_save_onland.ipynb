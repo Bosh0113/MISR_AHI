{
 "cells": [
  {
   "cell_type": "code",
   "execution_count": 5,
   "id": "b5cb3ba3",
   "metadata": {},
   "outputs": [],
   "source": [
    "import os\n",
    "import numpy\n",
    "import global_land_mask as globe"
   ]
  },
  {
   "cell_type": "markdown",
   "id": "699e5d50",
   "metadata": {},
   "source": [
    "### infos"
   ]
  },
  {
   "cell_type": "code",
   "execution_count": 2,
   "id": "dab0d403",
   "metadata": {},
   "outputs": [],
   "source": [
    "MXD_list = ['MOD','MYD']\n",
    "match_type_list = ['RAY','RAA']\n",
    "for MXD in MXD_list:\n",
    "    for match_type in match_type_list:\n",
    "        npy_folder = r'D:\\PhD_Workspace\\MISR_AHI_WS\\240111\\analysis'\n",
    "        npy_file = MXD+'03_'+match_type+'-matched_infos_10km4analysis.npy'\n",
    "        npy_filename = os.path.join(npy_folder, npy_file)\n",
    "\n",
    "        matched_record = numpy.load(npy_filename)\n",
    "\n",
    "        land_matched_record = []\n",
    "        for record_item in matched_record:\n",
    "            loc_lon = float(record_item[0][:-1])\n",
    "            if loc_lon > 180:\n",
    "                loc_lon = loc_lon - 360\n",
    "            loc_lat = float(record_item[1][:-1])\n",
    "            if globe.is_land(loc_lat, loc_lon):\n",
    "                land_matched_record.append(record_item)\n",
    "\n",
    "        numpy.save(os.path.join(npy_folder, npy_file[:-13]+'_land.npy'), numpy.array(land_matched_record))"
   ]
  },
  {
   "cell_type": "markdown",
   "id": "72b01c1c",
   "metadata": {},
   "source": [
    "## location"
   ]
  },
  {
   "cell_type": "code",
   "execution_count": 3,
   "id": "681d2db7",
   "metadata": {},
   "outputs": [],
   "source": [
    "txt_folder = r'D:\\PhD_Workspace\\MISR_AHI_WS\\240111\\count'\n",
    "npy_folder = r'D:\\PhD_Workspace\\MISR_AHI_WS\\240111\\analysis'\n",
    "MXD_list = ['MOD','MYD']\n",
    "match_type_list = ['RAY','RAA']\n",
    "for MXD in MXD_list:\n",
    "    for match_type in match_type_list:\n",
    "        txt_file = MXD+'03_'+match_type+'-matched_loc_count_10km.txt'\n",
    "        txt_filename = os.path.join(txt_folder, txt_file)\n",
    "\n",
    "        loc_record = numpy.loadtxt(txt_filename, delimiter=',', dtype=str)\n",
    "\n",
    "        land_loc_record = []\n",
    "        for record_item in loc_record:\n",
    "            loc_lon = float(record_item[0])\n",
    "            if loc_lon > 180:\n",
    "                loc_lon = loc_lon - 360\n",
    "            loc_lat = float(record_item[1])\n",
    "            if globe.is_land(loc_lat, loc_lon):\n",
    "                land_loc_record.append(record_item)\n",
    "\n",
    "        numpy.save(os.path.join(npy_folder, txt_file[:-4]+'_land.npy'), numpy.array(land_loc_record))"
   ]
  }
 ],
 "metadata": {
  "kernelspec": {
   "display_name": "Python 3 (ipykernel)",
   "language": "python",
   "name": "python3"
  },
  "language_info": {
   "codemirror_mode": {
    "name": "ipython",
    "version": 3
   },
   "file_extension": ".py",
   "mimetype": "text/x-python",
   "name": "python",
   "nbconvert_exporter": "python",
   "pygments_lexer": "ipython3",
   "version": "3.10.9"
  }
 },
 "nbformat": 4,
 "nbformat_minor": 5
}
