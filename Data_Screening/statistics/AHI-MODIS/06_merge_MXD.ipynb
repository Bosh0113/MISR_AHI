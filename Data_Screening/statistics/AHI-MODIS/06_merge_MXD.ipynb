{
 "cells": [
  {
   "cell_type": "code",
   "execution_count": 1,
   "id": "e6cfea59",
   "metadata": {},
   "outputs": [],
   "source": [
    "import os\n",
    "import numpy"
   ]
  },
  {
   "cell_type": "markdown",
   "id": "67678de8",
   "metadata": {},
   "source": [
    "### merge matched infos"
   ]
  },
  {
   "cell_type": "code",
   "execution_count": 2,
   "id": "720048c1",
   "metadata": {},
   "outputs": [],
   "source": [
    "MXDs = ['MOD', 'MYD']\n",
    "matched_types = ['RAA', 'RAY']\n",
    "\n",
    "ws = r'D:\\PhD_Workspace\\MISR_AHI_WS\\240111'\n",
    "o_folder = os.path.join(ws, 'analysis')\n",
    "s_folder = os.path.join(ws, 'statistic')"
   ]
  },
  {
   "cell_type": "code",
   "execution_count": 6,
   "id": "18e37e25",
   "metadata": {},
   "outputs": [],
   "source": [
    "for matched_type in matched_types:\n",
    "    npy_filename1 = os.path.join(o_folder, MXDs[0]+'03_'+matched_type+'-matched_infos_10km_land.npy')\n",
    "    matched_record1 = numpy.load(npy_filename1)\n",
    "    npy_filename2 = os.path.join(o_folder, MXDs[1]+'03_'+matched_type+'-matched_infos_10km_land.npy')\n",
    "    matched_record2 = numpy.load(npy_filename2)\n",
    "    MXD_merge_infos = numpy.concatenate((matched_record1, matched_record2))\n",
    "    numpy.save(os.path.join(s_folder, 'MXD03_'+matched_type+'-matched_infos_10km_land.npy'), MXD_merge_infos)"
   ]
  },
  {
   "cell_type": "markdown",
   "id": "119833cf",
   "metadata": {},
   "source": [
    "## merge matched location"
   ]
  },
  {
   "cell_type": "markdown",
   "id": "0e24c135",
   "metadata": {},
   "source": [
    "### 1. onland"
   ]
  },
  {
   "cell_type": "code",
   "execution_count": 3,
   "id": "9d5b60d3",
   "metadata": {},
   "outputs": [],
   "source": [
    "ws = r'D:\\PhD_Workspace\\MISR_AHI_WS\\240111'\n",
    "o_folder = os.path.join(ws, 'analysis')\n",
    "s_folder = os.path.join(ws, 'statistic')\n",
    "MXD_list = ['MOD','MYD']\n",
    "match_type_list = ['RAY','RAA']\n",
    "for match_type in match_type_list:\n",
    "    loc_array = []\n",
    "    for MXD in MXD_list:\n",
    "        npy_file = MXD+'03_'+match_type+'-matched_loc_count_10km_land.npy'\n",
    "        npy_filename = os.path.join(o_folder, npy_file)\n",
    "        loc_record = numpy.load(npy_filename)\n",
    "        for record_item in loc_record:\n",
    "            loc_lon = record_item[0]\n",
    "            loc_lat = record_item[1]\n",
    "            loc_lon_lat = loc_lon + ',' + loc_lat\n",
    "            loc_array.append(loc_lon_lat)\n",
    "\n",
    "    loc_array = numpy.unique(numpy.array(loc_array))\n",
    "\n",
    "    merge_loc = []\n",
    "    for loc_item in loc_array:\n",
    "        record_item = loc_item.split(',')\n",
    "        merge_loc.append(record_item)\n",
    "\n",
    "    numpy.save(os.path.join(s_folder, 'MXD03_'+match_type+'-matched_loc_count_10km_land.npy'), numpy.array(merge_loc))"
   ]
  },
  {
   "cell_type": "markdown",
   "id": "0001f688",
   "metadata": {},
   "source": [
    "### 2. FD"
   ]
  },
  {
   "cell_type": "code",
   "execution_count": 3,
   "id": "ba7df335",
   "metadata": {},
   "outputs": [],
   "source": [
    "ws = r'D:\\PhD_Workspace\\MISR_AHI_WS\\240111'\n",
    "txt_folder = os.path.join(ws, 'count')\n",
    "s_folder = os.path.join(ws, 'statistic')\n",
    "MXD_list = ['MOD','MYD']\n",
    "match_type_list = ['RAY','RAA']\n",
    "for match_type in match_type_list:\n",
    "    loc_array = []\n",
    "    for MXD in MXD_list:\n",
    "        txt_filename = os.path.join(txt_folder, MXD+'03_'+match_type+'-matched_loc_count_10km.txt')\n",
    "        loc_record = numpy.loadtxt(txt_filename, delimiter=',', dtype=str)\n",
    "        for record_item in loc_record:\n",
    "            loc_lon = record_item[0]\n",
    "            loc_lat = record_item[1]\n",
    "            loc_lon_lat = loc_lon + ',' + loc_lat\n",
    "            loc_array.append(loc_lon_lat)\n",
    "\n",
    "    loc_array = numpy.unique(numpy.array(loc_array))\n",
    "\n",
    "    merge_loc = []\n",
    "    for loc_item in loc_array:\n",
    "        record_item = loc_item.split(',')\n",
    "        merge_loc.append(record_item)\n",
    "\n",
    "    numpy.save(os.path.join(s_folder, 'MXD03_'+match_type+'-matched_loc_count_10km_FD.npy'), numpy.array(merge_loc))"
   ]
  }
 ],
 "metadata": {
  "kernelspec": {
   "display_name": "Python 3 (ipykernel)",
   "language": "python",
   "name": "python3"
  },
  "language_info": {
   "codemirror_mode": {
    "name": "ipython",
    "version": 3
   },
   "file_extension": ".py",
   "mimetype": "text/x-python",
   "name": "python",
   "nbconvert_exporter": "python",
   "pygments_lexer": "ipython3",
   "version": "3.9.12"
  }
 },
 "nbformat": 4,
 "nbformat_minor": 5
}
