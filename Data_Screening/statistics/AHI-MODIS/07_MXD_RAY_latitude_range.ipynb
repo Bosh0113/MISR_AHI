{
 "cells": [
  {
   "cell_type": "code",
   "execution_count": 1,
   "id": "379a002b",
   "metadata": {},
   "outputs": [],
   "source": [
    "import os\n",
    "import numpy"
   ]
  },
  {
   "cell_type": "code",
   "execution_count": 4,
   "id": "2db002d5",
   "metadata": {},
   "outputs": [],
   "source": [
    "ws = r'D:\\PhD_Workspace\\MISR_AHI_WS\\240111'\n",
    "s_folder = os.path.join(ws, 'statistic')"
   ]
  },
  {
   "cell_type": "code",
   "execution_count": 5,
   "id": "eb824945",
   "metadata": {},
   "outputs": [],
   "source": [
    "def pixel_count(matched_info):\n",
    "    angle_record = numpy.zeros((12,))\n",
    "    for pt_item in matched_info:\n",
    "        pt_lat = float(pt_item[1])\n",
    "        if pt_lat <= 60 and pt_lat > 50:    # 60N-50N\n",
    "            angle_record[0] = angle_record[0] + 1\n",
    "        elif pt_lat <= 50 and pt_lat > 40:  # 50N-40N\n",
    "            angle_record[1] = angle_record[1] + 1\n",
    "        elif pt_lat <= 40 and pt_lat > 30:  # 40N-30N\n",
    "            angle_record[2] = angle_record[2] + 1\n",
    "        elif pt_lat <= 30 and pt_lat > 20:  # 30N-20N\n",
    "            angle_record[3] = angle_record[3] + 1\n",
    "        elif pt_lat <= 20 and pt_lat > 10:  # 20N-10N\n",
    "            angle_record[4] = angle_record[4] + 1\n",
    "        elif pt_lat <= 10 and pt_lat > 0:  # 10N-0\n",
    "            angle_record[5] = angle_record[5] + 1\n",
    "        elif pt_lat <= 0 and pt_lat > -10:    # 0-10S\n",
    "            angle_record[6] = angle_record[6] + 1\n",
    "        elif pt_lat <= -10 and pt_lat > -20:    # 10S-20S\n",
    "            angle_record[7] = angle_record[7] + 1\n",
    "        elif pt_lat <= -20 and pt_lat > -30:  # 20S-30S\n",
    "            angle_record[8] = angle_record[8] + 1\n",
    "        elif pt_lat <= -30 and pt_lat > -40:  # 30S-40S\n",
    "            angle_record[9] = angle_record[9] + 1\n",
    "        elif pt_lat <= -40 and pt_lat > -50:  # 40S-50S\n",
    "            angle_record[10] = angle_record[10] + 1\n",
    "        elif pt_lat <= -50 and pt_lat > -60:  # 50S-60S\n",
    "            angle_record[11] = angle_record[11] + 1\n",
    "    return angle_record"
   ]
  },
  {
   "cell_type": "code",
   "execution_count": 8,
   "id": "910af131",
   "metadata": {},
   "outputs": [
    {
     "name": "stdout",
     "output_type": "stream",
     "text": [
      "FD\n",
      "60N-50N 0.0\n",
      "50N-40N 0.0\n",
      "40N-30N 0.0\n",
      "30N-20N 714.0\n",
      "20N-10N 16595.0\n",
      "10N-0 37550.0\n",
      "0-10S 38043.0\n",
      "10S-20S 16369.0\n",
      "20S-30S 803.0\n",
      "30S-40S 0.0\n",
      "40S-50S 0.0\n",
      "50S-60S 0.0\n",
      "\n",
      "land\n",
      "60N-50N 0.0\n",
      "50N-40N 0.0\n",
      "40N-30N 0.0\n",
      "30N-20N 151.0\n",
      "20N-10N 1458.0\n",
      "10N-0 3578.0\n",
      "0-10S 3029.0\n",
      "10S-20S 25.0\n",
      "20S-30S 0.0\n",
      "30S-40S 0.0\n",
      "40S-50S 0.0\n",
      "50S-60S 0.0\n",
      "\n"
     ]
    }
   ],
   "source": [
    "latitude_ranges = ['60N-50N', '50N-40N', '40N-30N', '30N-20N', '20N-10N', '10N-0', '0-10S', '10S-20S', '20S-30S', '30S-40S', '40S-50S', '50S-60S']\n",
    "location_type_list = ['FD', 'land']\n",
    "\n",
    "for location_type in location_type_list:\n",
    "    loc_npy = os.path.join(s_folder, 'MXD03_Ray-matched_loc_count_10km_'+location_type+'.npy')\n",
    "    matched_info = numpy.load(loc_npy, allow_pickle=True)\n",
    "    loc_counts = pixel_count(matched_info)\n",
    "    \n",
    "    print(location_type)\n",
    "    for latitude_range_idx in range(len(latitude_ranges)):\n",
    "        print(latitude_ranges[latitude_range_idx], loc_counts[latitude_range_idx])\n",
    "    print('')"
   ]
  }
 ],
 "metadata": {
  "kernelspec": {
   "display_name": "Python 3 (ipykernel)",
   "language": "python",
   "name": "python3"
  },
  "language_info": {
   "codemirror_mode": {
    "name": "ipython",
    "version": 3
   },
   "file_extension": ".py",
   "mimetype": "text/x-python",
   "name": "python",
   "nbconvert_exporter": "python",
   "pygments_lexer": "ipython3",
   "version": "3.9.12"
  }
 },
 "nbformat": 4,
 "nbformat_minor": 5
}
