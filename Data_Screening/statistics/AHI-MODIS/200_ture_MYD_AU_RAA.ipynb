{
 "cells": [
  {
   "cell_type": "code",
   "execution_count": 1,
   "id": "653d6e42",
   "metadata": {},
   "outputs": [],
   "source": [
    "import os\n",
    "import numpy\n",
    "from datetime import datetime, timedelta\n",
    "import re\n",
    "import xarray\n",
    "import bz2"
   ]
  },
  {
   "cell_type": "code",
   "execution_count": 2,
   "id": "cd3accf8",
   "metadata": {},
   "outputs": [],
   "source": [
    "current_folder = '/data01/people/beichen/workspace/20240117'\n",
    "ahi_ac_timelist_npy = os.path.join(current_folder, 'MYD_RAA_AU_30S_5-8_clear_ahi_time.npy')\n",
    "ahi_ac_timelist = numpy.load(ahi_ac_timelist_npy)\n",
    "\n",
    "year_first_day_date = datetime.strptime('2018-01-01T00:00:00Z', \"%Y-%m-%dT%H:%M:%SZ\")\n",
    "\n",
    "ROI_SIZE = 0.04\n",
    "# VZA diff\n",
    "DIFF_VZA_THRESHOLD = 1 # degree\n",
    "# RAA diff\n",
    "DIFF_RAA_THRESHOLD = 10 # degree\n",
    "\n",
    "AHI_VZA_BIN = '/data01/people/beichen/data/AHI/AHI_VZA.npy'\n",
    "AHI_VAA_BIN = '/data01/people/beichen/data/AHI/AHI_VAA.npy'\n",
    "\n",
    "AHI_ANGLE_FOLDER = '/data01/people/beichen/data/AHI_ANGLE2017010120201231/hmwr829gr.cr.chiba-u.ac.jp/gridded/FD/V20190123'\n",
    "\n",
    "DATA_FOLDER = '/data01/people/beichen/data'\n",
    "MXD_GEOTIFF_FOLDER = os.path.join(DATA_FOLDER, 'MYD03_AHI_GeoTiff_2018')"
   ]
  },
  {
   "cell_type": "code",
   "execution_count": 3,
   "id": "bd60f813",
   "metadata": {},
   "outputs": [],
   "source": [
    "def get_region_ahi_vza(n_lons, n_lats):\n",
    "    ahi_vza_DN = numpy.load(AHI_VZA_BIN, allow_pickle=True)\n",
    "    p_size = 120 / 3000\n",
    "    lons_4km = numpy.arange(85+p_size/2, 205, p_size)\n",
    "    lats_4km = numpy.arange(60-p_size/2, -60, -p_size)\n",
    "    \n",
    "    o_ds = xarray.Dataset(\n",
    "        data_vars={\n",
    "            \"values\": ((\"y\", \"x\"), ahi_vza_DN),\n",
    "        },\n",
    "        coords={\n",
    "            \"y\": lats_4km,\n",
    "            \"x\": lons_4km\n",
    "        },)\n",
    "    n_ex_ds = o_ds.interp(x=n_lons, y=n_lats, method=\"nearest\", kwargs={\"fill_value\": \"extrapolate\"})\n",
    "    return n_ex_ds[\"values\"]\n",
    "\n",
    "\n",
    "def get_region_ahi_vaa(n_lons, n_lats):\n",
    "    ahi_vaa_DN = numpy.load(AHI_VAA_BIN, allow_pickle=True)\n",
    "    p_size = 120 / 3000\n",
    "    lons_4km = numpy.arange(85+p_size/2, 205, p_size)\n",
    "    lats_4km = numpy.arange(60-p_size/2, -60, -p_size)\n",
    "    \n",
    "    o_ds = xarray.Dataset(\n",
    "        data_vars={\n",
    "            \"values\": ((\"y\", \"x\"), ahi_vaa_DN),\n",
    "        },\n",
    "        coords={\n",
    "            \"y\": lats_4km,\n",
    "            \"x\": lons_4km\n",
    "        },)\n",
    "    n_ex_ds = o_ds.interp(x=n_lons, y=n_lats, method=\"nearest\", kwargs={\"fill_value\": \"extrapolate\"})\n",
    "    return n_ex_ds[\"values\"]\n",
    "\n",
    "\n",
    "def get_region_ahi_saa(ahi_saa_file, n_lons, n_lats):\n",
    "    zipfile = bz2.BZ2File(ahi_saa_file)\n",
    "    ahi_saa = numpy.frombuffer(zipfile.read(), dtype='>f4').reshape((3000,3000))\n",
    "    p_size = 120 / 3000\n",
    "    lons_4km = numpy.arange(85+p_size/2, 205, p_size)\n",
    "    lats_4km = numpy.arange(60-p_size/2, -60, -p_size)\n",
    "    \n",
    "    o_ds = xarray.Dataset(\n",
    "        data_vars={\n",
    "            \"values\": ((\"y\", \"x\"), ahi_saa),\n",
    "        },\n",
    "        coords={\n",
    "            \"y\": lats_4km,\n",
    "            \"x\": lons_4km\n",
    "        },)\n",
    "    n_ex_ds = o_ds.interp(x=n_lons, y=n_lats, method=\"nearest\", kwargs={\"fill_value\": \"extrapolate\"})\n",
    "    return n_ex_ds[\"values\"]\n",
    "\n",
    "\n",
    "def get_region_ahi_sza(ahi_sza_file, n_lons, n_lats):\n",
    "    zipfile = bz2.BZ2File(ahi_sza_file)\n",
    "    ahi_sza = numpy.frombuffer(zipfile.read(), dtype='>f4').reshape((3000,3000))\n",
    "    p_size = 120 / 3000\n",
    "    lons_4km = numpy.arange(85+p_size/2, 205, p_size)\n",
    "    lats_4km = numpy.arange(60-p_size/2, -60, -p_size)\n",
    "    \n",
    "    o_ds = xarray.Dataset(\n",
    "        data_vars={\n",
    "            \"values\": ((\"y\", \"x\"), ahi_sza),\n",
    "        },\n",
    "        coords={\n",
    "            \"y\": lats_4km,\n",
    "            \"x\": lons_4km\n",
    "        },)\n",
    "    n_ex_ds = o_ds.interp(x=n_lons, y=n_lats, method=\"nearest\", kwargs={\"fill_value\": \"extrapolate\"})\n",
    "    return n_ex_ds\n",
    "\n",
    "\n",
    "def regex_match_substring(pattern, array):\n",
    "    matches = [element for element in array if re.search(pattern, element)]\n",
    "\n",
    "    return matches\n",
    "\n",
    "\n",
    "def clip_tif_studyarea_angle(tiff_filename, lons, lats):\n",
    "    tif_ds = xarray.open_rasterio(tiff_filename)\n",
    "    clip_ds = tif_ds.interp(x=lons, y=lats, method=\"nearest\")\n",
    "    angle_dn = numpy.array(clip_ds.values[0])\n",
    "    angle_dn[angle_dn==-32767] = numpy.NaN\n",
    "    angle_v = angle_dn/100\n",
    "    angle_v = (angle_v+360)%360\n",
    "    clip_ds.values[0] = angle_v\n",
    "    return clip_ds\n",
    "\n",
    "\n",
    "def nearest_10_minute_interval(given_time):\n",
    "    given_datetime = datetime.strptime(given_time, '%Y%m%d%H%M')\n",
    "\n",
    "    nearest_interval = (given_datetime + timedelta(minutes=5)).replace(second=0, microsecond=0)\n",
    "    nearest_interval = nearest_interval - timedelta(minutes=nearest_interval.minute % 10)\n",
    "\n",
    "    return nearest_interval\n",
    "\n",
    "\n",
    "def get_raa(aa1, aa2):\n",
    "    diff = numpy.abs(aa1 - aa2)\n",
    "    raa = numpy.where(diff < 180, diff, 360 - diff)\n",
    "    return raa\n",
    "\n",
    "def is_raa_matched(modis_vza, modis_vaa, modis_saa, ahi_vza, ahi_vaa, ahi_saa):\n",
    "    vza_condition = numpy.abs(modis_vza - ahi_vza) <= DIFF_VZA_THRESHOLD\n",
    "    modis_raa = get_raa(modis_vaa, modis_saa)\n",
    "    ahi_raa = get_raa(ahi_vaa, ahi_saa)\n",
    "    raa_condition = numpy.abs(modis_raa - ahi_raa) <= DIFF_RAA_THRESHOLD\n",
    "    return numpy.logical_and(vza_condition, raa_condition)"
   ]
  },
  {
   "cell_type": "code",
   "execution_count": 4,
   "id": "cfe1b55d",
   "metadata": {},
   "outputs": [],
   "source": [
    "ahi_time_list4match = numpy.array(ahi_ac_timelist)[:,2]\n",
    "ahi_time_list4match_u = numpy.unique(ahi_time_list4match)"
   ]
  },
  {
   "cell_type": "code",
   "execution_count": 5,
   "id": "ff48101f",
   "metadata": {},
   "outputs": [],
   "source": [
    "ahi_day4match = []\n",
    "for ahi_time_str in ahi_time_list4match_u:\n",
    "    ahi_time_str_day = ahi_time_str[:8]\n",
    "    ahi_day4match.append(ahi_time_str_day)\n",
    "ahi_day4match_u = numpy.unique(numpy.array(ahi_day4match))"
   ]
  },
  {
   "cell_type": "code",
   "execution_count": 6,
   "id": "0e1f3a49",
   "metadata": {},
   "outputs": [],
   "source": [
    "sample_internal = 0.1\n",
    "AU_extent = [110, -28, 125, -38] # llon, llat, rlon, rlat\n",
    "study_area_extent = [ -28, 110, -38, 125] # extent (ullat, ullon, lrlat, lrlon)\n",
    "\n",
    "AU_lons_10km = numpy.arange(110+sample_internal/2, 125, sample_internal)\n",
    "AU_lats_10km = numpy.arange(-28-sample_internal/2, -38, -sample_internal)\n",
    "\n",
    "clip_internal = 0.01\n",
    "AU_lons_1km = numpy.arange(110+clip_internal/2, 125, clip_internal)\n",
    "AU_lats_1km = numpy.arange(-28-clip_internal/2, -38, -clip_internal)"
   ]
  },
  {
   "cell_type": "code",
   "execution_count": 7,
   "id": "66643673",
   "metadata": {},
   "outputs": [],
   "source": [
    "vza_ahi_au_ds = get_region_ahi_vza(AU_lons_1km, AU_lats_1km)\n",
    "vaa_ahi_au_ds = get_region_ahi_vaa(AU_lons_1km, AU_lats_1km)"
   ]
  },
  {
   "cell_type": "code",
   "execution_count": null,
   "id": "de122e09",
   "metadata": {},
   "outputs": [],
   "source": [
    "raa_matched_infos = []\n",
    "count = 1\n",
    "for modis_day in ahi_day4match_u:\n",
    "    print(str(count)+'/'+str(len(ahi_day4match_u)))\n",
    "    try:\n",
    "        current_time = datetime.strptime(modis_day + 'T23:59:59Z', \"%Y%m%dT%H:%M:%SZ\")\n",
    "        modis_doy = (current_time-year_first_day_date).days + 1\n",
    "        modis_doy_str = (3-len(str(modis_doy)))*'0'+str(modis_doy)\n",
    "\n",
    "        geotif_files = os.listdir(MXD_GEOTIFF_FOLDER)\n",
    "        vza_regex_pattern = 'MYD03.A2018'+ modis_doy_str + r'(\\S)+'+'_SensorZenith.tif'\n",
    "        vza_modis_files = regex_match_substring(vza_regex_pattern, geotif_files)\n",
    "\n",
    "        for idx in range(len(vza_modis_files)):\n",
    "            vza_modis_file = vza_modis_files[idx]\n",
    "            vza_modis_filename = os.path.join(MXD_GEOTIFF_FOLDER, vza_modis_file)\n",
    "            file_timeflag = vza_modis_file.replace('_SensorZenith.tif', '_')\n",
    "            modis_obs_time = modis_day+file_timeflag.split('.')[2]\n",
    "            vaa_modis_filename = os.path.join(MXD_GEOTIFF_FOLDER, file_timeflag+'SensorAzimuth.tif')\n",
    "            sza_modis_filename = os.path.join(MXD_GEOTIFF_FOLDER, file_timeflag+'SolarZenith.tif')\n",
    "            saa_modis_filename = os.path.join(MXD_GEOTIFF_FOLDER, file_timeflag+'SolarAzimuth.tif')\n",
    "\n",
    "            vza_modis_au_ds = clip_tif_studyarea_angle(vza_modis_filename, AU_lons_1km, AU_lats_1km)\n",
    "            vza_modis_array = numpy.array(vza_modis_au_ds.values[0])\n",
    "            if len(vza_modis_array[~numpy.isnan(vza_modis_array)]) > 0:\n",
    "                print('raa-matching...')\n",
    "                vaa_modis_au_ds = clip_tif_studyarea_angle(vaa_modis_filename, AU_lons_1km, AU_lats_1km)\n",
    "                saa_modis_au_ds = clip_tif_studyarea_angle(saa_modis_filename, AU_lons_1km, AU_lats_1km)\n",
    "\n",
    "                ahi_obs_timedate = nearest_10_minute_interval(modis_obs_time)\n",
    "                ahi_obs_time = ahi_obs_timedate.strftime(\"%Y%m%d%H%M\")\n",
    "                ahi_sza_file = os.path.join(AHI_ANGLE_FOLDER, ahi_obs_time[:6], '4KM', ahi_obs_time[:8], ahi_obs_time+'.sun.zth.fld.4km.bin.bz2')\n",
    "                ahi_saa_file = os.path.join(AHI_ANGLE_FOLDER, ahi_obs_time[:6], '4KM', ahi_obs_time[:8], ahi_obs_time+'.sun.azm.fld.4km.bin.bz2')\n",
    "                saa_ahi_au_ds = get_region_ahi_saa(ahi_saa_file, AU_lons_1km, AU_lats_1km)\n",
    "\n",
    "                modis_vza = vza_modis_array\n",
    "                modis_vaa = numpy.array(vaa_modis_au_ds.values[0])\n",
    "                modis_saa = numpy.array(saa_modis_au_ds.values[0])\n",
    "                ahi_vza = numpy.array(vza_ahi_au_ds.values)\n",
    "                ahi_vaa = numpy.array(vaa_ahi_au_ds.values)\n",
    "                ahi_saa= numpy.array(saa_ahi_au_ds.values)\n",
    "\n",
    "                # RAA-matching\n",
    "                raa_match_2d = is_raa_matched(modis_vza, modis_vaa, modis_saa, ahi_vza, ahi_vaa, ahi_saa)\n",
    "                raa_match_2d = raa_match_2d.astype(int)\n",
    "                raa_indices = numpy.argwhere(raa_match_2d == 1)\n",
    "                lon_values = AU_lons_1km[raa_indices[:, 1]]\n",
    "                lat_values = AU_lats_1km[raa_indices[:, 0]]\n",
    "                print(raa_match_2d.max())\n",
    "                # lon lat modis_time modis_vza ahi_vza modis_vaa ahi_vaa modis_sza modis_saa\n",
    "                for lon_val, lat_val in zip(lon_values, lat_values):\n",
    "                    lon_v = round(lon_val,2)\n",
    "                    lat_v = round(lat_val,2)\n",
    "#                     if lon_v in AU_lons_10km and lat_v in AU_lats_10km:\n",
    "                    lat_idx = int((-28 - lat_val)/0.01)\n",
    "                    lon_idx = int((lon_val - 110)/0.01)\n",
    "                    modis_vza_v = str(round(modis_vza[lat_idx][lon_idx], 2))\n",
    "                    ahi_vza_v = str(round(ahi_vza[lat_idx][lon_idx], 2))\n",
    "                    modis_vaa_v = str(round(modis_vaa[lat_idx][lon_idx], 2))\n",
    "                    ahi_vaa_v = str(round(ahi_vaa[lat_idx][lon_idx], 2))\n",
    "                    modis_saa_v = str(round(modis_saa[lat_idx][lon_idx], 2))\n",
    "                    ahi_saa_v = str(round(ahi_saa[lat_idx][lon_idx], 2))\n",
    "                    matched_info = [str(lon_v), str(lat_v), modis_obs_time, ahi_obs_time, modis_vza_v, ahi_vza_v, modis_vaa_v, ahi_vaa_v, modis_saa_v, ahi_saa_v]\n",
    "#                     print(matched_info)\n",
    "                    raa_matched_infos.append(matched_info)\n",
    "\n",
    "                break\n",
    "    except Exception as e:\n",
    "        print(e)\n",
    "    count+=1"
   ]
  },
  {
   "cell_type": "code",
   "execution_count": 36,
   "id": "d17dd0a0",
   "metadata": {},
   "outputs": [
    {
     "data": {
      "text/plain": [
       "285856"
      ]
     },
     "execution_count": 36,
     "metadata": {},
     "output_type": "execute_result"
    }
   ],
   "source": [
    "len(raa_matched_infos)"
   ]
  },
  {
   "cell_type": "code",
   "execution_count": 43,
   "id": "e655e72f",
   "metadata": {},
   "outputs": [],
   "source": [
    "numpy.save('/data01/people/beichen/workspace/20240117/MYD_RAA_AU.npy', numpy.array(raa_matched_infos))"
   ]
  },
  {
   "cell_type": "code",
   "execution_count": 38,
   "id": "33c2704a",
   "metadata": {},
   "outputs": [],
   "source": [
    "AU_lons_10km_str = numpy.round(AU_lons_10km, decimals=2).astype(str)\n",
    "AU_lats_10km_str = numpy.round(AU_lats_10km, decimals=2).astype(str)\n",
    "\n",
    "raa_matched_infos_10km = []\n",
    "for raa_item in raa_matched_infos:\n",
    "    if raa_item[0] in AU_lons_10km_str and raa_item[1] in AU_lats_10km_str:\n",
    "        raa_matched_infos_10km.append(raa_item)"
   ]
  },
  {
   "cell_type": "code",
   "execution_count": 41,
   "id": "ca194593",
   "metadata": {},
   "outputs": [
    {
     "data": {
      "text/plain": [
       "2846"
      ]
     },
     "execution_count": 41,
     "metadata": {},
     "output_type": "execute_result"
    }
   ],
   "source": [
    "len(raa_matched_infos_10km)"
   ]
  },
  {
   "cell_type": "code",
   "execution_count": 42,
   "id": "c4da6c92",
   "metadata": {},
   "outputs": [],
   "source": [
    "numpy.save('/data01/people/beichen/workspace/20240117/MYD_RAA_AU_10km.npy', numpy.array(raa_matched_infos_10km))"
   ]
  }
 ],
 "metadata": {
  "kernelspec": {
   "display_name": "Python 3",
   "language": "python",
   "name": "python3"
  },
  "language_info": {
   "codemirror_mode": {
    "name": "ipython",
    "version": 3
   },
   "file_extension": ".py",
   "mimetype": "text/x-python",
   "name": "python",
   "nbconvert_exporter": "python",
   "pygments_lexer": "ipython3",
   "version": "3.6.8"
  }
 },
 "nbformat": 4,
 "nbformat_minor": 5
}
