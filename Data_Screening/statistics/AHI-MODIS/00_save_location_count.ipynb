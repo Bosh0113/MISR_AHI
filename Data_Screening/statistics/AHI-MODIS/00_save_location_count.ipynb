{
 "cells": [
  {
   "cell_type": "code",
   "execution_count": null,
   "id": "9cc368d8",
   "metadata": {},
   "outputs": [],
   "source": [
    "import os\n",
    "import numpy\n",
    "import math"
   ]
  },
  {
   "cell_type": "code",
   "execution_count": null,
   "id": "67f6f24d",
   "metadata": {},
   "outputs": [],
   "source": [
    "txt_folder = r'/data01/people/beichen/workspace/20240105/AHI_MXD_RAA_Ray_txt'\n",
    "txt_file = 'MOD03_RAY-matched_infos.txt'\n",
    "# txt_file = 'MOD03_RAA-matched_infos.txt'\n",
    "# txt_file = 'MYD03_RAY-matched_infos.txt'\n",
    "# txt_file = 'MYD03_RAA-matched_infos.txt'\n",
    "txt_filename = os.path.join(txt_folder, txt_file)"
   ]
  },
  {
   "cell_type": "code",
   "execution_count": null,
   "id": "6d134c0c",
   "metadata": {},
   "outputs": [],
   "source": [
    "matched_record = numpy.loadtxt(txt_filename, delimiter=',', dtype=str)"
   ]
  },
  {
   "cell_type": "code",
   "execution_count": null,
   "id": "5f9144b2",
   "metadata": {},
   "outputs": [],
   "source": [
    "# matched_record[0]"
   ]
  },
  {
   "cell_type": "code",
   "execution_count": null,
   "id": "730cb02f",
   "metadata": {},
   "outputs": [],
   "source": [
    "matched_record_1km = []\n",
    "# 1km -> 10 km\n",
    "for record_item in matched_record:\n",
    "    loc_lon = record_item[0]\n",
    "    loc_lat = record_item[1]\n",
    "    if loc_lon[-2:] == '55' and loc_lon[-2:] == '55':\n",
    "        matched_record_1km.append(record_item)\n",
    "matched_record = numpy.array(matched_record_1km)"
   ]
  },
  {
   "cell_type": "code",
   "execution_count": null,
   "id": "2f3673d0",
   "metadata": {},
   "outputs": [],
   "source": [
    "numpy.save(os.path.join(txt_folder, txt_file[:-4]+'_10km.npy'), matched_record)"
   ]
  },
  {
   "cell_type": "code",
   "execution_count": null,
   "id": "e8f9cc3c",
   "metadata": {},
   "outputs": [],
   "source": [
    "filtered_array = matched_record[~numpy.any(matched_record == 'nan', axis=1)]"
   ]
  },
  {
   "cell_type": "code",
   "execution_count": null,
   "id": "6499e692",
   "metadata": {},
   "outputs": [],
   "source": [
    "# filtered_array[(filtered_array[:, 0] == '191.055') & (filtered_array[:, 1] == '-3.755')]"
   ]
  },
  {
   "cell_type": "code",
   "execution_count": null,
   "id": "7c4d72bb",
   "metadata": {},
   "outputs": [],
   "source": [
    "# MOD03\n",
    "error_time = ['201810240250', '201809231830', '201811050310','201809080405','201802110005', '201808160350','201809192035', '201812222330', '201811050245', '201801132340', '201808222310','201812210445','201811190310','201802220255','201812082330','201803132320','201812120000','201811270045','201811060205','201801090250','201811050310','201801070425', '201802132305', '201806042210', '201807292220', '201804032205', '201803022200','201805192215']\n",
    "# # MYD03\n",
    "# error_time = ['201805010050', '201811010255','201807180215', '201808020700','201809250600', '201810300455', '201810180750', '201806060650', '201809120635', '201809250600', '201807290525', '201810300455', '201803022330', '201803290445', '201805010040', '201810140620', '201809280450','201810190210', '201801180710']"
   ]
  },
  {
   "cell_type": "code",
   "execution_count": null,
   "id": "cdb77753",
   "metadata": {},
   "outputs": [],
   "source": [
    "count_dict = {}\n",
    "for record_item in filtered_array:\n",
    "    loc_lon = record_item[0]\n",
    "    loc_lat = record_item[1]\n",
    "    if loc_lon[-2:] == '55' and loc_lat[-2:] == '55':\n",
    "        if record_item[2] not in error_time:\n",
    "            loc_lon_lat = loc_lon[:-1] + ',' + loc_lat[:-1]\n",
    "            if loc_lon_lat in count_dict:\n",
    "                count_dict[loc_lon_lat] = count_dict[loc_lon_lat] + 1\n",
    "            else:\n",
    "                count_dict[loc_lon_lat] = 1"
   ]
  },
  {
   "cell_type": "code",
   "execution_count": null,
   "id": "e6b9c2c2",
   "metadata": {},
   "outputs": [],
   "source": [
    "count_txt_str = ''\n",
    "for lon_lat, loc_count in count_dict.items():\n",
    "    count_item = lon_lat + ',' + str(loc_count) + '\\n'\n",
    "    count_txt_str = count_txt_str + count_item"
   ]
  },
  {
   "cell_type": "code",
   "execution_count": null,
   "id": "78def89d",
   "metadata": {},
   "outputs": [],
   "source": [
    "with open(os.path.join(txt_folder, txt_file[:-9]+'loc_count_10km.txt'), 'w') as f:\n",
    "    f.write(count_txt_str)"
   ]
  }
 ],
 "metadata": {
  "kernelspec": {
   "display_name": "Python 3 (ipykernel)",
   "language": "python",
   "name": "python3"
  },
  "language_info": {
   "codemirror_mode": {
    "name": "ipython",
    "version": 3
   },
   "file_extension": ".py",
   "mimetype": "text/x-python",
   "name": "python",
   "nbconvert_exporter": "python",
   "pygments_lexer": "ipython3",
   "version": "3.10.9"
  }
 },
 "nbformat": 4,
 "nbformat_minor": 5
}
