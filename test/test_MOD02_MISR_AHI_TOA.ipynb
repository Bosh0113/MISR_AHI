{
 "cells": [
  {
   "cell_type": "markdown",
   "id": "21249d8b",
   "metadata": {},
   "source": [
    "## MISR的TOA和SR数据读取"
   ]
  },
  {
   "cell_type": "markdown",
   "id": "08df23e5",
   "metadata": {},
   "source": [
    "### BRF"
   ]
  },
  {
   "cell_type": "code",
   "execution_count": 60,
   "id": "aafc2ec4",
   "metadata": {},
   "outputs": [],
   "source": [
    "# for python 3.6\n",
    "import os\n",
    "from MisrToolkit import MtkFile, orbit_to_path, orbit_to_time_range, latlon_to_bls\n",
    "import netCDF4\n",
    "import numpy\n",
    "import random\n",
    "import matplotlib\n",
    "import matplotlib.pyplot as plt\n",
    "from matplotlib.ticker import MultipleLocator\n",
    "from sklearn.metrics import mean_squared_error, r2_score\n",
    "import matplotlib.transforms as mtransforms\n",
    "from scipy.stats import gaussian_kde, pearsonr\n",
    "import math\n",
    "import urllib.request\n",
    "import ssl\n",
    "import re\n",
    "\n",
    "ssl._create_default_https_context = ssl._create_unverified_context\n",
    "MISR_NC_FOLDER = '/disk1/Data/MISR4AHI2015070120210630_3'\n",
    "MISR_TOA_FOLDER = '/disk1/Data/MISR4AHI2015070120210630_TOA'\n",
    "\n",
    "\n",
    "def download_MISR_MIL2TCST02_HDF(folder, path, orbit):\n",
    "    time_range = orbit_to_time_range(orbit)\n",
    "    time0 = time_range[0]\n",
    "    matchObj = re.search(r'(\\d+)-(\\d+)-(\\d+)T', str(time0))\n",
    "    yy = matchObj.group(1)\n",
    "    mm = matchObj.group(2)\n",
    "    dd = matchObj.group(3)\n",
    "    t = str(yy) + '.' + str(mm) + '.' + str(dd)\n",
    "    P = 'P' + (3 - len(str(path))) * '0' + str(path)\n",
    "    O_ = 'O' + (6 - len(str(orbit))) * '0' + str(orbit)\n",
    "    F = 'F' + '05'\n",
    "    v = '0011'\n",
    "    base_url = 'https://opendap.larc.nasa.gov/opendap/MISR/MIL2TCAL.002'\n",
    "    filename = 'MISR_AM1_TC_ALBEDO_' + P + '_' + O_ + '_' + F + '_' + v + '.hdf'\n",
    "\n",
    "    download_url = base_url + '/' + t + '/' + filename\n",
    "\n",
    "    time1 = time_range[1]\n",
    "    matchObj1 = re.search(r'(\\d+)-(\\d+)-(\\d+)T', str(time1))\n",
    "    yy1 = matchObj1.group(1)\n",
    "    mm1 = matchObj1.group(2)\n",
    "    dd1 = matchObj1.group(3)\n",
    "    t1 = str(yy1) + '.' + str(mm1) + '.' + str(dd1)\n",
    "    download_url1 = base_url + '/' + t1 + '/' + filename\n",
    "\n",
    "    storage_path = folder + '/' + filename\n",
    "\n",
    "    if os.path.exists(storage_path):\n",
    "        try:\n",
    "            m_file = MtkFile(storage_path)\n",
    "            return storage_path\n",
    "        except Exception as e:\n",
    "            print(e)\n",
    "            try:\n",
    "                urllib.request.urlretrieve(download_url, filename=storage_path)\n",
    "                return storage_path\n",
    "            except Exception as e:\n",
    "                print('Error: ' + download_url)\n",
    "                print(e)\n",
    "                try:\n",
    "                    urllib.request.urlretrieve(download_url1, filename=storage_path)\n",
    "                    return storage_path\n",
    "                except Exception as e:\n",
    "                    print('Error: ' + download_url1)\n",
    "                    print(e)\n",
    "                    return ''\n",
    "    else:\n",
    "        print('No file:', storage_path)\n",
    "        try:\n",
    "            urllib.request.urlretrieve(download_url, filename=storage_path)\n",
    "            return storage_path\n",
    "        except Exception as e:\n",
    "            print('Error: ' + download_url)\n",
    "            print(e)\n",
    "            try:\n",
    "                urllib.request.urlretrieve(download_url1, filename=storage_path)\n",
    "                return storage_path\n",
    "            except Exception as e:\n",
    "                print('Error: ' + download_url1)\n",
    "                print(e)\n",
    "                return ''\n",
    "\n",
    "\n",
    "def BRF_TrueValue(o_value, scale, offset):\n",
    "    fill = 65533\n",
    "    underflow = 65534\n",
    "    overflow = 65535\n",
    "\n",
    "    if o_value in [fill, underflow, overflow]:\n",
    "        return 0.\n",
    "    else:\n",
    "        y = o_value * scale + offset\n",
    "        return y\n",
    "    \n",
    "    \n",
    "def record_roi_misr_ahi(lon, lat, band_index, misr_orbit, misr_camera_index, misr_nc_filename, misr_hdf_filename):\n",
    "    \n",
    "    # print(roi_ahi_sr)\n",
    "    misr_path = orbit_to_path(misr_orbit)\n",
    "    # MISR v3 netCDF4\n",
    "    misr_nc = netCDF4.Dataset(misr_nc_filename)\n",
    "    misr_nc_11 = misr_nc.groups['1.1_KM_PRODUCTS']\n",
    "    misr_brf_var = misr_nc_11.variables['Bidirectional_Reflectance_Factor']\n",
    "    misr_brf_scalev3 = misr_brf_var.scale_factor\n",
    "    misr_brf_offsetv3 = misr_brf_var.add_offset\n",
    "    misr_nc.close()\n",
    "    m_file2 = MtkFile(misr_nc_filename)\n",
    "    m_grid11 = m_file2.grid('1.1_KM_PRODUCTS')\n",
    "    misr_resolutionv3 = m_grid11.resolution\n",
    "    m_field11 = m_grid11.field('Bidirectional_Reflectance_Factor[' + str(band_index) + ']' + '[' + str(misr_camera_index) + ']')\n",
    "    \n",
    "    # MISR TOA HDF\n",
    "    m_file = MtkFile(misr_hdf_filename)\n",
    "    m_grid22 = m_file.grid('ReflectingLevelParameters_2.2_km')\n",
    "    misr_resolution = m_grid22.resolution\n",
    "    toa_field = m_grid22.field('BRFTop_Mean[' + str(band_index) + ']' + '[' + str(misr_camera_index) + ']')  # band, camera\n",
    "\n",
    "    # MISR data at ROI\n",
    "    roi_misr_brfv3 = 0.\n",
    "    roi_misr_toa = 0.\n",
    "    \n",
    "    try:\n",
    "        misr_blsv3 = latlon_to_bls(misr_path, misr_resolutionv3, lat, lon)\n",
    "        block_llv3 = misr_blsv3[0]\n",
    "        b_lat_idxv3 = round(misr_blsv3[1])\n",
    "        b_lon_idxv3 = round(misr_blsv3[2])\n",
    "\n",
    "        misr_bls_toa = latlon_to_bls(misr_path, misr_resolution, lat, lon)\n",
    "        block_ll_toa = misr_bls_toa[0]\n",
    "        b_lat_idx_toa = round(misr_bls_toa[1])\n",
    "        b_lon_idx_toa = round(misr_bls_toa[2])\n",
    "\n",
    "        block_brf_dnv3 = m_field11.read(block_llv3, block_llv3)[0]\n",
    "        roi_brf_dnv3 = block_brf_dnv3[b_lat_idxv3][b_lon_idxv3]\n",
    "        roi_brf_tv3 = BRF_TrueValue(roi_brf_dnv3, misr_brf_scalev3, misr_brf_offsetv3)\n",
    "\n",
    "        block_brf_dn_toa = toa_field.read(block_ll_toa, block_ll_toa)[0]\n",
    "        roi_brf_t_toa = block_brf_dn_toa[b_lat_idx_toa][b_lon_idx_toa]\n",
    "\n",
    "        roi_misr_brfv3 = roi_brf_tv3\n",
    "        roi_misr_toa = roi_brf_t_toa\n",
    "    except Exception as e:\n",
    "        roi_misr_brfv3 = 0.\n",
    "        roi_misr_toa = 0.\n",
    "\n",
    "    # if any cloud-free obs. is existed\n",
    "    if roi_misr_brfv3 > 0.:\n",
    "        return roi_misr_brfv3, roi_misr_toa\n",
    "    return 0., 0.\n",
    "\n",
    "\n",
    "def get_roi_misr_ahi(roi_lon, roi_lat, misr_path_orbit_camera, band_index):\n",
    "    misr_path_orbit = misr_path_orbit_camera[:12]\n",
    "    misr_path = int(misr_path_orbit[1:4])\n",
    "    misr_orbit = int(misr_path_orbit[-6:])\n",
    "    misr_camera_index = int(misr_path_orbit_camera[-1:])\n",
    "    \n",
    "    misr_nc_filename = os.path.join(MISR_NC_FOLDER, 'MISR_AM1_AS_LAND_' + misr_path_orbit + '_F08_0023.nc')\n",
    "    misr_hdf_filename = download_MISR_MIL2TCST02_HDF(MISR_TOA_FOLDER, misr_path, misr_orbit)\n",
    "\n",
    "    roi_misr_toa = record_roi_misr_ahi(roi_lon, roi_lat, band_index, misr_orbit, misr_camera_index, misr_nc_filename, misr_hdf_filename)\n",
    "    return roi_misr_toa"
   ]
  },
  {
   "cell_type": "code",
   "execution_count": 61,
   "id": "78f48eda",
   "metadata": {},
   "outputs": [],
   "source": [
    "roi_lon = 150.85\n",
    "roi_lat = -2.75\n",
    "misr_path_orbit_camera = 'P095_O098350_4'\n",
    "band_index = 3\n",
    "roi_misr_brf, roi_misr_toa = get_roi_misr_ahi(roi_lon, roi_lat, misr_path_orbit_camera, band_index)"
   ]
  },
  {
   "cell_type": "code",
   "execution_count": 62,
   "id": "b1b38631",
   "metadata": {},
   "outputs": [
    {
     "data": {
      "text/plain": [
       "0.34311482"
      ]
     },
     "execution_count": 62,
     "metadata": {},
     "output_type": "execute_result"
    }
   ],
   "source": [
    "roi_misr_brf # BRF"
   ]
  },
  {
   "cell_type": "code",
   "execution_count": 63,
   "id": "d6992072",
   "metadata": {},
   "outputs": [
    {
     "data": {
      "text/plain": [
       "0.3165625"
      ]
     },
     "execution_count": 63,
     "metadata": {},
     "output_type": "execute_result"
    }
   ],
   "source": [
    "roi_misr_toa"
   ]
  },
  {
   "cell_type": "markdown",
   "id": "d855cab7",
   "metadata": {},
   "source": [
    "# AHI的TOA和SR数据读取"
   ]
  },
  {
   "cell_type": "code",
   "execution_count": 64,
   "id": "27c9a0ad",
   "metadata": {},
   "outputs": [],
   "source": [
    "DN2Tbb_folder = '/disk1/Data/band_DN2Tbb'\n",
    "BAND_INFO = {\n",
    "    'band1': ['VIS', '0.01', '.vis.01.fld.geoss.bz2', 'vis.01'],\n",
    "    'band2': ['VIS', '0.01', '.vis.02.fld.geoss.bz2', 'vis.02'],\n",
    "    'band3': ['EXT', '0.005', '.ext.01.fld.geoss.bz2', 'ext.01'],\n",
    "    'band4': ['VIS', '0.01', '.vis.03.fld.geoss.bz2', 'vis.03'],\n",
    "}\n",
    "\n",
    "\n",
    "def roi_ahi_data_dn(r_lon, r_lat, ahi_bin, o_resolution):\n",
    "    # get roi data array with AHI resolution (1km)\n",
    "    lons = numpy.arange(85. + o_resolution / 2, 205, o_resolution)\n",
    "    lats = numpy.arange(60. - o_resolution / 2, -60, -o_resolution)\n",
    "    ahi_dn = numpy.fromfile(ahi_bin, dtype='>u2')\n",
    "    ahi_dn = ahi_dn.reshape(len(lats), len(lons))\n",
    "    \n",
    "    data_ahi_roi = ahi_dn[int((60-r_lat)/o_resolution)][int((r_lon-85)/o_resolution)]\n",
    "    \n",
    "    return data_ahi_roi\n",
    "\n",
    "\n",
    "def roi_ahi_data(r_lon, r_lat, filename, band_jma):\n",
    "    band_info_ = BAND_INFO[band_jma]\n",
    "    resolution = float(band_info_[1])\n",
    "    roi_ahi_dn = roi_ahi_data_dn(r_lon, r_lat, filename, resolution)\n",
    "    # DN to Tbb\n",
    "    LUT_file = band_info_[3]\n",
    "    LUT_filename = os.path.join(DN2Tbb_folder, LUT_file)\n",
    "    DN2Tbb_LUT = numpy.loadtxt(LUT_filename)\n",
    "    roi_ahi_ref = numpy.zeros_like(roi_ahi_dn)\n",
    "    roi_ahi_ref = DN2Tbb_LUT[int(roi_ahi_dn), 1]\n",
    "    roi_ahi_ref = roi_ahi_ref / 100\n",
    "    return roi_ahi_ref"
   ]
  },
  {
   "cell_type": "code",
   "execution_count": 65,
   "id": "ce5bc51c",
   "metadata": {},
   "outputs": [],
   "source": [
    "roi_lon = 150.85\n",
    "roi_lat = -2.75\n",
    "ahi_obstime = 201806180130\n",
    "ahi_filename = '/disk1/workspace/20230619/201806150030.vis.03.fld.geoss'\n",
    "roi_ahi_toa = roi_ahi_data(roi_lon, roi_lat, ahi_filename, 'band4')"
   ]
  },
  {
   "cell_type": "code",
   "execution_count": 66,
   "id": "72dc287b",
   "metadata": {},
   "outputs": [],
   "source": [
    "ahi_filename = '/disk1/workspace/20230619/201806150030.sun.zth.fld.4km.bin'\n",
    "# get roi angle array with AHI resolution (4km)\n",
    "a_resolution = 0.04\n",
    "lons = numpy.arange(85. + a_resolution / 2, 205, a_resolution)\n",
    "lats = numpy.arange(60. - a_resolution / 2, -60, -a_resolution)\n",
    "ahi_dn = numpy.fromfile(ahi_filename, dtype='>f4')\n",
    "ahi_dn = ahi_dn.reshape(len(lats), len(lons))\n",
    "sza_ahi_roi = ahi_dn[int((60-roi_lat)/a_resolution)][int((roi_lon-85)/a_resolution)]"
   ]
  },
  {
   "cell_type": "code",
   "execution_count": 67,
   "id": "34de4849",
   "metadata": {},
   "outputs": [
    {
     "data": {
      "text/plain": [
       "0.29235294"
      ]
     },
     "execution_count": 67,
     "metadata": {},
     "output_type": "execute_result"
    }
   ],
   "source": [
    "roi_ahi_toa"
   ]
  },
  {
   "cell_type": "code",
   "execution_count": 68,
   "id": "60e92c2c",
   "metadata": {},
   "outputs": [
    {
     "data": {
      "text/plain": [
       "32.721573"
      ]
     },
     "execution_count": 68,
     "metadata": {},
     "output_type": "execute_result"
    }
   ],
   "source": [
    "sza_ahi_roi # degree"
   ]
  },
  {
   "cell_type": "code",
   "execution_count": 69,
   "id": "c0bc1c5e",
   "metadata": {},
   "outputs": [
    {
     "data": {
      "text/plain": [
       "0.3165625"
      ]
     },
     "execution_count": 69,
     "metadata": {},
     "output_type": "execute_result"
    }
   ],
   "source": [
    "roi_misr_toa"
   ]
  },
  {
   "cell_type": "code",
   "execution_count": 70,
   "id": "4e08750f",
   "metadata": {},
   "outputs": [
    {
     "data": {
      "text/plain": [
       "0.26632634904305"
      ]
     },
     "execution_count": 70,
     "metadata": {},
     "output_type": "execute_result"
    }
   ],
   "source": [
    "roi_misr_toa * math.cos(math.radians(sza_ahi_roi))"
   ]
  },
  {
   "cell_type": "code",
   "execution_count": 71,
   "id": "e20d01dd",
   "metadata": {},
   "outputs": [],
   "source": [
    "# MOD021KM: 0.268721"
   ]
  },
  {
   "cell_type": "code",
   "execution_count": 72,
   "id": "69722955",
   "metadata": {},
   "outputs": [
    {
     "data": {
      "text/plain": [
       "0.28866500961805136"
      ]
     },
     "execution_count": 72,
     "metadata": {},
     "output_type": "execute_result"
    }
   ],
   "source": [
    "roi_misr_brf * math.cos(math.radians(sza_ahi_roi))"
   ]
  },
  {
   "cell_type": "markdown",
   "id": "79f6cbfd",
   "metadata": {},
   "source": [
    "#### AHI SR"
   ]
  },
  {
   "cell_type": "code",
   "execution_count": 73,
   "id": "9cf30eec",
   "metadata": {},
   "outputs": [],
   "source": [
    "ahi_ac_npy = '/disk1/workspace/20230619/201806150030_ac_band4.npy'"
   ]
  },
  {
   "cell_type": "code",
   "execution_count": 76,
   "id": "95d761e2",
   "metadata": {},
   "outputs": [],
   "source": [
    "ahi_ac_record = numpy.load(ahi_ac_npy, allow_pickle=True)"
   ]
  },
  {
   "cell_type": "code",
   "execution_count": 81,
   "id": "90507378",
   "metadata": {},
   "outputs": [
    {
     "data": {
      "text/plain": [
       "array([[0.30117647, 0.29352941, 0.28647059],\n",
       "       [0.29352941, 0.29235294, 0.29588235],\n",
       "       [0.26705882, 0.28470588, 0.28058823]])"
      ]
     },
     "execution_count": 81,
     "metadata": {},
     "output_type": "execute_result"
    }
   ],
   "source": [
    "ahi_ac_record[0]['roi_ahi_data']"
   ]
  },
  {
   "cell_type": "code",
   "execution_count": 80,
   "id": "afc6a47f",
   "metadata": {},
   "outputs": [
    {
     "data": {
      "text/plain": [
       "array([[0.30763877, 0.29967386, 0.2923277 ],\n",
       "       [0.29963205, 0.29842346, 0.30211312],\n",
       "       [0.27203922, 0.29043584, 0.28617884]])"
      ]
     },
     "execution_count": 80,
     "metadata": {},
     "output_type": "execute_result"
    }
   ],
   "source": [
    "ahi_ac_record[0]['roi_ahi_sr'] # 0.29842346"
   ]
  }
 ],
 "metadata": {
  "kernelspec": {
   "display_name": "Python 3",
   "language": "python",
   "name": "python3"
  },
  "language_info": {
   "codemirror_mode": {
    "name": "ipython",
    "version": 3
   },
   "file_extension": ".py",
   "mimetype": "text/x-python",
   "name": "python",
   "nbconvert_exporter": "python",
   "pygments_lexer": "ipython3",
   "version": "3.6.8"
  }
 },
 "nbformat": 4,
 "nbformat_minor": 5
}
