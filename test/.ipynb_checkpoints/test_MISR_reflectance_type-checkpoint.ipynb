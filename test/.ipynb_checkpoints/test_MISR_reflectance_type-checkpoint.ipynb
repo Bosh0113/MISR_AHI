{
 "cells": [
  {
   "cell_type": "markdown",
   "id": "509a4363",
   "metadata": {},
   "source": [
    "## MISR的TOA数据读取"
   ]
  },
  {
   "cell_type": "markdown",
   "id": "5661dc81",
   "metadata": {},
   "source": [
    "### BRF"
   ]
  },
  {
   "cell_type": "code",
   "execution_count": 13,
   "id": "9e3ffdbc-0be0-4e5a-82bd-180b4ec40693",
   "metadata": {},
   "outputs": [],
   "source": [
    "# for python 3.6\n",
    "import os\n",
    "from MisrToolkit import MtkFile, orbit_to_path, orbit_to_time_range, latlon_to_bls\n",
    "import netCDF4\n",
    "import numpy\n",
    "import random\n",
    "import matplotlib\n",
    "import matplotlib.pyplot as plt\n",
    "from matplotlib.ticker import MultipleLocator\n",
    "from sklearn.metrics import mean_squared_error, r2_score\n",
    "import matplotlib.transforms as mtransforms\n",
    "from scipy.stats import gaussian_kde, pearsonr\n",
    "import math\n",
    "import urllib.request\n",
    "import ssl\n",
    "import re\n",
    "\n",
    "ssl._create_default_https_context = ssl._create_unverified_context\n",
    "MISR_NC_FOLDER = '/disk1/Data/MISR4AHI2015070120210630_3'\n",
    "MISR_TOA_FOLDER = '/disk1/Data/MISR4AHI2015070120210630_TOA'\n",
    "\n",
    "\n",
    "def download_MISR_MIL2TCST02_HDF(folder, path, orbit):\n",
    "    time_range = orbit_to_time_range(orbit)\n",
    "    time0 = time_range[0]\n",
    "    matchObj = re.search(r'(\\d+)-(\\d+)-(\\d+)T', str(time0))\n",
    "    yy = matchObj.group(1)\n",
    "    mm = matchObj.group(2)\n",
    "    dd = matchObj.group(3)\n",
    "    t = str(yy) + '.' + str(mm) + '.' + str(dd)\n",
    "    P = 'P' + (3 - len(str(path))) * '0' + str(path)\n",
    "    O_ = 'O' + (6 - len(str(orbit))) * '0' + str(orbit)\n",
    "    F = 'F' + '05'\n",
    "    v = '0011'\n",
    "    base_url = 'https://opendap.larc.nasa.gov/opendap/MISR/MIL2TCAL.002'\n",
    "    filename = 'MISR_AM1_TC_ALBEDO_' + P + '_' + O_ + '_' + F + '_' + v + '.hdf'\n",
    "\n",
    "    download_url = base_url + '/' + t + '/' + filename\n",
    "\n",
    "    time1 = time_range[1]\n",
    "    matchObj1 = re.search(r'(\\d+)-(\\d+)-(\\d+)T', str(time1))\n",
    "    yy1 = matchObj1.group(1)\n",
    "    mm1 = matchObj1.group(2)\n",
    "    dd1 = matchObj1.group(3)\n",
    "    t1 = str(yy1) + '.' + str(mm1) + '.' + str(dd1)\n",
    "    download_url1 = base_url + '/' + t1 + '/' + filename\n",
    "\n",
    "    storage_path = folder + '/' + filename\n",
    "\n",
    "    if os.path.exists(storage_path):\n",
    "        try:\n",
    "            m_file = MtkFile(storage_path)\n",
    "            return storage_path\n",
    "        except Exception as e:\n",
    "            print(e)\n",
    "            try:\n",
    "                urllib.request.urlretrieve(download_url, filename=storage_path)\n",
    "                return storage_path\n",
    "            except Exception as e:\n",
    "                print('Error: ' + download_url)\n",
    "                print(e)\n",
    "                try:\n",
    "                    urllib.request.urlretrieve(download_url1, filename=storage_path)\n",
    "                    return storage_path\n",
    "                except Exception as e:\n",
    "                    print('Error: ' + download_url1)\n",
    "                    print(e)\n",
    "                    return ''\n",
    "    else:\n",
    "        print('No file:', storage_path)\n",
    "        try:\n",
    "            urllib.request.urlretrieve(download_url, filename=storage_path)\n",
    "            return storage_path\n",
    "        except Exception as e:\n",
    "            print('Error: ' + download_url)\n",
    "            print(e)\n",
    "            try:\n",
    "                urllib.request.urlretrieve(download_url1, filename=storage_path)\n",
    "                return storage_path\n",
    "            except Exception as e:\n",
    "                print('Error: ' + download_url1)\n",
    "                print(e)\n",
    "                return ''\n",
    "\n",
    "\n",
    "def BRF_TrueValue(o_value, scale, offset):\n",
    "    fill = 65533\n",
    "    underflow = 65534\n",
    "    overflow = 65535\n",
    "\n",
    "    if o_value in [fill, underflow, overflow]:\n",
    "        return 0.\n",
    "    else:\n",
    "        y = o_value * scale + offset\n",
    "        return y\n",
    "    \n",
    "    \n",
    "def record_roi_misr_ahi(lon, lat, band_index, misr_orbit, misr_camera_index, misr_nc_filename, misr_hdf_filename):\n",
    "    \n",
    "    # print(roi_ahi_sr)\n",
    "    misr_path = orbit_to_path(misr_orbit)\n",
    "    # MISR v3 netCDF4\n",
    "    misr_nc = netCDF4.Dataset(misr_nc_filename)\n",
    "    misr_nc_11 = misr_nc.groups['1.1_KM_PRODUCTS']\n",
    "    misr_brf_var = misr_nc_11.variables['Bidirectional_Reflectance_Factor']\n",
    "    misr_brf_scalev3 = misr_brf_var.scale_factor\n",
    "    misr_brf_offsetv3 = misr_brf_var.add_offset\n",
    "    misr_nc.close()\n",
    "    m_file2 = MtkFile(misr_nc_filename)\n",
    "    m_grid11 = m_file2.grid('1.1_KM_PRODUCTS')\n",
    "    misr_resolutionv3 = m_grid11.resolution\n",
    "    m_field11 = m_grid11.field('Bidirectional_Reflectance_Factor[' + str(band_index) + ']' + '[' + str(misr_camera_index) + ']')\n",
    "    \n",
    "    # MISR TOA HDF\n",
    "    m_file = MtkFile(misr_hdf_filename)\n",
    "    m_grid22 = m_file.grid('ReflectingLevelParameters_2.2_km')\n",
    "    misr_resolution = m_grid22.resolution\n",
    "    toa_field = m_grid22.field('BRFTop_Mean[' + str(band_index) + ']' + '[' + str(misr_camera_index) + ']')  # band, camera\n",
    "\n",
    "    # MISR data at ROI\n",
    "    roi_misr_brfv3 = 0.\n",
    "    roi_misr_toa = 0.\n",
    "    \n",
    "    try:\n",
    "        misr_blsv3 = latlon_to_bls(misr_path, misr_resolutionv3, lat, lon)\n",
    "        block_llv3 = misr_blsv3[0]\n",
    "        b_lat_idxv3 = round(misr_blsv3[1])\n",
    "        b_lon_idxv3 = round(misr_blsv3[2])\n",
    "\n",
    "        misr_bls_toa = latlon_to_bls(misr_path, misr_resolution, lat, lon)\n",
    "        block_ll_toa = misr_bls_toa[0]\n",
    "        b_lat_idx_toa = round(misr_bls_toa[1])\n",
    "        b_lon_idx_toa = round(misr_bls_toa[2])\n",
    "\n",
    "        block_brf_dnv3 = m_field11.read(block_llv3, block_llv3)[0]\n",
    "        roi_brf_dnv3 = block_brf_dnv3[b_lat_idxv3][b_lon_idxv3]\n",
    "        roi_brf_tv3 = BRF_TrueValue(roi_brf_dnv3, misr_brf_scalev3, misr_brf_offsetv3)\n",
    "\n",
    "        block_brf_dn_toa = toa_field.read(block_ll_toa, block_ll_toa)[0]\n",
    "        roi_brf_t_toa = block_brf_dn_toa[b_lat_idx_toa][b_lon_idx_toa]\n",
    "\n",
    "        roi_misr_brfv3 = roi_brf_tv3\n",
    "        roi_misr_toa = roi_brf_t_toa\n",
    "    except Exception as e:\n",
    "        roi_misr_brfv3 = 0.\n",
    "        roi_misr_toa = 0.\n",
    "\n",
    "    # if any cloud-free obs. is existed\n",
    "    if roi_misr_brfv3 > 0.:\n",
    "        return roi_misr_brfv3, roi_misr_toa\n",
    "    return 0., 0.\n",
    "\n",
    "\n",
    "def get_roi_misr_ahi(roi_lon, roi_lat, misr_path_orbit_camera, band_index):\n",
    "    misr_path_orbit = misr_path_orbit_camera[:12]\n",
    "    misr_path = int(misr_path_orbit[1:4])\n",
    "    misr_orbit = int(misr_path_orbit[-6:])\n",
    "    misr_camera_index = int(misr_path_orbit_camera[-1:])\n",
    "    \n",
    "    misr_nc_filename = os.path.join(MISR_NC_FOLDER, 'MISR_AM1_AS_LAND_' + misr_path_orbit + '_F08_0023.nc')\n",
    "    misr_hdf_filename = download_MISR_MIL2TCST02_HDF(MISR_TOA_FOLDER, misr_path, misr_orbit)\n",
    "\n",
    "    roi_misr_toa = record_roi_misr_ahi(roi_lon, roi_lat, band_index, misr_orbit, misr_camera_index, misr_nc_filename, misr_hdf_filename)\n",
    "    return roi_misr_toa"
   ]
  },
  {
   "cell_type": "code",
   "execution_count": 58,
   "id": "41a1557d-aad5-4611-aa86-b83c3e8995d3",
   "metadata": {},
   "outputs": [],
   "source": [
    "roi_lon = 129.25\n",
    "roi_lat = -20.25\n",
    "misr_path_orbit_camera = 'P105_O093079_3'\n",
    "band_index = 3\n",
    "roi_misr_brf, roi_misr_toa = get_roi_misr_ahi(roi_lon, roi_lat, misr_path_orbit_camera, band_index)"
   ]
  },
  {
   "cell_type": "code",
   "execution_count": 59,
   "id": "26764671",
   "metadata": {},
   "outputs": [
    {
     "data": {
      "text/plain": [
       "0.3272447"
      ]
     },
     "execution_count": 59,
     "metadata": {},
     "output_type": "execute_result"
    }
   ],
   "source": [
    "roi_misr_brf # BRF"
   ]
  },
  {
   "cell_type": "code",
   "execution_count": 60,
   "id": "935dc62e",
   "metadata": {},
   "outputs": [
    {
     "data": {
      "text/plain": [
       "0.3311854"
      ]
     },
     "execution_count": 60,
     "metadata": {},
     "output_type": "execute_result"
    }
   ],
   "source": [
    "roi_misr_toa"
   ]
  },
  {
   "cell_type": "markdown",
   "id": "47f276c0",
   "metadata": {},
   "source": [
    "### HDRF"
   ]
  },
  {
   "cell_type": "code",
   "execution_count": 29,
   "id": "610c0cc9",
   "metadata": {},
   "outputs": [],
   "source": [
    "def HDRF_TrueValue(o_value, scale, offset):\n",
    "    fill = 65533\n",
    "    underflow = 65534\n",
    "    overflow = 65535\n",
    "\n",
    "    if o_value in [fill, underflow, overflow]:\n",
    "        return 0.\n",
    "    else:\n",
    "        y = o_value * scale + offset\n",
    "        return y\n",
    "    \n",
    "    \n",
    "def record_roi_misr_ahi_HDRF(lon, lat, band_index, misr_orbit, misr_camera_index, misr_nc_filename, misr_hdf_filename):\n",
    "    \n",
    "    # print(roi_ahi_sr)\n",
    "    misr_path = orbit_to_path(misr_orbit)\n",
    "    # MISR v3 netCDF4\n",
    "    misr_nc = netCDF4.Dataset(misr_nc_filename)\n",
    "    misr_nc_11 = misr_nc.groups['1.1_KM_PRODUCTS']\n",
    "    misr_brf_var = misr_nc_11.variables['Hemispherical_Directional_Reflectance_Factor']\n",
    "    misr_brf_scalev3 = misr_brf_var.scale_factor\n",
    "    misr_brf_offsetv3 = misr_brf_var.add_offset\n",
    "    misr_nc.close()\n",
    "    m_file2 = MtkFile(misr_nc_filename)\n",
    "    m_grid11 = m_file2.grid('1.1_KM_PRODUCTS')\n",
    "    misr_resolutionv3 = m_grid11.resolution\n",
    "    m_field11 = m_grid11.field('Hemispherical_Directional_Reflectance_Factor[' + str(band_index) + ']' + '[' + str(misr_camera_index) + ']')\n",
    "    \n",
    "    # MISR TOA HDF\n",
    "    m_file = MtkFile(misr_hdf_filename)\n",
    "    m_grid22 = m_file.grid('ReflectingLevelParameters_2.2_km')\n",
    "    misr_resolution = m_grid22.resolution\n",
    "    toa_field = m_grid22.field('BRFTop_Mean[' + str(band_index) + ']' + '[' + str(misr_camera_index) + ']')  # band, camera\n",
    "\n",
    "    # MISR data at ROI\n",
    "    roi_misr_brfv3 = 0.\n",
    "    roi_misr_toa = 0.\n",
    "    \n",
    "    try:\n",
    "        misr_blsv3 = latlon_to_bls(misr_path, misr_resolutionv3, lat, lon)\n",
    "        block_llv3 = misr_blsv3[0]\n",
    "        b_lat_idxv3 = round(misr_blsv3[1])\n",
    "        b_lon_idxv3 = round(misr_blsv3[2])\n",
    "\n",
    "        misr_bls_toa = latlon_to_bls(misr_path, misr_resolution, lat, lon)\n",
    "        block_ll_toa = misr_bls_toa[0]\n",
    "        b_lat_idx_toa = round(misr_bls_toa[1])\n",
    "        b_lon_idx_toa = round(misr_bls_toa[2])\n",
    "\n",
    "        block_brf_dnv3 = m_field11.read(block_llv3, block_llv3)[0]\n",
    "        roi_brf_dnv3 = block_brf_dnv3[b_lat_idxv3][b_lon_idxv3]\n",
    "        roi_brf_tv3 = HDRF_TrueValue(roi_brf_dnv3, misr_brf_scalev3, misr_brf_offsetv3)\n",
    "\n",
    "        block_brf_dn_toa = toa_field.read(block_ll_toa, block_ll_toa)[0]\n",
    "        roi_brf_t_toa = block_brf_dn_toa[b_lat_idx_toa][b_lon_idx_toa]\n",
    "\n",
    "        roi_misr_brfv3 = roi_brf_tv3\n",
    "        roi_misr_toa = roi_brf_t_toa\n",
    "    except Exception as e:\n",
    "        roi_misr_brfv3 = 0.\n",
    "        roi_misr_toa = 0.\n",
    "\n",
    "    # if any cloud-free obs. is existed\n",
    "    if roi_misr_brfv3 > 0.:\n",
    "        return roi_misr_brfv3, roi_misr_toa\n",
    "    return 0., 0.\n",
    "\n",
    "\n",
    "def get_roi_misr_ahi_HDRF(roi_lon, roi_lat, misr_path_orbit_camera, band_index):\n",
    "    misr_path_orbit = misr_path_orbit_camera[:12]\n",
    "    misr_path = int(misr_path_orbit[1:4])\n",
    "    misr_orbit = int(misr_path_orbit[-6:])\n",
    "    misr_camera_index = int(misr_path_orbit_camera[-1:])\n",
    "    \n",
    "    misr_nc_filename = os.path.join(MISR_NC_FOLDER, 'MISR_AM1_AS_LAND_' + misr_path_orbit + '_F08_0023.nc')\n",
    "    misr_hdf_filename = download_MISR_MIL2TCST02_HDF(MISR_TOA_FOLDER, misr_path, misr_orbit)\n",
    "\n",
    "    roi_misr_toa = record_roi_misr_ahi_HDRF(roi_lon, roi_lat, band_index, misr_orbit, misr_camera_index, misr_nc_filename, misr_hdf_filename)\n",
    "    return roi_misr_toa"
   ]
  },
  {
   "cell_type": "code",
   "execution_count": 30,
   "id": "662b6c39",
   "metadata": {},
   "outputs": [],
   "source": [
    "roi_lon = 129.25\n",
    "roi_lat = -20.25\n",
    "misr_path_orbit_camera = 'P105_O093079_3'\n",
    "band_index = 3\n",
    "roi_sr, roi_toa = get_roi_misr_ahi_HDRF(roi_lon, roi_lat, misr_path_orbit_camera, band_index)"
   ]
  },
  {
   "cell_type": "code",
   "execution_count": 31,
   "id": "5717f6ce",
   "metadata": {},
   "outputs": [
    {
     "data": {
      "text/plain": [
       "0.32693952"
      ]
     },
     "execution_count": 31,
     "metadata": {},
     "output_type": "execute_result"
    }
   ],
   "source": [
    "roi_sr # HDRF"
   ]
  },
  {
   "cell_type": "markdown",
   "id": "0ac09fe1",
   "metadata": {},
   "source": [
    "### BHR"
   ]
  },
  {
   "cell_type": "code",
   "execution_count": 42,
   "id": "3c340145",
   "metadata": {},
   "outputs": [],
   "source": [
    "def BHR_TrueValue(o_value, scale, offset):\n",
    "    fill = 65533\n",
    "    underflow = 65534\n",
    "    overflow = 65535\n",
    "\n",
    "    if o_value in [fill, underflow, overflow]:\n",
    "        return 0.\n",
    "    else:\n",
    "        y = o_value * scale + offset\n",
    "        return y\n",
    "    \n",
    "    \n",
    "def record_roi_misr_ahi_BHR(lon, lat, band_index, misr_orbit, misr_camera_index, misr_nc_filename, misr_hdf_filename):\n",
    "    \n",
    "    # print(roi_ahi_sr)\n",
    "    misr_path = orbit_to_path(misr_orbit)\n",
    "    # MISR v3 netCDF4\n",
    "    misr_nc = netCDF4.Dataset(misr_nc_filename)\n",
    "    misr_nc_11 = misr_nc.groups['1.1_KM_PRODUCTS']\n",
    "    misr_brf_var = misr_nc_11.variables['Bi-Hemispherical_Reflectance']\n",
    "    misr_brf_scalev3 = misr_brf_var.scale_factor\n",
    "    misr_brf_offsetv3 = misr_brf_var.add_offset\n",
    "    misr_nc.close()\n",
    "    m_file2 = MtkFile(misr_nc_filename)\n",
    "    m_grid11 = m_file2.grid('1.1_KM_PRODUCTS')\n",
    "    misr_resolutionv3 = m_grid11.resolution\n",
    "    m_field11 = m_grid11.field('Bi-Hemispherical_Reflectance[' + str(band_index) + ']')\n",
    "    \n",
    "    # MISR TOA HDF\n",
    "    m_file = MtkFile(misr_hdf_filename)\n",
    "    m_grid22 = m_file.grid('ReflectingLevelParameters_2.2_km')\n",
    "    misr_resolution = m_grid22.resolution\n",
    "    toa_field = m_grid22.field('BRFTop_Mean[' + str(band_index) + ']' + '[' + str(misr_camera_index) + ']')  # band, camera\n",
    "\n",
    "    # MISR data at ROI\n",
    "    roi_misr_brfv3 = 0.\n",
    "    roi_misr_toa = 0.\n",
    "    \n",
    "    try:\n",
    "        misr_blsv3 = latlon_to_bls(misr_path, misr_resolutionv3, lat, lon)\n",
    "        block_llv3 = misr_blsv3[0]\n",
    "        b_lat_idxv3 = round(misr_blsv3[1])\n",
    "        b_lon_idxv3 = round(misr_blsv3[2])\n",
    "\n",
    "        misr_bls_toa = latlon_to_bls(misr_path, misr_resolution, lat, lon)\n",
    "        block_ll_toa = misr_bls_toa[0]\n",
    "        b_lat_idx_toa = round(misr_bls_toa[1])\n",
    "        b_lon_idx_toa = round(misr_bls_toa[2])\n",
    "\n",
    "        block_brf_dnv3 = m_field11.read(block_llv3, block_llv3)[0]\n",
    "        roi_brf_dnv3 = block_brf_dnv3[b_lat_idxv3][b_lon_idxv3]\n",
    "        roi_brf_tv3 = BHR_TrueValue(roi_brf_dnv3, misr_brf_scalev3, misr_brf_offsetv3)\n",
    "\n",
    "        block_brf_dn_toa = toa_field.read(block_ll_toa, block_ll_toa)[0]\n",
    "        roi_brf_t_toa = block_brf_dn_toa[b_lat_idx_toa][b_lon_idx_toa]\n",
    "\n",
    "        roi_misr_brfv3 = roi_brf_tv3\n",
    "        roi_misr_toa = roi_brf_t_toa\n",
    "    except Exception as e:\n",
    "        roi_misr_brfv3 = 0.\n",
    "        roi_misr_toa = 0.\n",
    "\n",
    "    # if any cloud-free obs. is existed\n",
    "    if roi_misr_brfv3 > 0.:\n",
    "        return roi_misr_brfv3, roi_misr_toa\n",
    "    return 0., 0.\n",
    "\n",
    "\n",
    "def get_roi_misr_ahi_BHR(roi_lon, roi_lat, misr_path_orbit_camera, band_index):\n",
    "    misr_path_orbit = misr_path_orbit_camera[:12]\n",
    "    misr_path = int(misr_path_orbit[1:4])\n",
    "    misr_orbit = int(misr_path_orbit[-6:])\n",
    "    misr_camera_index = int(misr_path_orbit_camera[-1:])\n",
    "    \n",
    "    misr_nc_filename = os.path.join(MISR_NC_FOLDER, 'MISR_AM1_AS_LAND_' + misr_path_orbit + '_F08_0023.nc')\n",
    "    misr_hdf_filename = download_MISR_MIL2TCST02_HDF(MISR_TOA_FOLDER, misr_path, misr_orbit)\n",
    "\n",
    "    roi_misr_toa = record_roi_misr_ahi_BHR(roi_lon, roi_lat, band_index, misr_orbit, misr_camera_index, misr_nc_filename, misr_hdf_filename)\n",
    "    return roi_misr_toa"
   ]
  },
  {
   "cell_type": "code",
   "execution_count": 43,
   "id": "d771c8dd",
   "metadata": {},
   "outputs": [],
   "source": [
    "roi_lon = 129.25\n",
    "roi_lat = -20.25\n",
    "misr_path_orbit_camera = 'P105_O093079_3'\n",
    "band_index = 3\n",
    "roi_sr, roi_toa = get_roi_misr_ahi_BHR(roi_lon, roi_lat, misr_path_orbit_camera, band_index)"
   ]
  },
  {
   "cell_type": "code",
   "execution_count": 44,
   "id": "28d0e1b2",
   "metadata": {},
   "outputs": [
    {
     "data": {
      "text/plain": [
       "0.31249997"
      ]
     },
     "execution_count": 44,
     "metadata": {},
     "output_type": "execute_result"
    }
   ],
   "source": [
    "roi_sr #BHR"
   ]
  },
  {
   "cell_type": "markdown",
   "id": "9f9116b6",
   "metadata": {},
   "source": [
    "### DHR"
   ]
  },
  {
   "cell_type": "code",
   "execution_count": 45,
   "id": "9d5b6d8e",
   "metadata": {},
   "outputs": [],
   "source": [
    "def DHR_TrueValue(o_value, scale, offset):\n",
    "    fill = 65533\n",
    "    underflow = 65534\n",
    "    overflow = 65535\n",
    "\n",
    "    if o_value in [fill, underflow, overflow]:\n",
    "        return 0.\n",
    "    else:\n",
    "        y = o_value * scale + offset\n",
    "        return y\n",
    "    \n",
    "    \n",
    "def record_roi_misr_ahi_DHR(lon, lat, band_index, misr_orbit, misr_camera_index, misr_nc_filename, misr_hdf_filename):\n",
    "    \n",
    "    # print(roi_ahi_sr)\n",
    "    misr_path = orbit_to_path(misr_orbit)\n",
    "    # MISR v3 netCDF4\n",
    "    misr_nc = netCDF4.Dataset(misr_nc_filename)\n",
    "    misr_nc_11 = misr_nc.groups['1.1_KM_PRODUCTS']\n",
    "    misr_brf_var = misr_nc_11.variables['Directional_Hemispherical_Reflectance']\n",
    "    misr_brf_scalev3 = misr_brf_var.scale_factor\n",
    "    misr_brf_offsetv3 = misr_brf_var.add_offset\n",
    "    misr_nc.close()\n",
    "    m_file2 = MtkFile(misr_nc_filename)\n",
    "    m_grid11 = m_file2.grid('1.1_KM_PRODUCTS')\n",
    "    misr_resolutionv3 = m_grid11.resolution\n",
    "    m_field11 = m_grid11.field('Directional_Hemispherical_Reflectance[' + str(band_index) + ']')\n",
    "    \n",
    "    # MISR TOA HDF\n",
    "    m_file = MtkFile(misr_hdf_filename)\n",
    "    m_grid22 = m_file.grid('ReflectingLevelParameters_2.2_km')\n",
    "    misr_resolution = m_grid22.resolution\n",
    "    toa_field = m_grid22.field('BRFTop_Mean[' + str(band_index) + ']' + '[' + str(misr_camera_index) + ']')  # band, camera\n",
    "\n",
    "    # MISR data at ROI\n",
    "    roi_misr_brfv3 = 0.\n",
    "    roi_misr_toa = 0.\n",
    "    \n",
    "    try:\n",
    "        misr_blsv3 = latlon_to_bls(misr_path, misr_resolutionv3, lat, lon)\n",
    "        block_llv3 = misr_blsv3[0]\n",
    "        b_lat_idxv3 = round(misr_blsv3[1])\n",
    "        b_lon_idxv3 = round(misr_blsv3[2])\n",
    "\n",
    "        misr_bls_toa = latlon_to_bls(misr_path, misr_resolution, lat, lon)\n",
    "        block_ll_toa = misr_bls_toa[0]\n",
    "        b_lat_idx_toa = round(misr_bls_toa[1])\n",
    "        b_lon_idx_toa = round(misr_bls_toa[2])\n",
    "\n",
    "        block_brf_dnv3 = m_field11.read(block_llv3, block_llv3)[0]\n",
    "        roi_brf_dnv3 = block_brf_dnv3[b_lat_idxv3][b_lon_idxv3]\n",
    "        roi_brf_tv3 = DHR_TrueValue(roi_brf_dnv3, misr_brf_scalev3, misr_brf_offsetv3)\n",
    "\n",
    "        block_brf_dn_toa = toa_field.read(block_ll_toa, block_ll_toa)[0]\n",
    "        roi_brf_t_toa = block_brf_dn_toa[b_lat_idx_toa][b_lon_idx_toa]\n",
    "\n",
    "        roi_misr_brfv3 = roi_brf_tv3\n",
    "        roi_misr_toa = roi_brf_t_toa\n",
    "    except Exception as e:\n",
    "        roi_misr_brfv3 = 0.\n",
    "        roi_misr_toa = 0.\n",
    "\n",
    "    # if any cloud-free obs. is existed\n",
    "    if roi_misr_brfv3 > 0.:\n",
    "        return roi_misr_brfv3, roi_misr_toa\n",
    "    return 0., 0.\n",
    "\n",
    "\n",
    "def get_roi_misr_ahi_DHR(roi_lon, roi_lat, misr_path_orbit_camera, band_index):\n",
    "    misr_path_orbit = misr_path_orbit_camera[:12]\n",
    "    misr_path = int(misr_path_orbit[1:4])\n",
    "    misr_orbit = int(misr_path_orbit[-6:])\n",
    "    misr_camera_index = int(misr_path_orbit_camera[-1:])\n",
    "    \n",
    "    misr_nc_filename = os.path.join(MISR_NC_FOLDER, 'MISR_AM1_AS_LAND_' + misr_path_orbit + '_F08_0023.nc')\n",
    "    misr_hdf_filename = download_MISR_MIL2TCST02_HDF(MISR_TOA_FOLDER, misr_path, misr_orbit)\n",
    "\n",
    "    roi_misr_toa = record_roi_misr_ahi_DHR(roi_lon, roi_lat, band_index, misr_orbit, misr_camera_index, misr_nc_filename, misr_hdf_filename)\n",
    "    return roi_misr_toa"
   ]
  },
  {
   "cell_type": "code",
   "execution_count": 46,
   "id": "8b8bdae1",
   "metadata": {},
   "outputs": [],
   "source": [
    "roi_lon = 129.25\n",
    "roi_lat = -20.25\n",
    "misr_path_orbit_camera = 'P105_O093079_3'\n",
    "band_index = 3\n",
    "roi_sr, roi_toa = get_roi_misr_ahi_DHR(roi_lon, roi_lat, misr_path_orbit_camera, band_index)"
   ]
  },
  {
   "cell_type": "code",
   "execution_count": 47,
   "id": "a5cd7c4a",
   "metadata": {},
   "outputs": [
    {
     "data": {
      "text/plain": [
       "0.31249997"
      ]
     },
     "execution_count": 47,
     "metadata": {},
     "output_type": "execute_result"
    }
   ],
   "source": [
    "roi_sr # DHR"
   ]
  },
  {
   "cell_type": "markdown",
   "id": "e42e6516",
   "metadata": {},
   "source": [
    "## AHI的TOA数据读取"
   ]
  },
  {
   "cell_type": "code",
   "execution_count": 11,
   "id": "0eba1d4f",
   "metadata": {},
   "outputs": [],
   "source": [
    "DN2Tbb_folder = '/disk1/Data/band_DN2Tbb'\n",
    "BAND_INFO = {\n",
    "    'band1': ['VIS', '0.01', '.vis.01.fld.geoss.bz2', 'vis.01'],\n",
    "    'band2': ['VIS', '0.01', '.vis.02.fld.geoss.bz2', 'vis.02'],\n",
    "    'band3': ['EXT', '0.005', '.ext.01.fld.geoss.bz2', 'ext.01'],\n",
    "    'band4': ['VIS', '0.01', '.vis.03.fld.geoss.bz2', 'vis.03'],\n",
    "}\n",
    "\n",
    "\n",
    "def roi_ahi_data_dn(r_lon, r_lat, ahi_bin, o_resolution):\n",
    "    # get roi data array with AHI resolution (1km)\n",
    "    lons = numpy.arange(85. + o_resolution / 2, 205, o_resolution)\n",
    "    lats = numpy.arange(60. - o_resolution / 2, -60, -o_resolution)\n",
    "    ahi_dn = numpy.fromfile(ahi_bin, dtype='>u2')\n",
    "    ahi_dn = ahi_dn.reshape(len(lats), len(lons))\n",
    "    \n",
    "    data_ahi_roi = ahi_dn[int((60-r_lat)/o_resolution)][int((r_lon-85)/o_resolution)]\n",
    "    \n",
    "    return data_ahi_roi\n",
    "\n",
    "\n",
    "def roi_ahi_data(r_lon, r_lat, filename, band_jma):\n",
    "    band_info_ = BAND_INFO[band_jma]\n",
    "    resolution = float(band_info_[1])\n",
    "    roi_ahi_dn = roi_ahi_data_dn(r_lon, r_lat, filename, resolution)\n",
    "    # DN to Tbb\n",
    "    LUT_file = band_info_[3]\n",
    "    LUT_filename = os.path.join(DN2Tbb_folder, LUT_file)\n",
    "    DN2Tbb_LUT = numpy.loadtxt(LUT_filename)\n",
    "    roi_ahi_ref = numpy.zeros_like(roi_ahi_dn)\n",
    "    roi_ahi_ref = DN2Tbb_LUT[int(roi_ahi_dn), 1]\n",
    "    roi_ahi_ref = roi_ahi_ref / 100\n",
    "    return roi_ahi_ref"
   ]
  },
  {
   "cell_type": "code",
   "execution_count": 56,
   "id": "aee5e2fd",
   "metadata": {},
   "outputs": [],
   "source": [
    "roi_lon = 129.25\n",
    "roi_lat = -20.25\n",
    "ahi_obstime = 201706180130\n",
    "ahi_filename = '/disk1/workspace/20230615/201706180130.vis.03.fld.geoss'\n",
    "roi_ahi_toa = roi_ahi_data(roi_lon, roi_lat, ahi_filename, 'band4')"
   ]
  },
  {
   "cell_type": "code",
   "execution_count": 50,
   "id": "4f476e48",
   "metadata": {},
   "outputs": [],
   "source": [
    "roi_lon = 129.25\n",
    "roi_lat = -20.25\n",
    "ahi_filename = '/disk1/workspace/20230615/201706180130.sun.zth.fld.4km.bin'\n",
    "# get roi angle array with AHI resolution (4km)\n",
    "a_resolution = 0.04\n",
    "lons = numpy.arange(85. + a_resolution / 2, 205, a_resolution)\n",
    "lats = numpy.arange(60. - a_resolution / 2, -60, -a_resolution)\n",
    "ahi_dn = numpy.fromfile(ahi_filename, dtype='>f4')\n",
    "ahi_dn = ahi_dn.reshape(len(lats), len(lons))\n",
    "sza_ahi_roi = ahi_dn[int((60-roi_lat)/a_resolution)][int((roi_lon-85)/a_resolution)]"
   ]
  },
  {
   "cell_type": "code",
   "execution_count": 62,
   "id": "ac924465",
   "metadata": {},
   "outputs": [
    {
     "data": {
      "text/plain": [
       "0.20411764999999998"
      ]
     },
     "execution_count": 62,
     "metadata": {},
     "output_type": "execute_result"
    }
   ],
   "source": [
    "roi_ahi_toa"
   ]
  },
  {
   "cell_type": "code",
   "execution_count": 51,
   "id": "b38bce28",
   "metadata": {},
   "outputs": [
    {
     "data": {
      "text/plain": [
       "50.79307"
      ]
     },
     "execution_count": 51,
     "metadata": {},
     "output_type": "execute_result"
    }
   ],
   "source": [
    "sza_ahi_roi # degree"
   ]
  },
  {
   "cell_type": "code",
   "execution_count": 63,
   "id": "f96845c0",
   "metadata": {},
   "outputs": [
    {
     "data": {
      "text/plain": [
       "0.3311854"
      ]
     },
     "execution_count": 63,
     "metadata": {},
     "output_type": "execute_result"
    }
   ],
   "source": [
    "roi_misr_toa"
   ]
  },
  {
   "cell_type": "code",
   "execution_count": 64,
   "id": "78e75494",
   "metadata": {},
   "outputs": [
    {
     "data": {
      "text/plain": [
       "0.20934991055876837"
      ]
     },
     "execution_count": 64,
     "metadata": {},
     "output_type": "execute_result"
    }
   ],
   "source": [
    "roi_misr_toa * math.cos(math.radians(sza_ahi_roi))"
   ]
  },
  {
   "cell_type": "code",
   "execution_count": null,
   "id": "aa428f76",
   "metadata": {},
   "outputs": [],
   "source": []
  }
 ],
 "metadata": {
  "kernelspec": {
   "display_name": "Python 3",
   "language": "python",
   "name": "python3"
  },
  "language_info": {
   "codemirror_mode": {
    "name": "ipython",
    "version": 3
   },
   "file_extension": ".py",
   "mimetype": "text/x-python",
   "name": "python",
   "nbconvert_exporter": "python",
   "pygments_lexer": "ipython3",
   "version": "3.6.8"
  }
 },
 "nbformat": 4,
 "nbformat_minor": 5
}
