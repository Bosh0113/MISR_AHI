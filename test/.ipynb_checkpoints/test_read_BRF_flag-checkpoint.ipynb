{
 "cells": [
  {
   "cell_type": "code",
   "execution_count": 1,
   "id": "a5d200eb",
   "metadata": {},
   "outputs": [],
   "source": [
    "nc_filename = '/disk1/workspace/20230627/MISR_AM1_AS_LAND_P061_O082766_F08_0023.nc'"
   ]
  },
  {
   "cell_type": "code",
   "execution_count": 2,
   "id": "eaa93dc4",
   "metadata": {},
   "outputs": [],
   "source": [
    "from MisrToolkit import MtkFile"
   ]
  },
  {
   "cell_type": "code",
   "execution_count": 3,
   "id": "1588614d",
   "metadata": {},
   "outputs": [],
   "source": [
    "m_file2 = MtkFile(nc_filename)\n",
    "m_grid11 = m_file2.grid('1.1_KM_PRODUCTS')"
   ]
  },
  {
   "cell_type": "code",
   "execution_count": 9,
   "id": "144784dc",
   "metadata": {},
   "outputs": [],
   "source": [
    "m_field11 = m_grid11.field('AUXILIARY/BRF_HDRF_Interpolation_Flag[3][4]')"
   ]
  },
  {
   "cell_type": "code",
   "execution_count": 31,
   "id": "9df12ee7",
   "metadata": {},
   "outputs": [
    {
     "name": "stdout",
     "output_type": "stream",
     "text": [
      "11\n",
      "12\n",
      "13\n",
      "14\n",
      "15\n",
      "16\n",
      "17\n",
      "18\n",
      "19\n",
      "20\n",
      "21\n",
      "22\n",
      "23\n",
      "24\n",
      "25\n",
      "26\n",
      "27\n",
      "28\n",
      "29\n",
      "30\n",
      "31\n",
      "32\n",
      "33\n",
      "34\n",
      "35\n",
      "36\n",
      "37\n",
      "38\n",
      "39\n",
      "40\n",
      "41\n",
      "42\n",
      "43\n",
      "75\n",
      "89\n",
      "97\n",
      "98\n",
      "99\n",
      "105\n",
      "106\n"
     ]
    }
   ],
   "source": [
    "for idx in range(10, 108):\n",
    "    block_flag = m_field11.read(idx, idx)[0]\n",
    "    if 0 in block_flag:\n",
    "        print(idx)"
   ]
  },
  {
   "cell_type": "code",
   "execution_count": 16,
   "id": "3e0b1890",
   "metadata": {},
   "outputs": [],
   "source": [
    "import matplotlib.pyplot as plt"
   ]
  },
  {
   "cell_type": "code",
   "execution_count": 32,
   "id": "85b87a4e",
   "metadata": {},
   "outputs": [],
   "source": [
    "block_flag = m_field11.read(40, 40)[0]"
   ]
  },
  {
   "cell_type": "code",
   "execution_count": 33,
   "id": "73bde42c",
   "metadata": {},
   "outputs": [
    {
     "data": {
      "text/plain": [
       "<matplotlib.colorbar.Colorbar at 0x7fc8a814c668>"
      ]
     },
     "execution_count": 33,
     "metadata": {},
     "output_type": "execute_result"
    },
    {
     "data": {
      "image/png": "[encoded data removed]",
      "text/plain": [
       "<Figure size 432x288 with 2 Axes>"
      ]
     },
     "metadata": {
      "needs_background": "light"
     },
     "output_type": "display_data"
    }
   ],
   "source": [
    "plt.imshow(block_flag)\n",
    "plt.colorbar()"
   ]
  }
 ],
 "metadata": {
  "kernelspec": {
   "display_name": "Python 3",
   "language": "python",
   "name": "python3"
  },
  "language_info": {
   "codemirror_mode": {
    "name": "ipython",
    "version": 3
   },
   "file_extension": ".py",
   "mimetype": "text/x-python",
   "name": "python",
   "nbconvert_exporter": "python",
   "pygments_lexer": "ipython3",
   "version": "3.6.8"
  }
 },
 "nbformat": 4,
 "nbformat_minor": 5
}
