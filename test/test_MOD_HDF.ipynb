{
 "cells": [
  {
   "cell_type": "code",
   "execution_count": 4,
   "id": "01db1c0f",
   "metadata": {},
   "outputs": [],
   "source": [
    "from pyhdf.SD import SD, SDC"
   ]
  },
  {
   "cell_type": "markdown",
   "id": "155f4430",
   "metadata": {},
   "source": [
    "### MOD02"
   ]
  },
  {
   "cell_type": "code",
   "execution_count": 22,
   "id": "7463ba45",
   "metadata": {},
   "outputs": [],
   "source": [
    "mod02_filename = '/disk1/workspace/20230615/MOD021KM.A2017169.0135.061.2017314221649.hdf'"
   ]
  },
  {
   "cell_type": "code",
   "execution_count": 23,
   "id": "057c6f54",
   "metadata": {},
   "outputs": [],
   "source": [
    "hdf_file = SD(mod02_filename, SDC.READ)"
   ]
  },
  {
   "cell_type": "code",
   "execution_count": 24,
   "id": "1f3a1015",
   "metadata": {},
   "outputs": [
    {
     "name": "stdout",
     "output_type": "stream",
     "text": [
      "Attributes: \n",
      "0 HDFEOSVersion\n",
      "1 StructMetadata.0\n",
      "2 HDFEOS_FractionalOffset_10*nscans_MODIS_SWATH_Type_L1B\n",
      "3 HDFEOS_FractionalOffset_Max_EV_frames_MODIS_SWATH_Type_L1B\n",
      "4 CoreMetadata.0\n",
      "5 ArchiveMetadata.0\n",
      "6 Number of Scans\n",
      "7 Number of Day mode scans\n",
      "8 Number of Night mode scans\n",
      "9 Incomplete Scans\n",
      "10 Max Earth View Frames\n",
      "11 %Valid EV Observations\n",
      "12 %Saturated EV Observations\n",
      "13 % L1A EV All Scan Data are Missing\n",
      "14 % L1A EV RSB DN Not in Day Mode\n",
      "15 % L1A EV DN Missing Within Scan\n",
      "16 % Dead Detector EV Data\n",
      "17 % Dead Subframe EV Data\n",
      "18 % Sector Rotation EV Data\n",
      "19 % Saturated EV Data\n",
      "20 % TEB EV Data With Moon in SVP\n",
      "21 % EV Data Where Cannot Compute BG DN\n",
      "22 % RSB EV Data With dn** Below Scale\n",
      "23 % EV Data Where Nadir Door Closed\n",
      "24 % EV Data Not Calibrated\n",
      "25 Bit QA Flags Last Value\n",
      "26 Bit QA Flags Change\n",
      "27 Granule Average QA Values\n",
      "28 Electronics Redundancy Vector\n",
      "29 Electronics Configuration Change\n",
      "30 Reflective LUT Serial Number and Date of Last Change\n",
      "31 Emissive LUT Serial Number and Date of Last Change\n",
      "32 QA LUT Serial Number and Date of Last Change\n",
      "33 Focal Plane Set Point State\n",
      "34 Doors and Screens Configuration\n",
      "35 Reflective Bands With Bad Data\n",
      "36 Emissive Bands With Bad Data\n",
      "37 Noise in Black Body Thermistors\n",
      "38 Noise in Average BB Temperature\n",
      "39 Noise in LWIR FPA Temperature\n",
      "40 Noise in MWIR FPA Temperature\n",
      "41 Noise in Scan Mirror Thermistor #1\n",
      "42 Noise in Scan Mirror Thermistor #2\n",
      "43 Noise in Scan Mirror Thermistor Average\n",
      "44 Noise in Instrument Temperature\n",
      "45 Noise in Cavity Temperature\n",
      "46 Noise in Temperature of NIR FPA\n",
      "47 Noise in Temperature of Vis FPA\n",
      "48 Dead Detector List\n",
      "49 Noisy Detector List\n",
      "50 Dead Subframe List\n",
      "51 Noisy Subframe List\n",
      "52 Detector Quality Flag\n",
      "53 Detector Quality Flag2\n",
      "54 Earth-Sun Distance\n",
      "55 Solar Irradiance on RSB Detectors over pi\n",
      "56 identifier_product_doi\n",
      "57 identifier_product_doi_authority\n"
     ]
    }
   ],
   "source": [
    "print(\"Attributes: \")\n",
    "for idx, att in enumerate(hdf_file.attributes()):\n",
    "    print(idx, att)"
   ]
  },
  {
   "cell_type": "code",
   "execution_count": 25,
   "id": "0beb9960",
   "metadata": {},
   "outputs": [
    {
     "name": "stdout",
     "output_type": "stream",
     "text": [
      "Datasets: \n",
      "0 Latitude\n",
      "1 Longitude\n",
      "2 EV_1KM_RefSB\n",
      "3 EV_1KM_RefSB_Uncert_Indexes\n",
      "4 EV_1KM_Emissive\n",
      "5 EV_1KM_Emissive_Uncert_Indexes\n",
      "6 EV_250_Aggr1km_RefSB\n",
      "7 EV_250_Aggr1km_RefSB_Uncert_Indexes\n",
      "8 EV_250_Aggr1km_RefSB_Samples_Used\n",
      "9 EV_500_Aggr1km_RefSB\n",
      "10 EV_500_Aggr1km_RefSB_Uncert_Indexes\n",
      "11 EV_500_Aggr1km_RefSB_Samples_Used\n",
      "12 Height\n",
      "13 SensorZenith\n",
      "14 SensorAzimuth\n",
      "15 Range\n",
      "16 SolarZenith\n",
      "17 SolarAzimuth\n",
      "18 gflags\n",
      "19 EV_Band26\n",
      "20 EV_Band26_Uncert_Indexes\n",
      "21 Band_250M\n",
      "22 Band_500M\n",
      "23 Band_1KM_RefSB\n",
      "24 Band_1KM_Emissive\n",
      "25 Noise in Thermal Detectors\n",
      "26 Change in relative responses of thermal detectors\n",
      "27 DC Restore Change for Thermal Bands\n",
      "28 DC Restore Change for Reflective 250m Bands\n",
      "29 DC Restore Change for Reflective 500m Bands\n",
      "30 DC Restore Change for Reflective 1km Bands\n"
     ]
    }
   ],
   "source": [
    "print(\"Datasets: \")\n",
    "datasets_dic = hdf_file.datasets()\n",
    "for idx, sds in enumerate(datasets_dic.keys()):\n",
    "    print(idx, sds)"
   ]
  },
  {
   "cell_type": "code",
   "execution_count": 26,
   "id": "76b63c1c",
   "metadata": {},
   "outputs": [],
   "source": [
    "sds_obj = hdf_file.select('Latitude')\n",
    "data_lat = sds_obj.get()"
   ]
  },
  {
   "cell_type": "code",
   "execution_count": 27,
   "id": "63ac5b81",
   "metadata": {},
   "outputs": [],
   "source": [
    "sds_obj = hdf_file.select('Longitude')\n",
    "data_lon = sds_obj.get()"
   ]
  },
  {
   "cell_type": "code",
   "execution_count": 28,
   "id": "d4928d6e",
   "metadata": {},
   "outputs": [],
   "source": [
    "sds_obj = hdf_file.select('EV_250_Aggr1km_RefSB')\n",
    "data_sr_b2 = sds_obj.get()[1]"
   ]
  },
  {
   "cell_type": "code",
   "execution_count": 29,
   "id": "d9a3a392",
   "metadata": {},
   "outputs": [
    {
     "data": {
      "text/plain": [
       "((406, 271), (406, 271), (2030, 1354))"
      ]
     },
     "execution_count": 29,
     "metadata": {},
     "output_type": "execute_result"
    }
   ],
   "source": [
    "data_lat.shape, data_lon.shape, data_sr_b2.shape"
   ]
  },
  {
   "cell_type": "code",
   "execution_count": 30,
   "id": "e1e16810",
   "metadata": {},
   "outputs": [],
   "source": [
    "data_sr_b2_t = data_sr_b2 * 0.000034728215"
   ]
  },
  {
   "cell_type": "code",
   "execution_count": 63,
   "id": "a1ba2a27",
   "metadata": {},
   "outputs": [
    {
     "name": "stdout",
     "output_type": "stream",
     "text": [
      "[[-20.220335]]\n",
      "[[129.23279]]\n",
      "[[0.16343098 0.15888158 0.16780673 0.15395018 0.15749246]\n",
      " [0.16544522 0.16464647 0.17068918 0.16065272 0.15530458]\n",
      " [0.17381472 0.17061972 0.17308542 0.16527158 0.15707572]\n",
      " [0.17714862 0.17086282 0.17127956 0.16454228 0.15822175]\n",
      " [0.17048081 0.16888331 0.16957787 0.16277114 0.16207658]]\n"
     ]
    }
   ],
   "source": [
    "row_idx = 132\n",
    "col_idx = 111\n",
    "print(data_lat[row_idx:row_idx+1, col_idx:col_idx+1])\n",
    "print(data_lon[row_idx:row_idx+1, col_idx:col_idx+1])\n",
    "print(data_sr_b2_t[row_idx*5:row_idx*5+5, col_idx*5:col_idx*5+5])"
   ]
  },
  {
   "cell_type": "markdown",
   "id": "dd742dc6",
   "metadata": {},
   "source": [
    "### MOD09"
   ]
  },
  {
   "cell_type": "code",
   "execution_count": null,
   "id": "ce0c4701",
   "metadata": {},
   "outputs": [],
   "source": [
    "mod09_filename = '/disk1/workspace/20230615/MOD09.A2017169.0135.006.2017171021343.hdf'"
   ]
  },
  {
   "cell_type": "code",
   "execution_count": null,
   "id": "e4cce1dc",
   "metadata": {},
   "outputs": [],
   "source": []
  },
  {
   "cell_type": "markdown",
   "id": "449bb923",
   "metadata": {},
   "source": [
    "### MOD09GA"
   ]
  },
  {
   "cell_type": "code",
   "execution_count": null,
   "id": "b92f3f2a",
   "metadata": {},
   "outputs": [],
   "source": [
    "mod09ga_filename = '/disk1/workspace/20230615/MOD09GA.A2017169.h30v11.061.2021274120505.hdf'"
   ]
  },
  {
   "cell_type": "code",
   "execution_count": null,
   "id": "4a274aa5",
   "metadata": {},
   "outputs": [],
   "source": []
  }
 ],
 "metadata": {
  "kernelspec": {
   "display_name": "Python 3",
   "language": "python",
   "name": "python3"
  },
  "language_info": {
   "codemirror_mode": {
    "name": "ipython",
    "version": 3
   },
   "file_extension": ".py",
   "mimetype": "text/x-python",
   "name": "python",
   "nbconvert_exporter": "python",
   "pygments_lexer": "ipython3",
   "version": "3.6.8"
  }
 },
 "nbformat": 4,
 "nbformat_minor": 5
}
