{
 "cells": [
  {
   "cell_type": "code",
   "execution_count": 1,
   "id": "24312a7a",
   "metadata": {},
   "outputs": [],
   "source": [
    "import os\n",
    "import numpy\n",
    "import re\n",
    "import random\n",
    "from scipy.stats import gaussian_kde, pearsonr\n",
    "from sklearn.linear_model import LinearRegression\n",
    "from sklearn.metrics import mean_squared_error, r2_score\n",
    "import matplotlib.transforms as mtransforms\n",
    "import math\n",
    "import matplotlib.pyplot as plt"
   ]
  },
  {
   "cell_type": "code",
   "execution_count": 2,
   "id": "0176ccf9",
   "metadata": {},
   "outputs": [],
   "source": [
    "WORK_SPACE = os.getcwd()"
   ]
  },
  {
   "cell_type": "code",
   "execution_count": 3,
   "id": "2a67effe",
   "metadata": {},
   "outputs": [],
   "source": [
    "def ahi_sr2sgli_sr(ahi_sr_array, AHI2MISR_para):\n",
    "    slope = AHI2MISR_para[0]\n",
    "    offset = AHI2MISR_para[1]\n",
    "    offset_array = numpy.ones_like(ahi_sr_array)\n",
    "    offset_array = offset_array * offset\n",
    "    return ahi_sr_array * slope + offset_array\n",
    "\n",
    "\n",
    "def identifer(data):\n",
    "    down,up = numpy.nanpercentile(data,[0,75])\n",
    "    IQR = up-down\n",
    "    lower_limit = down - 1.5*IQR\n",
    "    upper_limit = up + 1.5*IQR\n",
    "    result = numpy.where(data > upper_limit,numpy.nan, data)\n",
    "    result = numpy.where(result < lower_limit,numpy.nan, result)\n",
    "    return result\n",
    "\n",
    "\n",
    "def add_right_cax(ax, pad, width):\n",
    "\n",
    "    axpos = ax.get_position()\n",
    "    caxpos = mtransforms.Bbox.from_extents(axpos.x1 + pad, axpos.y0, axpos.x1 + pad + width, axpos.y1)\n",
    "    cax = ax.figure.add_axes(caxpos)\n",
    "\n",
    "    return cax\n",
    "\n",
    "\n",
    "def mapping_scatter(Y, X, figure_title='demo', band_name='band3', axis_min=0.0, axis_max=0.5):\n",
    "    # filter    \n",
    "#     if band_name == 'band3':\n",
    "#         axis_max = 0.3\n",
    "    \n",
    "    lim_x = numpy.copy(X)\n",
    "    lim_y = numpy.copy(Y)\n",
    "\n",
    "    up4_x = numpy.quantile(lim_x, 0.98, interpolation='higher')\n",
    "    up4_y = numpy.quantile(lim_y, 0.98, interpolation='higher')\n",
    "    lim_x[lim_x > up4_x] = numpy.nan\n",
    "    lim_y[lim_y > up4_y] = numpy.nan\n",
    "\n",
    "    lim_mask = (lim_x*lim_y)*0+1\n",
    "    temp_x = lim_x*lim_mask\n",
    "    temp_y = lim_y*lim_mask\n",
    "    temp_x = temp_x[~numpy.isnan(temp_x)]\n",
    "    temp_y = temp_y[~numpy.isnan(temp_y)]\n",
    "    \n",
    "    diff_array = abs(numpy.array(temp_y)-numpy.array(temp_x))/abs(numpy.minimum(numpy.array(temp_x), numpy.array(temp_y)))\n",
    "    diff_array_filtered = numpy.array(identifer(diff_array))\n",
    "    show_x = (diff_array_filtered*0+1)*temp_x\n",
    "    show_y = (diff_array_filtered*0+1)*temp_y\n",
    "    \n",
    "    X = show_x[~numpy.isnan(show_x)]\n",
    "    Y = show_y[~numpy.isnan(show_y)]\n",
    "\n",
    "    fig = plt.figure(figsize=(4, 4))\n",
    "    ax1 = fig.add_subplot(111, aspect='equal',facecolor='whitesmoke', alpha=0.1)\n",
    "    ax1.grid(linestyle='--', linewidth=0.3)\n",
    "\n",
    "    k, b = numpy.polyfit(X, Y, deg=1)\n",
    "    \n",
    "    model = LinearRegression()\n",
    "    x = X.reshape(-1, 1)\n",
    "    model.fit(x, Y)\n",
    "    y_pred = model.predict(x)\n",
    "    xx = numpy.arange(axis_min, axis_max + 0.1, 0.05)\n",
    "    yy = model.coef_[0] * xx + model.intercept_\n",
    "\n",
    "    # rmse = math.sqrt(mean_squared_error(X, Y))\n",
    "    rmse = math.sqrt(mean_squared_error(Y, y_pred))\n",
    "    bias = numpy.mean(y_pred - Y)\n",
    "\n",
    "    N = len(X)\n",
    "    x = numpy.arange(axis_min, axis_max + 1)\n",
    "    y = 1 * x\n",
    "    xx = numpy.arange(axis_min, axis_max + 0.1, 0.05)\n",
    "\n",
    "#     g_x, g_y = numpy.mgrid[axis_min:axis_max:500j, axis_min:axis_max:500j]\n",
    "#     positions = numpy.vstack([g_x.ravel(), g_y.ravel()])\n",
    "#     values = numpy.vstack([X, Y])\n",
    "#     kernel = gaussian_kde(values)\n",
    "#     Z = numpy.reshape(kernel(positions).T, g_x.shape)\n",
    "    \n",
    "    # Calculate the point density\n",
    "    xy = numpy.vstack([X, Y])\n",
    "    z = gaussian_kde(xy)(xy)\n",
    "    idx = z.argsort()\n",
    "    X, Y, z = X[idx], Y[idx], z[idx]\n",
    "    z = (z-numpy.min(z))/(numpy.max(z)-numpy.min(z))*100\n",
    "    im = ax1.scatter(X, Y, marker='o', c=z, s=8, cmap='turbo')\n",
    "\n",
    "    ax1.minorticks_on()\n",
    "    # x_major_locator = plt.MultipleLocator(5)\n",
    "    x_minor_locator = plt.MultipleLocator(0.05)\n",
    "    ax1.xaxis.set_minor_locator(x_minor_locator)\n",
    "    # ax.xaxis.set_major_locator(x_major_locator)\n",
    "    ax1.yaxis.set_minor_locator(x_minor_locator)\n",
    "    # ax.yaxis.set_major_locator(x_major_locator)\n",
    "\n",
    "    ax1.tick_params(axis=\"y\", which='minor', length=3, direction='in', labelsize=15)\n",
    "    ax1.tick_params(axis=\"y\", which='major', length=5, direction='in', labelsize=15)\n",
    "\n",
    "    ax1.tick_params(axis=\"x\", which='minor', length=3, direction='in', labelsize=15)\n",
    "    ax1.tick_params(axis=\"x\", which='major', length=5, direction='in', labelsize=15)\n",
    "\n",
    "    # ax1.spines['right'].set_color('none')\n",
    "    # ax1.spines['top'].set_color('none')\n",
    "    ax1.spines['left'].set_linewidth(1)\n",
    "    ax1.spines['bottom'].set_linewidth(1)\n",
    "\n",
    "    ax1.set_xticks(numpy.arange(axis_min, axis_max + 0.1, 0.1))\n",
    "    ax1.set_yticks(numpy.arange(axis_min + 0.1, axis_max + 0.1, 0.1))\n",
    "\n",
    "    band_label = {\n",
    "        'band3': 'Band3',\n",
    "        'band4': 'Band4',\n",
    "    }\n",
    "\n",
    "    ax1.set_ylabel(\"AHI LSR\", fontsize=15)\n",
    "    ax1.set_xlabel(\"SGLI LSR\", fontsize=15)\n",
    "\n",
    "#     ax1.imshow(numpy.rot90(Z), cmap=plt.cm.gist_earth_r, extent=[axis_min, axis_max, axis_min, axis_max], alpha=0.8, zorder=0)\n",
    "#     ax1.plot(X, Y, 'k.', markersize=0.5, alpha=0.8, zorder=4)\n",
    "    ax1.plot(x, y, color='k', linewidth=1, linestyle='-', zorder=1)\n",
    "    ax1.plot(xx, yy, color='r', linewidth=1, linestyle='-.', zorder=2)\n",
    "\n",
    "    r_, p = pearsonr(X, Y)\n",
    "    p_str = '%.3e' % p\n",
    "    \n",
    "    label_str = label_str = 'y = {}x + {}\\nRMSE = {}\\nr = {}\\n'.format(round(k, 2), round(b, 2), round(rmse, 3), round(r_, 2))\n",
    "    if b < 0:\n",
    "        label_str = label_str = 'y = {}x - {}\\nRMSE = {}\\nr = {}\\n'.format(round(k, 2), abs(round(b, 2)), round(rmse, 3), round(r_, 2))\n",
    "\n",
    "    text_x = axis_min + (axis_max - axis_min) * 0.07\n",
    "    text_y = axis_max - (axis_max - axis_min) * 0.35\n",
    "    ax1.text(text_x, text_y, s=label_str, fontsize=18)\n",
    "    \n",
    "    band_label = band_label[band_name]\n",
    "    text_x2 = axis_min + (axis_max - axis_min) * 0.7\n",
    "    text_y2 = axis_min + (axis_max - axis_min) * 0.1\n",
    "    if band_name == 'band3':\n",
    "        ax1.text(text_x2, text_y2, color='red', s=band_label, fontsize=18)\n",
    "    else:\n",
    "        ax1.text(text_x2, text_y2, color='firebrick', s=band_label, fontsize=18)\n",
    "\n",
    "    cax = add_right_cax(ax1, pad=0.01, width=0.03)\n",
    "    cb = fig.colorbar(im, cax=cax)\n",
    "    \n",
    "    ax1.set_xlim(axis_min, axis_max)\n",
    "    ax1.set_ylim(axis_min, axis_max)\n",
    "    \n",
    "    mapping_folder = os.path.join(WORK_SPACE, 'Scatter_LC_SR')\n",
    "    figure_folder = os.path.join(mapping_folder, str(PIXEL_PAIRS_MAX))\n",
    "    if not os.path.exists(figure_folder):\n",
    "        os.makedirs(figure_folder)\n",
    "    fig_filename = os.path.join(figure_folder, figure_title + '.png')\n",
    "    fig.savefig(fig_filename, dpi=1000, bbox_inches='tight')\n",
    "    print(fig_filename)\n",
    "    plt.close(fig)\n",
    "    plt.clf()\n",
    "#     plt.show()\n",
    "    # slope r RMSE\n",
    "    return k, r_, rmse"
   ]
  },
  {
   "cell_type": "code",
   "execution_count": 4,
   "id": "9d708d0a",
   "metadata": {},
   "outputs": [],
   "source": [
    "def progress(band4_ahi_npy, band4_sgli_npy):\n",
    "    band4_ahi = numpy.load(band4_ahi_npy)\n",
    "    band4_sgli = numpy.load(band4_sgli_npy)\n",
    "\n",
    "    lim_mask = (band4_sgli*band4_ahi)*0+1\n",
    "    temp_x = band4_sgli*lim_mask\n",
    "    temp_y = band4_ahi*lim_mask\n",
    "    temp_x = temp_x[~numpy.isnan(temp_x)]\n",
    "    temp_y = temp_y[~numpy.isnan(temp_y)]\n",
    "\n",
    "    index_array = random.sample([idx for idx in range(len(temp_x))], PIXEL_PAIRS_MAX)\n",
    "    index_array = numpy.sort(index_array).tolist()\n",
    "\n",
    "    sgli_SR_band4_pts = numpy.array(temp_x)\n",
    "    b4_sgli_array = sgli_SR_band4_pts[index_array]\n",
    "    ahi_SR_band4_pts = numpy.array(temp_y)\n",
    "    b4_ahi_array = ahi_SR_band4_pts[index_array]\n",
    "    \n",
    "    return b4_ahi_array, b4_sgli_array"
   ]
  },
  {
   "cell_type": "code",
   "execution_count": 49,
   "id": "6152c11e",
   "metadata": {},
   "outputs": [],
   "source": [
    "PIXEL_PAIRS_MAX = 300"
   ]
  },
  {
   "cell_type": "markdown",
   "id": "24a34cbc",
   "metadata": {},
   "source": [
    "## Band4"
   ]
  },
  {
   "cell_type": "code",
   "execution_count": 96,
   "id": "02c31909",
   "metadata": {},
   "outputs": [
    {
     "name": "stderr",
     "output_type": "stream",
     "text": [
      "C:\\Users\\Beichen\\AppData\\Local\\Temp\\ipykernel_22360\\3943840087.py:36: DeprecationWarning: the `interpolation=` argument to quantile was renamed to `method=`, which has additional options.\n",
      "Users of the modes 'nearest', 'lower', 'higher', or 'midpoint' are encouraged to review the method they used. (Deprecated NumPy 1.22)\n",
      "  up4_x = numpy.quantile(lim_x, 0.98, interpolation='higher')\n",
      "C:\\Users\\Beichen\\AppData\\Local\\Temp\\ipykernel_22360\\3943840087.py:37: DeprecationWarning: the `interpolation=` argument to quantile was renamed to `method=`, which has additional options.\n",
      "Users of the modes 'nearest', 'lower', 'higher', or 'midpoint' are encouraged to review the method they used. (Deprecated NumPy 1.22)\n",
      "  up4_y = numpy.quantile(lim_y, 0.98, interpolation='higher')\n"
     ]
    },
    {
     "name": "stdout",
     "output_type": "stream",
     "text": [
      "D:\\PhD_Workspace\\MISR_AHI_WS\\230728\\AHI_SGLI_Jan\\Scatter_LC_SR\\300\\AHI-SGLI_RAA_NZL_Jan_Grassland_B4.png\n"
     ]
    },
    {
     "data": {
      "text/plain": [
       "(1.004793904336148, 0.8660157209477053, 0.04905394850170519)"
      ]
     },
     "execution_count": 96,
     "metadata": {},
     "output_type": "execute_result"
    },
    {
     "data": {
      "text/plain": [
       "<Figure size 640x480 with 0 Axes>"
      ]
     },
     "metadata": {},
     "output_type": "display_data"
    }
   ],
   "source": [
    "band4_ahi_npy = './2019_Jan_B04.npy'\n",
    "band4_sgli_npy = './2019_Jan_PI02.npy'\n",
    "b4_ahi_array, b4_sgli_array = progress(band4_ahi_npy, band4_sgli_npy)\n",
    "b4_ahi_array = ahi_sr2sgli_sr(b4_ahi_array, [1.016, -0.00003066])\n",
    "mapping_scatter(b4_ahi_array, b4_sgli_array, figure_title='AHI-SGLI_RAA_NZL_Jan_Grassland_B4', band_name='band4', axis_min=0.0, axis_max=0.8)"
   ]
  },
  {
   "cell_type": "code",
   "execution_count": 115,
   "id": "a49f6a32",
   "metadata": {},
   "outputs": [
    {
     "name": "stderr",
     "output_type": "stream",
     "text": [
      "C:\\Users\\Beichen\\AppData\\Local\\Temp\\ipykernel_22360\\3943840087.py:36: DeprecationWarning: the `interpolation=` argument to quantile was renamed to `method=`, which has additional options.\n",
      "Users of the modes 'nearest', 'lower', 'higher', or 'midpoint' are encouraged to review the method they used. (Deprecated NumPy 1.22)\n",
      "  up4_x = numpy.quantile(lim_x, 0.98, interpolation='higher')\n",
      "C:\\Users\\Beichen\\AppData\\Local\\Temp\\ipykernel_22360\\3943840087.py:37: DeprecationWarning: the `interpolation=` argument to quantile was renamed to `method=`, which has additional options.\n",
      "Users of the modes 'nearest', 'lower', 'higher', or 'midpoint' are encouraged to review the method they used. (Deprecated NumPy 1.22)\n",
      "  up4_y = numpy.quantile(lim_y, 0.98, interpolation='higher')\n"
     ]
    },
    {
     "name": "stdout",
     "output_type": "stream",
     "text": [
      "D:\\PhD_Workspace\\MISR_AHI_WS\\230728\\AHI_SGLI_Jan\\Scatter_LC_SR\\300\\AHI-SGLI_RAA_NZL_Jan_EBF_B4.png\n"
     ]
    },
    {
     "data": {
      "text/plain": [
       "(0.9988198922846188, 0.8476329128995987, 0.029175322310613566)"
      ]
     },
     "execution_count": 115,
     "metadata": {},
     "output_type": "execute_result"
    },
    {
     "data": {
      "text/plain": [
       "<Figure size 640x480 with 0 Axes>"
      ]
     },
     "metadata": {},
     "output_type": "display_data"
    }
   ],
   "source": [
    "band4_ahi_npy = './2019_Jan_B04_EBF.npy'\n",
    "band4_sgli_npy = './2019_Jan_PI02_EBF.npy'\n",
    "b4_ahi_array, b4_sgli_array = progress(band4_ahi_npy, band4_sgli_npy)\n",
    "b4_ahi_array = ahi_sr2sgli_sr(b4_ahi_array, [1.035, -0.0002806])\n",
    "mapping_scatter(b4_ahi_array, b4_sgli_array, figure_title='AHI-SGLI_RAA_NZL_Jan_EBF_B4', band_name='band4', axis_min=0.0, axis_max=0.8)"
   ]
  }
 ],
 "metadata": {
  "kernelspec": {
   "display_name": "Python 3 (ipykernel)",
   "language": "python",
   "name": "python3"
  },
  "language_info": {
   "codemirror_mode": {
    "name": "ipython",
    "version": 3
   },
   "file_extension": ".py",
   "mimetype": "text/x-python",
   "name": "python",
   "nbconvert_exporter": "python",
   "pygments_lexer": "ipython3",
   "version": "3.10.9"
  }
 },
 "nbformat": 4,
 "nbformat_minor": 5
}
