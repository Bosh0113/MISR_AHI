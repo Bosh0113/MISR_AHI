{
 "cells": [
  {
   "cell_type": "code",
   "execution_count": 1,
   "id": "3879097e",
   "metadata": {},
   "outputs": [],
   "source": [
    "import numpy"
   ]
  },
  {
   "cell_type": "code",
   "execution_count": 2,
   "id": "71f6442e",
   "metadata": {},
   "outputs": [],
   "source": [
    "month_no = '1'"
   ]
  },
  {
   "cell_type": "code",
   "execution_count": 3,
   "id": "e72edb5f",
   "metadata": {},
   "outputs": [],
   "source": [
    "npy_path = r'D:\\PhD_Workspace\\MISR_AHI_WS\\230728\\MATCH_LOCATIOM_SGLI_2019_' + month_no + '.npy'"
   ]
  },
  {
   "cell_type": "code",
   "execution_count": 4,
   "id": "85e5d0db",
   "metadata": {},
   "outputs": [],
   "source": [
    "ahi_sgli_loc = numpy.load(npy_path)"
   ]
  },
  {
   "cell_type": "code",
   "execution_count": 26,
   "id": "dd0c21ea",
   "metadata": {},
   "outputs": [],
   "source": [
    "numpy.savetxt(r'D:\\PhD_Workspace\\MISR_AHI_WS\\230728\\MATCH_LOCATIOM_SGLI_2019_' + month_no + '.txt', ahi_sgli_loc)"
   ]
  },
  {
   "cell_type": "markdown",
   "id": "b5dd2b1b",
   "metadata": {},
   "source": [
    "## simple"
   ]
  },
  {
   "cell_type": "code",
   "execution_count": 9,
   "id": "746abbdd",
   "metadata": {},
   "outputs": [
    {
     "name": "stdout",
     "output_type": "stream",
     "text": [
      "50\n",
      "[0.015 0.035 0.055 0.075 0.095 0.115 0.135 0.155 0.175 0.195 0.215 0.235\n",
      " 0.255 0.275 0.295 0.315 0.335 0.355 0.375 0.395 0.415 0.435 0.455 0.475\n",
      " 0.495 0.515 0.535 0.555 0.575 0.595 0.615 0.635 0.655 0.675 0.695 0.715\n",
      " 0.735 0.755 0.775 0.795 0.815 0.835 0.855 0.875 0.895 0.915 0.935 0.955\n",
      " 0.975 0.995]\n",
      "[0.005 0.025 0.045 0.065 0.085 0.105 0.125 0.145 0.165 0.185 0.205 0.225\n",
      " 0.245 0.265 0.285 0.305 0.325 0.345 0.365 0.385 0.405 0.425 0.445 0.465\n",
      " 0.485 0.505 0.525 0.545 0.565 0.585 0.605 0.625 0.645 0.665 0.685 0.705\n",
      " 0.725 0.745 0.765 0.785 0.805 0.825 0.845 0.865 0.885 0.905 0.925 0.945\n",
      " 0.965 0.985]\n"
     ]
    }
   ],
   "source": [
    "ahi_sgli_loc_internal = []\n",
    "lat_offset = []\n",
    "lon_offset = []\n",
    "for loc_idx in range(0, len(ahi_sgli_loc), 1):\n",
    "    loc = ahi_sgli_loc[loc_idx]\n",
    "    loc_lat_offset = round(loc[0]%1,3)\n",
    "    loc_lon_offset = round(loc[1]%1,3)\n",
    "    if loc_lat_offset not in lat_offset:\n",
    "        lat_offset.append(loc_lat_offset)\n",
    "    if loc_lon_offset not in lon_offset:\n",
    "        lon_offset.append(loc_lon_offset)\n",
    "lat_offset_sort = numpy.sort(lat_offset)\n",
    "lon_offset_sort = numpy.sort(lon_offset)\n",
    "print(len(lat_offset_sort))\n",
    "print(lat_offset_sort)\n",
    "print(lon_offset_sort)"
   ]
  },
  {
   "cell_type": "code",
   "execution_count": 6,
   "id": "81c8c087",
   "metadata": {},
   "outputs": [
    {
     "data": {
      "text/plain": [
       "array([-44.005, 168.385])"
      ]
     },
     "execution_count": 6,
     "metadata": {},
     "output_type": "execute_result"
    }
   ],
   "source": [
    "ahi_sgli_loc[0]"
   ]
  }
 ],
 "metadata": {
  "kernelspec": {
   "display_name": "Python 3 (ipykernel)",
   "language": "python",
   "name": "python3"
  },
  "language_info": {
   "codemirror_mode": {
    "name": "ipython",
    "version": 3
   },
   "file_extension": ".py",
   "mimetype": "text/x-python",
   "name": "python",
   "nbconvert_exporter": "python",
   "pygments_lexer": "ipython3",
   "version": "3.10.9"
  }
 },
 "nbformat": 4,
 "nbformat_minor": 5
}
