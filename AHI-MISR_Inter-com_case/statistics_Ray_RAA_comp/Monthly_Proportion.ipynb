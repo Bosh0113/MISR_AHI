{
 "cells": [
  {
   "cell_type": "code",
   "execution_count": 1,
   "id": "4fe30795",
   "metadata": {},
   "outputs": [],
   "source": [
    "import os\n",
    "import numpy\n",
    "import re\n",
    "import random\n",
    "from scipy.stats import gaussian_kde, pearsonr\n",
    "from sklearn.metrics import mean_squared_error, r2_score\n",
    "import math\n",
    "import matplotlib.pyplot as plt"
   ]
  },
  {
   "cell_type": "code",
   "execution_count": 2,
   "id": "f1240a3b",
   "metadata": {},
   "outputs": [],
   "source": [
    "WORK_SPACE = '/disk1/workspace/20230707/03_Ray_RAA'"
   ]
  },
  {
   "cell_type": "code",
   "execution_count": 4,
   "id": "1b686068",
   "metadata": {},
   "outputs": [],
   "source": [
    "MONTH_LABEL = ['Jan', 'Feb', 'Mar', 'Apr', 'May', 'Jun', 'Jul', 'Aug', 'Sep', 'Oct', 'Nov', 'Dec']"
   ]
  },
  {
   "cell_type": "markdown",
   "id": "d4f63e07",
   "metadata": {},
   "source": [
    "## 筛选后的"
   ]
  },
  {
   "cell_type": "code",
   "execution_count": 11,
   "id": "3dfd61ad",
   "metadata": {},
   "outputs": [
    {
     "name": "stdout",
     "output_type": "stream",
     "text": [
      "RAA\n",
      "Month NO.: Jan Count: 2061\n",
      "Month NO.: Feb Count: 243\n",
      "Month NO.: Mar Count: 0\n",
      "Month NO.: Apr Count: 891\n",
      "Month NO.: May Count: 3537\n",
      "Month NO.: Jun Count: 1809\n",
      "Month NO.: Jul Count: 2979\n",
      "Month NO.: Aug Count: 2286\n",
      "Month NO.: Sep Count: 27\n",
      "Month NO.: Oct Count: 18\n",
      "Month NO.: Nov Count: 567\n",
      "Month NO.: Dec Count: 4383\n",
      "10.96% 1.29% 0.0% 4.74% 18.81% 9.62% 15.84% 12.16% 0.14% 0.1% 3.02% 23.31% \n",
      "Ray\n",
      "Month NO.: Jan Count: 47790\n",
      "Month NO.: Feb Count: 41769\n",
      "Month NO.: Mar Count: 70641\n",
      "Month NO.: Apr Count: 65943\n",
      "Month NO.: May Count: 80550\n",
      "Month NO.: Jun Count: 56034\n",
      "Month NO.: Jul Count: 65025\n",
      "Month NO.: Aug Count: 72585\n",
      "Month NO.: Sep Count: 79434\n",
      "Month NO.: Oct Count: 61920\n",
      "Month NO.: Nov Count: 63936\n",
      "Month NO.: Dec Count: 64026\n",
      "6.21% 5.43% 9.18% 8.57% 10.47% 7.28% 8.45% 9.43% 10.32% 8.05% 8.31% 8.32% \n"
     ]
    }
   ],
   "source": [
    "    folder_type_list = ['RAA', 'Ray']\n",
    "    folder_l1_list = ['26']\n",
    "    folder_l2_list = ['0']\n",
    "\n",
    "    for folder_type in folder_type_list:\n",
    "        print(folder_type)\n",
    "        folder_type_path = os.path.join(WORK_SPACE, folder_type)\n",
    "        for folder_l1 in folder_l1_list:\n",
    "            folder_l1_path = os.path.join(folder_type_path, folder_l1)\n",
    "            month_slope_b3 = numpy.zeros((12,))\n",
    "            month_r_b3 = numpy.zeros((12,))\n",
    "            month_rmse_b3 = numpy.zeros((12,))\n",
    "            month_offset_b3 = numpy.zeros((12,))\n",
    "            month_slope_b4 = numpy.zeros((12,))\n",
    "            month_r_b4 = numpy.zeros((12,))\n",
    "            month_rmse_b4 = numpy.zeros((12,))\n",
    "            month_offset_b4 = numpy.zeros((12,))\n",
    "            count_record = []\n",
    "            for month_idx in range(len(MONTH_LABEL)):\n",
    "                month = MONTH_LABEL[month_idx]\n",
    "                # each png\n",
    "                misr_SR_band3_item_list = []\n",
    "                ahi_SR_band3_item_list = []\n",
    "                misr_SR_band4_item_list = []\n",
    "                ahi_SR_band4_item_list = []\n",
    "                for folder_l2 in folder_l2_list:\n",
    "                    folder_l2_path = os.path.join(folder_l1_path, folder_l2)\n",
    "                    roi_folder_list = os.listdir(folder_l2_path)\n",
    "                    for roi_folder in roi_folder_list:\n",
    "                        roi_infos = roi_folder.split('_')\n",
    "                        roi_lat = float(roi_infos[2])\n",
    "                        \n",
    "                        if roi_lat < 0:\n",
    "                        \n",
    "                            roi_folder_path = os.path.join(folder_l2_path, roi_folder)\n",
    "                            roi_file_list = os.listdir(roi_folder_path)\n",
    "                            roi_misr_SR_band3_list = []\n",
    "                            roi_ahi_SR_band3_list = []\n",
    "                            roi_misr_SR_band4_list = []\n",
    "                            roi_ahi_SR_band4_list = []\n",
    "                            for roi_file in roi_file_list:\n",
    "                                matchObj = re.search(r'(\\d+)_band(\\d+)_(\\d+).npy', str(roi_file))\n",
    "                                if matchObj:\n",
    "                                    ahi_time_str = matchObj.group(1)\n",
    "                                    band_str = matchObj.group(2)\n",
    "                                    # camera_idx_str = matchObj.group(3)\n",
    "\n",
    "                                    obs_month = ahi_time_str[4:6]\n",
    "                                    obs_month_idx = int(obs_month) - 1\n",
    "\n",
    "                                    if obs_month_idx == month_idx:\n",
    "                                        SR_npy_path = os.path.join(roi_folder_path, roi_file)\n",
    "                                        ROI_SR_pair = numpy.load(SR_npy_path, allow_pickle=True)[0]\n",
    "                                        misr_sr = ROI_SR_pair['misr_v3']\n",
    "                                        ahi_sr = ROI_SR_pair['ahi_sr2misr']\n",
    "                                        x_3Darray_np_1d = misr_sr.flatten()\n",
    "                                        x_3Darray_np_1d = x_3Darray_np_1d[~numpy.isnan(x_3Darray_np_1d)]\n",
    "                                        y_3Darray_np_1d = ahi_sr.flatten()\n",
    "                                        y_3Darray_np_1d = y_3Darray_np_1d[~numpy.isnan(y_3Darray_np_1d)]\n",
    "                                        if band_str == '3':\n",
    "                                            roi_misr_SR_band3_list.extend(x_3Darray_np_1d)\n",
    "                                            roi_ahi_SR_band3_list.extend(y_3Darray_np_1d)\n",
    "                                        if band_str == '4':\n",
    "                                            roi_misr_SR_band4_list.extend(x_3Darray_np_1d)\n",
    "                                            roi_ahi_SR_band4_list.extend(y_3Darray_np_1d)\n",
    "                                    # keep pixel count same\n",
    "                                    if len(roi_misr_SR_band3_list) == len(roi_misr_SR_band4_list):\n",
    "                                        misr_SR_band3_item_list.extend(roi_misr_SR_band3_list)\n",
    "                                        ahi_SR_band3_item_list.extend(roi_ahi_SR_band3_list)\n",
    "                                        misr_SR_band4_item_list.extend(roi_misr_SR_band4_list)\n",
    "                                        ahi_SR_band4_item_list.extend(roi_ahi_SR_band4_list)\n",
    "\n",
    "                print('Month NO.:', month, 'Count:', len(misr_SR_band3_item_list))\n",
    "                count_record.append(len(misr_SR_band3_item_list))\n",
    "            for count_month in count_record:\n",
    "                print(round(count_month/sum(count_record)*100, 2),end='% ')\n",
    "            print('')"
   ]
  },
  {
   "cell_type": "markdown",
   "id": "60889541",
   "metadata": {},
   "source": [
    "## 原始匹配到的"
   ]
  },
  {
   "cell_type": "code",
   "execution_count": 12,
   "id": "6224056b",
   "metadata": {},
   "outputs": [
    {
     "name": "stdout",
     "output_type": "stream",
     "text": [
      "RAA\n",
      "['Jan', 'Feb', 'Mar', 'Apr', 'May', 'Jun', 'Jul', 'Aug', 'Sep', 'Oct', 'Nov', 'Dec']\n",
      "[241.  50.   0.  70. 125. 109. 110.  95.   5.   4. 110. 388.]\n",
      "18.44% 3.83% 0.0% 5.36% 9.56% 8.34% 8.42% 7.27% 0.38% 0.31% 8.42% 29.69% \n",
      "Ray\n",
      "['Jan', 'Feb', 'Mar', 'Apr', 'May', 'Jun', 'Jul', 'Aug', 'Sep', 'Oct', 'Nov', 'Dec']\n",
      "[494. 437. 500. 491. 508. 484. 499. 499. 498. 520. 491. 496.]\n",
      "8.35% 7.39% 8.45% 8.3% 8.59% 8.18% 8.43% 8.43% 8.42% 8.79% 8.3% 8.38% \n"
     ]
    }
   ],
   "source": [
    "    folder_type_list = ['RAA', 'Ray']\n",
    "    folder_l1_list = ['26']\n",
    "    folder_l2_list = ['0']\n",
    "\n",
    "    for folder_type in folder_type_list:\n",
    "        print(folder_type)\n",
    "        month_record = numpy.zeros((12,))\n",
    "        folder_type_path = os.path.join(WORK_SPACE, folder_type)\n",
    "        for folder_l1 in folder_l1_list:\n",
    "            folder_l1_path = os.path.join(folder_type_path, folder_l1)\n",
    "            for folder_l2 in folder_l2_list:\n",
    "                folder_l2_path = os.path.join(folder_l1_path, folder_l2)\n",
    "                roi_folder_list = os.listdir(folder_l2_path)\n",
    "                for roi_folder in roi_folder_list:\n",
    "                    roi_folder_path = os.path.join(folder_l2_path, roi_folder)\n",
    "                    roi_infos = roi_folder.split('_')\n",
    "                    roi_lat = float(roi_infos[2])\n",
    "                    if roi_lat < 0:\n",
    "                        matched_record_npy = os.path.join(roi_folder_path, roi_folder+'_matched_record.npy')\n",
    "                        matched_record = numpy.load(matched_record_npy, allow_pickle=True)[0]\n",
    "                        matched_infos = matched_record['roi_misr_infos']\n",
    "                        for matched_info in matched_infos:\n",
    "                            obs_time = matched_info['matched_info'][4]\n",
    "                            month_idx = int(obs_time[4:6])-1\n",
    "                            month_record[month_idx] = month_record[month_idx] + 1\n",
    "        print(MONTH_LABEL)\n",
    "        print(month_record)\n",
    "        for count_month in month_record:\n",
    "            print(round(count_month/sum(month_record)*100, 2),end='% ')\n",
    "        print('')"
   ]
  }
 ],
 "metadata": {
  "kernelspec": {
   "display_name": "Python 3",
   "language": "python",
   "name": "python3"
  },
  "language_info": {
   "codemirror_mode": {
    "name": "ipython",
    "version": 3
   },
   "file_extension": ".py",
   "mimetype": "text/x-python",
   "name": "python",
   "nbconvert_exporter": "python",
   "pygments_lexer": "ipython3",
   "version": "3.6.8"
  }
 },
 "nbformat": 4,
 "nbformat_minor": 5
}
