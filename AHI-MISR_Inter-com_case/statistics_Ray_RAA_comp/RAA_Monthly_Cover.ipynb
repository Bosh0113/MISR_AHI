{
 "cells": [
  {
   "cell_type": "code",
   "execution_count": 2,
   "id": "4fe30795",
   "metadata": {},
   "outputs": [],
   "source": [
    "import os\n",
    "import numpy\n",
    "import re\n",
    "import random\n",
    "from scipy.stats import gaussian_kde, pearsonr\n",
    "from sklearn.metrics import mean_squared_error, r2_score\n",
    "import math\n",
    "import matplotlib.pyplot as plt"
   ]
  },
  {
   "cell_type": "code",
   "execution_count": 3,
   "id": "1b686068",
   "metadata": {},
   "outputs": [],
   "source": [
    "MONTH_LABEL = ['Jan', 'Feb', 'Mar', 'Apr', 'May', 'Jun', 'Jul', 'Aug', 'Sep', 'Oct', 'Nov', 'Dec']"
   ]
  },
  {
   "cell_type": "markdown",
   "id": "60889541",
   "metadata": {},
   "source": [
    "## 原始匹配到的"
   ]
  },
  {
   "cell_type": "code",
   "execution_count": 4,
   "id": "f1240a3b",
   "metadata": {},
   "outputs": [],
   "source": [
    "WORK_SPACE = '/data01/people/beichen/workspace/20230821/matched_count'"
   ]
  },
  {
   "cell_type": "code",
   "execution_count": 11,
   "id": "d131b937",
   "metadata": {},
   "outputs": [
    {
     "name": "stdout",
     "output_type": "stream",
     "text": [
      "RAA\n",
      "['Jan', 'Feb', 'Mar', 'Apr', 'May', 'Jun', 'Jul', 'Aug', 'Sep', 'Oct', 'Nov', 'Dec']\n",
      "[1942.  503.   90.  588.  773.  669.  633.  462.  135.   13.  947. 2973.]\n",
      "19.96% 5.17% 0.93% 6.04% 7.95% 6.88% 6.51% 4.75% 1.39% 0.13% 9.73% 30.56% \n"
     ]
    }
   ],
   "source": [
    "    folder_type_list = ['RAA']\n",
    "    folder_l1_list = ['26']\n",
    "    folder_l2_list = ['0']\n",
    "\n",
    "    for folder_type in folder_type_list:\n",
    "        print(folder_type)\n",
    "        month_record = numpy.zeros((12,))\n",
    "        month_loc = []\n",
    "        for m_idx in range(12):\n",
    "            month_loc.append([])\n",
    "        folder_type_path = os.path.join(WORK_SPACE, folder_type)\n",
    "        for folder_l1 in folder_l1_list:\n",
    "            folder_l1_path = os.path.join(folder_type_path, folder_l1)\n",
    "            for folder_l2 in folder_l2_list:\n",
    "                folder_l2_path = os.path.join(folder_l1_path, folder_l2)\n",
    "                roi_folder_list = os.listdir(folder_l2_path)\n",
    "                for roi_folder in roi_folder_list:\n",
    "                    roi_folder_path = os.path.join(folder_l2_path, roi_folder)\n",
    "                    roi_infos = roi_folder.split('_')\n",
    "                    roi_lat = float(roi_infos[2])\n",
    "                    roi_lon = float(roi_infos[3])\n",
    "                    roi_loc_str = str(roi_lon) + ',' + str(roi_lat)\n",
    "                    if roi_lat < 0:\n",
    "                        matched_record_npy = os.path.join(roi_folder_path, roi_folder+'_matched_record.npy')\n",
    "                        matched_record = numpy.load(matched_record_npy, allow_pickle=True)[0]\n",
    "                        matched_infos = matched_record['roi_misr_infos']\n",
    "                        for matched_info in matched_infos:\n",
    "                            obs_time = matched_info['matched_info'][4]\n",
    "                            obs_year = obs_time[:4]\n",
    "                            if obs_year == '2018':\n",
    "                                month_idx = int(obs_time[4:6])-1\n",
    "                                month_record[month_idx] = month_record[month_idx] + 1\n",
    "                                mon_record = month_loc[month_idx]\n",
    "                                if roi_loc_str in mon_record:\n",
    "                                    pass\n",
    "                                else:\n",
    "                                    mon_record.append(roi_loc_str)\n",
    "                                month_loc[month_idx] = mon_record\n",
    "                                \n",
    "        print(MONTH_LABEL)\n",
    "        print(month_record)\n",
    "        for m_idx in range(len(month_record)):\n",
    "            count_month = month_record[m_idx]\n",
    "            print(round(count_month/sum(month_record)*100, 2),end='% ')\n",
    "#             numpy.savetxt(os.path.join(WORK_SPACE, 'RAA_month' + str(m_idx) + '.txt'), month_loc[m_idx], fmt='%s')\n",
    "        print('')"
   ]
  }
 ],
 "metadata": {
  "kernelspec": {
   "display_name": "Python 3",
   "language": "python",
   "name": "python3"
  },
  "language_info": {
   "codemirror_mode": {
    "name": "ipython",
    "version": 3
   },
   "file_extension": ".py",
   "mimetype": "text/x-python",
   "name": "python",
   "nbconvert_exporter": "python",
   "pygments_lexer": "ipython3",
   "version": "3.6.13"
  }
 },
 "nbformat": 4,
 "nbformat_minor": 5
}
