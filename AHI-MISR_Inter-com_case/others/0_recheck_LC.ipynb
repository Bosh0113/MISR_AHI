{
 "cells": [
  {
   "cell_type": "code",
   "execution_count": 12,
   "id": "f1c06737",
   "metadata": {},
   "outputs": [],
   "source": [
    "import os\n",
    "import numpy\n",
    "import shutil"
   ]
  },
  {
   "cell_type": "code",
   "execution_count": 3,
   "id": "036fe677",
   "metadata": {},
   "outputs": [],
   "source": [
    "WORK_SPACE = os.getcwd()"
   ]
  },
  {
   "cell_type": "code",
   "execution_count": 4,
   "id": "42e97079",
   "metadata": {},
   "outputs": [],
   "source": [
    "resolution = 0.01"
   ]
  },
  {
   "cell_type": "code",
   "execution_count": 5,
   "id": "42139c21",
   "metadata": {},
   "outputs": [],
   "source": [
    "# MCD12Q1_006_1KM_npy = '/disk1/workspace/20230630/0620_cp/Ray_matching/MCD12Q1.006.LC.AHI01km.npy'\n",
    "MCD12Q1_006_1KM_npy = os.path.join(WORK_SPACE, 'MCD12Q1.006.LC.AHI01km.npy')\n",
    "MCD12Q1_006_1KM = numpy.load(MCD12Q1_006_1KM_npy)"
   ]
  },
  {
   "cell_type": "code",
   "execution_count": 6,
   "id": "7b24ac6f",
   "metadata": {},
   "outputs": [],
   "source": [
    "MODIS_LC_IS_FOREST = {\n",
    "    '0': '0',\n",
    "    '1': '1',\n",
    "    '2': '1',\n",
    "    '3': '1',\n",
    "    '4': '1',\n",
    "    '5': '1',\n",
    "    '6': '0',\n",
    "    '7': '0',\n",
    "    '8': '0',\n",
    "    '9': '0',\n",
    "    '10': '0',\n",
    "    '11': '0',\n",
    "    '12': '0',\n",
    "    '13': '0',\n",
    "    '14': '0',\n",
    "    '15': '0',\n",
    "    '16': '0'\n",
    "}"
   ]
  },
  {
   "cell_type": "code",
   "execution_count": 28,
   "id": "7f8bcb9c",
   "metadata": {
    "scrolled": true
   },
   "outputs": [],
   "source": [
    "folder_l1_list = ['0', '26', '45', '60', '70']\n",
    "folder_l2_list = ['0', '1']\n",
    "\n",
    "for folder_l1 in folder_l1_list:\n",
    "    folder_l1_path = os.path.join(WORK_SPACE, folder_l1)\n",
    "    for folder_l2 in folder_l2_list:\n",
    "        folder_l2_path = os.path.join(folder_l1_path, folder_l2)\n",
    "        roi_folder_list = os.listdir(folder_l2_path)\n",
    "        for roi_folder in roi_folder_list:\n",
    "            roi_infos = roi_folder.split('_')\n",
    "            roi_c_idx = roi_infos[0]\n",
    "            roi_lc = roi_infos[1]\n",
    "            roi_lat = float(roi_infos[2])\n",
    "            roi_lon = float(roi_infos[3])\n",
    "            ahi_raw_idx = round((60-roi_lat)/resolution)\n",
    "            ahi_col_idx = round((roi_lon-85)/resolution)\n",
    "            lc_idx = MCD12Q1_006_1KM[ahi_raw_idx][ahi_col_idx]\n",
    "            is_forest = MODIS_LC_IS_FOREST[str(lc_idx)]\n",
    "            if roi_lc != str(int(lc_idx)):\n",
    "                old_folder_path = os.path.join(folder_l2_path, roi_folder)\n",
    "                new_folder_path = folder_l1_path + '/' + is_forest + '/' + roi_c_idx + '_' + str(lc_idx) + '_' + roi_infos[2] + '_' + roi_infos[3]\n",
    "                if not os.path.exists(new_folder_path):\n",
    "                    shutil.copytree(old_folder_path, new_folder_path)\n",
    "                    shutil.rmtree(old_folder_path)\n",
    "                print('mv:', old_folder_path, new_folder_path)"
   ]
  }
 ],
 "metadata": {
  "kernelspec": {
   "display_name": "Python 3",
   "language": "python",
   "name": "python3"
  },
  "language_info": {
   "codemirror_mode": {
    "name": "ipython",
    "version": 3
   },
   "file_extension": ".py",
   "mimetype": "text/x-python",
   "name": "python",
   "nbconvert_exporter": "python",
   "pygments_lexer": "ipython3",
   "version": "3.6.8"
  }
 },
 "nbformat": 4,
 "nbformat_minor": 5
}
