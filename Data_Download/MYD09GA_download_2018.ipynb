{
 "cells": [
  {
   "cell_type": "code",
   "execution_count": null,
   "id": "6b6baf0f",
   "metadata": {},
   "outputs": [],
   "source": [
    "import numpy\n",
    "import os\n",
    "from datetime import datetime, timedelta"
   ]
  },
  {
   "cell_type": "code",
   "execution_count": null,
   "id": "9f9de579",
   "metadata": {},
   "outputs": [],
   "source": [
    "date_start = '2018-01-01'\n",
    "date_end = '2018-12-31'\n",
    "date_s = datetime.strptime(date_start, \"%Y-%m-%d\")\n",
    "date_t = timedelta(days=1)\n",
    "date_e = datetime.strptime(date_end, \"%Y-%m-%d\")\n",
    "date_dl = date_s\n",
    "while date_dl <= date_e:\n",
    "    date_dl_str = date_dl.strftime(\"%Y.%m.%d\")\n",
    "    hv_label = \"h00v08|h00v09|h00v10|h01v07|h01v08|h01v09|h01v10|h01v11|h02v06|h02v08|h02v09|h02v10|h02v11|h03v05|h03v06|h03v07|h03v10|h03v11|h04v05|h04v11|h05v13|h06v03|h07v03|h08v03|h08v04|h09v02|h09v03|h10v02|h10v03|h11v02|h12v02|h20v02|h20v15|h21v02|h21v15|h22v02|h22v03|h22v14|h22v15|h23v02|h23v03|h23v04|h23v15|h24v02|h24v03|h24v04|h24v05|h24v12|h24v15|h25v02|h25v03|h25v04|h25v05|h25v06|h25v07|h26v02|h26v03|h26v04|h26v05|h26v06|h26v07|h26v08|h27v03|h27v04|h27v05|h27v06|h27v07|h27v08|h27v09|h27v10|h27v11|h27v12|h27v14|h28v03|h28v04|h28v05|h28v06|h28v07|h28v08|h28v09|h28v10|h28v11|h28v12|h28v13|h28v14|h29v03|h29v05|h29v06|h29v07|h29v08|h29v09|h29v10|h29v11|h29v12|h29v13|h30v04|h30v05|h30v06|h30v07|h30v08|h30v09|h30v10|h30v11|h30v12|h30v13|h31v04|h31v06|h31v07|h31v08|h31v09|h31v10|h31v11|h31v12|h31v13|h32v07|h32v08|h32v09|h32v10|h32v11|h32v12|h33v07|h33v08|h33v09|h33v10|h33v11|h34v07|h34v08|h34v09|h34v10|h35v08|h35v09|h35v10\"\n",
    "    download_cm = \"wget -r -l1 --accept=hdf --no-parent --accept-regex='\"+ hv_label + \"' -nc https://e4ftl01.cr.usgs.gov/MOLA/MYD09GA.061/\" + date_dl_str + \"/ --user=Bosh0113 --password=Zbc792211048\"\n",
    "    print(download_cm)\n",
    "    s=os.system(download_cm)\n",
    "    date_dl = date_dl + date_t"
   ]
  }
 ],
 "metadata": {
  "kernelspec": {
   "display_name": "master_research",
   "language": "python",
   "name": "master_research"
  },
  "language_info": {
   "codemirror_mode": {
    "name": "ipython",
    "version": 3
   },
   "file_extension": ".py",
   "mimetype": "text/x-python",
   "name": "python",
   "nbconvert_exporter": "python",
   "pygments_lexer": "ipython3",
   "version": "3.7.0"
  }
 },
 "nbformat": 4,
 "nbformat_minor": 5
}
