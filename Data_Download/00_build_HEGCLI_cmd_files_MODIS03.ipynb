{
 "cells": [
  {
   "cell_type": "markdown",
   "id": "c062d1c6",
   "metadata": {},
   "source": [
    "## Build parameter files to reproject MOD03|MYD03 by HEG command"
   ]
  },
  {
   "cell_type": "markdown",
   "id": "aba100be",
   "metadata": {},
   "source": [
    "https://hdfeos.org/software/heg.php\n",
    "\n",
    "HEG Tool HEG COMMAND LINE INTERFACE (CLI):\n",
    "1. environment variables\n",
    "MRTDATADIR=/home/bob/HEG/data\n",
    "PGSHOME=/home/bob/HEG/TOOLKIT_MTD\n",
    "2. command example\n",
    "./subset_stitch_swath -p HegSwathStitch.prm_beichen"
   ]
  },
  {
   "cell_type": "code",
   "execution_count": null,
   "id": "f47b56ff",
   "metadata": {},
   "outputs": [],
   "source": [
    "import os"
   ]
  },
  {
   "cell_type": "code",
   "execution_count": null,
   "id": "9ffdebc1",
   "metadata": {},
   "outputs": [],
   "source": [
    "BASE_PATH = '/disk1/workspace/20231225'\n",
    "# MODIS_TYPE = 'MOD'\n",
    "MODIS_TYPE = 'MYD'\n",
    "\n",
    "DATA_PATH = '/disk1/Data'\n",
    "MOD03_HDF_FOLDER = os.path.join(DATA_PATH, MODIS_TYPE+'03_AHI_HDF_2018')\n",
    "MOD03_GEOTIFF_FOLDER = os.path.join(DATA_PATH, MODIS_TYPE+'03_AHI_GeoTiff_2018')\n",
    "HEGCLI_CMD_FOLDER = os.path.join(BASE_PATH, MODIS_TYPE+'03_cmd')"
   ]
  },
  {
   "cell_type": "code",
   "execution_count": null,
   "id": "3eeaef48",
   "metadata": {},
   "outputs": [],
   "source": [
    "cmd_file_template = '''\n",
    "NUM_RUNS = 1\n",
    "\n",
    "BEGIN\n",
    "NUMBER_INPUTFILES = [input_hdf_file_number]\n",
    "INPUT_FILENAMES = [input_hdf_files]\n",
    "OBJECT_NAME = MODIS_Swath_Type_GEO|\n",
    "FIELD_NAME = [parameter_key]|\n",
    "BAND_NUMBER = 1\n",
    "SPATIAL_SUBSET_UL_CORNER = ( 60.0 85.0 )\n",
    "SPATIAL_SUBSET_LR_CORNER = ( -60.0 205.0 )\n",
    "OUTPUT_OBJECT_NAME = MODIS_Swath_Type_GEO|\n",
    "OUTGRID_X_PIXELSIZE = 0.01\n",
    "OUTGRID_Y_PIXELSIZE = 0.01\n",
    "RESAMPLING_TYPE = NN\n",
    "OUTPUT_PROJECTION_TYPE = GEO\n",
    "ELLIPSOID_CODE = WGS84\n",
    "OUTPUT_PROJECTION_PARAMETERS = ( 0.0 0.0 0.0 0.0 0.0 0.0 0.0 0.0 0.0 0.0 0.0 0.0 0.0 0.0 0.0  )\n",
    "OUTPUT_FILENAME = [output_tif_file]\n",
    "SAVE_STITCHED_FILE = NO\n",
    "OUTPUT_STITCHED_FILENAME = [output_hdf_file]\n",
    "OUTPUT_TYPE = GEO\n",
    "END\n",
    "\n",
    "'''\n",
    "\n",
    "cmd_template = '/home/beichen/software/opt/HEG_tool/bin/subset_stitch_swath -p [parameter_file];'"
   ]
  },
  {
   "cell_type": "code",
   "execution_count": null,
   "id": "d2c325d1",
   "metadata": {},
   "outputs": [],
   "source": [
    "parameter_keys = ['SensorAzimuth', 'SensorZenith', 'SolarAzimuth', 'SolarZenith']\n",
    "\n",
    "cmd_list_str = ''\n",
    "mod03_geo_folder = MOD03_GEOTIFF_FOLDER\n",
    "if not os.path.exists(mod03_geo_folder):\n",
    "    os.makedirs(mod03_geo_folder)\n",
    "year_cmd_folder = HEGCLI_CMD_FOLDER\n",
    "if not os.path.exists(year_cmd_folder):\n",
    "    os.makedirs(year_cmd_folder)\n",
    "    \n",
    "mod03_filelist = os.listdir(MOD03_HDF_FOLDER)\n",
    "\n",
    "for day_hdf_file in mod03_filelist:\n",
    "    mod03_hdf_filename = os.path.join(MOD03_HDF_FOLDER, day_hdf_file)\n",
    "    for parameter_key in parameter_keys:\n",
    "    \n",
    "        output_tif_filename = os.path.join(mod03_geo_folder, day_hdf_file[:-4] + '_' + parameter_key + '.tif')\n",
    "        output_hdf_filename = os.path.join(mod03_geo_folder, day_hdf_file[:-4] + '_' + parameter_key + '.hdf')\n",
    "        cmd_filename = os.path.join(year_cmd_folder, day_hdf_file[:-4] + '_' + parameter_key + '.prm_beichen')\n",
    "\n",
    "        cmd_file_str = cmd_file_template.replace('[parameter_key]', parameter_key)\n",
    "        cmd_file_str = cmd_file_str.replace('[input_hdf_file_number]', '1')\n",
    "        cmd_file_str = cmd_file_str.replace('[input_hdf_files]', mod03_hdf_filename)\n",
    "        cmd_file_str = cmd_file_str.replace('[output_tif_file]', output_tif_filename)\n",
    "        cmd_file_str = cmd_file_str.replace('[output_hdf_file]', output_hdf_filename)\n",
    "\n",
    "        with open(cmd_filename, 'w') as f:\n",
    "            f.write(cmd_file_str)\n",
    "            print(cmd_filename)\n",
    "\n",
    "        cmd_c = cmd_template.replace('[parameter_file]', cmd_filename)\n",
    "        cmd_list_str = cmd_list_str + cmd_c\n",
    "\n",
    "with open(os.path.join(BASE_PATH, MODIS_TYPE+'03_HEGCLI_cmd.sh'), 'w') as f:\n",
    "    f.write(cmd_list_str)\n",
    "    print('over!')"
   ]
  },
  {
   "cell_type": "markdown",
   "id": "8604363c",
   "metadata": {},
   "source": [
    "# Just run .sh file can be works!"
   ]
  }
 ],
 "metadata": {
  "kernelspec": {
   "display_name": "Python 3",
   "language": "python",
   "name": "python3"
  },
  "language_info": {
   "codemirror_mode": {
    "name": "ipython",
    "version": 3
   },
   "file_extension": ".py",
   "mimetype": "text/x-python",
   "name": "python",
   "nbconvert_exporter": "python",
   "pygments_lexer": "ipython3",
   "version": "3.6.8"
  }
 },
 "nbformat": 4,
 "nbformat_minor": 5
}
