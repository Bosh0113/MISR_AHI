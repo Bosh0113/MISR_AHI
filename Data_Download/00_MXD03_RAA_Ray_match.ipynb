{
 "cells": [
  {
   "cell_type": "code",
   "execution_count": 1,
   "id": "0af36c5f",
   "metadata": {},
   "outputs": [],
   "source": [
    "import os\n",
    "import xarray\n",
    "import numpy\n",
    "from datetime import datetime, timedelta"
   ]
  },
  {
   "cell_type": "code",
   "execution_count": 2,
   "id": "d6f165bb",
   "metadata": {},
   "outputs": [],
   "source": [
    "# VZA diff\n",
    "DIFF_VZA_THRESHOLD = 1 # degree\n",
    "# RAA diff\n",
    "DIFF_RAA_THRESHOLD = 10 # degree\n",
    "# VAA diff\n",
    "DIFF_VAA_THRESHOLD = 10 # degree"
   ]
  },
  {
   "cell_type": "code",
   "execution_count": 3,
   "id": "d9a4e694",
   "metadata": {},
   "outputs": [],
   "source": [
    "START_TIME = '2018-01-01T00:00:00Z'\n",
    "\n",
    "MXD = 'MOD'\n",
    "MXD_GEOTIFF_FOLDER = '/disk1/Data/' + MXD + '03_AHI_GeoTiff_2018'"
   ]
  },
  {
   "cell_type": "code",
   "execution_count": 4,
   "id": "7cac52ef",
   "metadata": {},
   "outputs": [],
   "source": [
    "AHI_VZA_NPY = '/disk1/Data/AHI/FD_VZA.npy'\n",
    "AHI_VAA_NPY = '/disk1/Data/AHI/FD_VAA.npy'\n",
    "\n",
    "ahi_vza_dn = numpy.load(AHI_VZA_NPY, allow_pickle=True)\n",
    "ahi_vaa_dn = numpy.load(AHI_VAA_NPY, allow_pickle=True)\n",
    "\n",
    "repeat_factor = 4\n",
    "ahi_vza = numpy.repeat(numpy.repeat(ahi_vza_dn, repeat_factor, axis=0), repeat_factor, axis=1)\n",
    "ahi_vaa = numpy.repeat(numpy.repeat(ahi_vaa_dn, repeat_factor, axis=0), repeat_factor, axis=1)\n",
    "\n",
    "AHI_RESOLUTION = 0.01\n",
    "ahi_lats = numpy.arange(60. - AHI_RESOLUTION / 2, -60, -AHI_RESOLUTION)\n",
    "ahi_lons = numpy.arange(85. + AHI_RESOLUTION / 2, 205, AHI_RESOLUTION)"
   ]
  },
  {
   "cell_type": "code",
   "execution_count": 5,
   "id": "fcd84c22",
   "metadata": {},
   "outputs": [],
   "source": [
    "def read_modis_angle(hdf_file_name):\n",
    "    para_keys = ['SensorZenith', 'SolarZenith', 'SensorAzimuth', 'SolarAzimuth']\n",
    "    # VZA SZA VAA SAA\n",
    "    angle_list = []\n",
    "    for para_key in para_keys:\n",
    "        angle_tiff = os.path.join(MXD_GEOTIFF_FOLDER, hdf_file_name[:-4]+'_'+para_key+'.tif')\n",
    "        angle_ds = xarray.open_rasterio(angle_tiff)\n",
    "        angle_dn = numpy.array(angle_ds)[0]*1.\n",
    "        angle_dn[angle_dn==-32767] = numpy.NaN\n",
    "        angle_v = angle_dn/100\n",
    "        angle_v = (angle_v+360)%360\n",
    "        angle_list.append(angle_v)\n",
    "    return angle_list[0], angle_list[1], angle_list[2], angle_list[3]\n",
    "\n",
    "\n",
    "def get_raa(aa1, aa2):\n",
    "    diff = numpy.abs(aa1 - aa2)\n",
    "    raa = numpy.where(diff < 180, diff, 360 - diff)\n",
    "    return raa\n",
    "\n",
    "def is_raa_matched(modis_vza, modis_vaa, modis_saa, ahi_vza, ahi_vaa, ahi_saa):\n",
    "    vza_condition = numpy.abs(modis_vza - ahi_vza) <= DIFF_VZA_THRESHOLD\n",
    "    modis_raa = get_raa(modis_vaa, modis_saa)\n",
    "    ahi_raa = get_raa(ahi_vaa, ahi_saa)\n",
    "    raa_condition = numpy.abs(modis_raa - ahi_raa) <= DIFF_RAA_THRESHOLD\n",
    "    return numpy.logical_and(vza_condition, raa_condition)\n",
    "\n",
    "def is_vza_vaa_matched(modis_vza, modis_vaa, ahi_vza, ahi_vaa):\n",
    "    vza_condition = numpy.abs(modis_vza - ahi_vza) <= DIFF_VZA_THRESHOLD\n",
    "    diff_vaa = get_raa(modis_vaa, ahi_vaa)\n",
    "    vaa_condition = diff_vaa <= DIFF_VAA_THRESHOLD\n",
    "    return numpy.logical_and(vza_condition, vaa_condition)"
   ]
  },
  {
   "cell_type": "code",
   "execution_count": 6,
   "id": "28d53933",
   "metadata": {},
   "outputs": [],
   "source": [
    "def get_raa_ray_matched(hdf_file):\n",
    "    info_list = hdf_file.split('.')\n",
    "    time_year = info_list[1][1:5]\n",
    "    time_doy = info_list[1][-3:]\n",
    "    time_HHMM = info_list[2]\n",
    "\n",
    "    doy1_date = datetime.strptime(START_TIME, \"%Y-%m-%dT%H:%M:%SZ\")\n",
    "    doyc_date = doy1_date + timedelta(days=(int(time_doy)-1))\n",
    "    doyc_YYYYmmdd = doyc_date.strftime(\"%Y%m%d\")\n",
    "    doyc_time = doyc_YYYYmmdd + time_HHMM\n",
    "    \n",
    "    modis_vza, modis_sza, modis_vaa, modis_saa = read_modis_angle(hdf_file)\n",
    "    ahi_sza = modis_sza\n",
    "    ahi_saa = modis_saa\n",
    "    \n",
    "    # RAA-matching\n",
    "    raa_match_2d = is_raa_matched(modis_vza, modis_vaa, modis_saa, ahi_vza, ahi_vaa, ahi_saa)\n",
    "    raa_match_2d = raa_match_2d.astype(int)\n",
    "    raa_indices = numpy.argwhere(raa_match_2d == 1)\n",
    "    lon_values = ahi_lons[raa_indices[:, 1]]\n",
    "    lat_values = ahi_lats[raa_indices[:, 0]]\n",
    "    raa_matched_infos = []\n",
    "    # lon lat modis_time modis_vza ahi_vza modis_vaa ahi_vaa modis_sza modis_saa\n",
    "    for lon_val, lat_val in zip(lon_values, lat_values):\n",
    "        lat_idx = int((60 - lat_val)/AHI_RESOLUTION)\n",
    "        lon_idx = int((lon_val - 85)/AHI_RESOLUTION)\n",
    "        modis_time = doyc_time\n",
    "        modis_vza_v = round(modis_vza[lat_idx][lon_idx], 3)\n",
    "        ahi_vza_v = round(ahi_vza[lat_idx][lon_idx], 3)\n",
    "        modis_vaa_v = round(modis_vaa[lat_idx][lon_idx], 3)\n",
    "        ahi_vaa_v = round(ahi_vaa[lat_idx][lon_idx], 3)\n",
    "        modis_sza_v = round(modis_sza[lat_idx][lon_idx], 3)\n",
    "        modis_saa_v = round(modis_saa[lat_idx][lon_idx], 3)\n",
    "        matched_info = [round(lon_val,3), round(lat_val,3), modis_time, modis_vza_v, ahi_vza_v, modis_vaa_v, ahi_vaa_v, modis_sza_v, modis_saa_v]\n",
    "    #     print(matched_info)\n",
    "        raa_matched_infos.append(matched_info)\n",
    "    # print(len(raa_matched_infos))\n",
    "    \n",
    "    # Ray-matching\n",
    "    ray_match_2d = is_vza_vaa_matched(modis_vza, modis_vaa, ahi_vza, ahi_vaa)\n",
    "    ray_match_2d = ray_match_2d.astype(int)\n",
    "    ray_indices = numpy.argwhere(ray_match_2d == 1)\n",
    "    lon_values = ahi_lons[ray_indices[:, 1]]\n",
    "    lat_values = ahi_lats[ray_indices[:, 0]]\n",
    "    # print(len(ray_indices))\n",
    "    ray_matched_infos = []\n",
    "    # lon lat modis_time modis_vza ahi_vza modis_vaa ahi_vaa modis_sza modis_saa\n",
    "    for lon_val, lat_val in zip(lon_values, lat_values):\n",
    "        lat_idx = int((60 - lat_val)/AHI_RESOLUTION)\n",
    "        lon_idx = int((lon_val - 85)/AHI_RESOLUTION)\n",
    "        modis_time = doyc_time\n",
    "        modis_vza_v = round(modis_vza[lat_idx][lon_idx], 3)\n",
    "        ahi_vza_v = round(ahi_vza[lat_idx][lon_idx], 3)\n",
    "        modis_vaa_v = round(modis_vaa[lat_idx][lon_idx], 3)\n",
    "        ahi_vaa_v = round(ahi_vaa[lat_idx][lon_idx], 3)\n",
    "        modis_sza_v = round(modis_sza[lat_idx][lon_idx], 3)\n",
    "        modis_saa_v = round(modis_saa[lat_idx][lon_idx], 3)\n",
    "        matched_info = [round(lon_val,3), round(lat_val,3), modis_time, modis_vza_v, ahi_vza_v, modis_vaa_v, ahi_vaa_v, modis_sza_v, modis_saa_v]\n",
    "    #     print(matched_info)\n",
    "        ray_matched_infos.append(matched_info)\n",
    "    # print(len(ray_matched_infos))\n",
    "    \n",
    "    return raa_matched_infos, ray_matched_infos"
   ]
  },
  {
   "cell_type": "code",
   "execution_count": 7,
   "id": "189e28ac",
   "metadata": {},
   "outputs": [],
   "source": [
    "hdf_file = 'MOD03.A2018311.0110.061.2018311074905.hdf'"
   ]
  },
  {
   "cell_type": "code",
   "execution_count": 8,
   "id": "f42c5b00",
   "metadata": {},
   "outputs": [],
   "source": [
    "hdf_raa_matched_infos, hdf_ray_matched_infos = get_raa_ray_matched(hdf_file)"
   ]
  },
  {
   "cell_type": "code",
   "execution_count": 10,
   "id": "b25e9ecf",
   "metadata": {},
   "outputs": [
    {
     "data": {
      "text/plain": [
       "list"
      ]
     },
     "execution_count": 10,
     "metadata": {},
     "output_type": "execute_result"
    }
   ],
   "source": [
    "type(hdf_raa_matched_infos)"
   ]
  }
 ],
 "metadata": {
  "kernelspec": {
   "display_name": "Python 3",
   "language": "python",
   "name": "python3"
  },
  "language_info": {
   "codemirror_mode": {
    "name": "ipython",
    "version": 3
   },
   "file_extension": ".py",
   "mimetype": "text/x-python",
   "name": "python",
   "nbconvert_exporter": "python",
   "pygments_lexer": "ipython3",
   "version": "3.6.8"
  }
 },
 "nbformat": 4,
 "nbformat_minor": 5
}
